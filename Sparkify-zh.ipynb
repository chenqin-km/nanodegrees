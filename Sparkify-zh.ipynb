{
 "cells": [
  {
   "cell_type": "markdown",
   "metadata": {},
   "source": [
    "# Sparkify 项目"
   ]
  },
  {
   "cell_type": "markdown",
   "metadata": {},
   "source": [
    "学员：陈勤 2020年3月28日"
   ]
  },
  {
   "cell_type": "markdown",
   "metadata": {},
   "source": [
    "## 定义"
   ]
  },
  {
   "cell_type": "markdown",
   "metadata": {},
   "source": [
    "### 项目概览\n",
    "数字音乐服务公司（如网易云音乐、QQ音乐）通过网页、桌面应用和移动应用为用户提供在线音乐服务。用户使用服务过程中，会产生诸如听歌、添加歌单、交友、点击广告、升级VIP和注销等庞大的行为日志。此项目旨在通过抽取日志相关性特征来预测客户流失情况。\n",
    "\n",
    "预测客户流失率是数据科学家和分析师在面向消费者的一类公司中经常遇到的一项具有挑战性的问题。还有，能用 Spark 高效处理大数据集是数据领域职位急需的一种能力。\n",
    "\n",
    "完整的数据集大小为 12GB，通过分析完整数据集的子集（小数据集），使用Spark 集群的时候，把成果迁移到大数据集上。"
   ]
  },
  {
   "cell_type": "markdown",
   "metadata": {},
   "source": [
    "### 问题概述\n",
    "1.把大数据集加载到 Spark 上，并使用 Spark SQL 和 Spark 数据框来操作数据\n",
    "\n",
    "2.对数据进行清理、整理\n",
    "\n",
    "3.对数据进行探索性分析\n",
    "\n",
    "4.提取相关性特征\n",
    "\n",
    "5.在 Spark ML 中使用机器学习 API 来搭建和调整模型"
   ]
  },
  {
   "cell_type": "markdown",
   "metadata": {},
   "source": [
    "### 衡量指标\n",
    "流失用户相对于整体用户的基数非常小（类似于从信用卡用户中找出失信用户），使用F1分数作为优化指标。实现精度和召回率平衡的模型"
   ]
  },
  {
   "cell_type": "markdown",
   "metadata": {},
   "source": [
    "# 加载和清洗数据"
   ]
  },
  {
   "cell_type": "code",
   "execution_count": 3,
   "metadata": {},
   "outputs": [],
   "source": [
    "# import libraries\n",
    "from pyspark.sql import SparkSession\n",
    "from pyspark.sql.functions import udf\n",
    "from pyspark.sql.types import StringType\n",
    "from pyspark.sql.types import IntegerType\n",
    "from pyspark.sql.functions import desc\n",
    "from pyspark.sql.functions import asc\n",
    "from pyspark.sql.functions import sum as Fsum\n",
    "from pyspark.sql import Window\n",
    "from pyspark.ml.feature import RegexTokenizer, VectorAssembler, Normalizer, StandardScaler\n",
    "import datetime\n",
    "\n",
    "import numpy as np\n",
    "import pandas as pd\n",
    "%matplotlib inline\n",
    "import matplotlib.pyplot as plt"
   ]
  },
  {
   "cell_type": "code",
   "execution_count": 4,
   "metadata": {},
   "outputs": [],
   "source": [
    "# create a Spark session\n",
    "spark = SparkSession \\\n",
    "    .builder \\\n",
    "    .appName(\"sparkify\") \\\n",
    "    .getOrCreate()"
   ]
  },
  {
   "cell_type": "code",
   "execution_count": 5,
   "metadata": {},
   "outputs": [
    {
     "data": {
      "text/plain": [
       "Row(artist='Martha Tilston', auth='Logged In', firstName='Colin', gender='M', itemInSession=50, lastName='Freeman', length=277.89016, level='paid', location='Bakersfield, CA', method='PUT', page='NextSong', registration=1538173362000, sessionId=29, song='Rockpools', status=200, ts=1538352117000, userAgent='Mozilla/5.0 (Windows NT 6.1; WOW64; rv:31.0) Gecko/20100101 Firefox/31.0', userId='30')"
      ]
     },
     "execution_count": 5,
     "metadata": {},
     "output_type": "execute_result"
    }
   ],
   "source": [
    "path = \"mini_sparkify_event_data.json\"\n",
    "df = spark.read.json(path)\n",
    "df.head()"
   ]
  },
  {
   "cell_type": "code",
   "execution_count": 4,
   "metadata": {},
   "outputs": [
    {
     "name": "stdout",
     "output_type": "stream",
     "text": [
      "root\n",
      " |-- artist: string (nullable = true)\n",
      " |-- auth: string (nullable = true)\n",
      " |-- firstName: string (nullable = true)\n",
      " |-- gender: string (nullable = true)\n",
      " |-- itemInSession: long (nullable = true)\n",
      " |-- lastName: string (nullable = true)\n",
      " |-- length: double (nullable = true)\n",
      " |-- level: string (nullable = true)\n",
      " |-- location: string (nullable = true)\n",
      " |-- method: string (nullable = true)\n",
      " |-- page: string (nullable = true)\n",
      " |-- registration: long (nullable = true)\n",
      " |-- sessionId: long (nullable = true)\n",
      " |-- song: string (nullable = true)\n",
      " |-- status: long (nullable = true)\n",
      " |-- ts: long (nullable = true)\n",
      " |-- userAgent: string (nullable = true)\n",
      " |-- userId: string (nullable = true)\n",
      "\n"
     ]
    }
   ],
   "source": [
    "df.printSchema()"
   ]
  },
  {
   "cell_type": "code",
   "execution_count": 5,
   "metadata": {},
   "outputs": [
    {
     "data": {
      "text/plain": [
       "286500"
      ]
     },
     "execution_count": 5,
     "metadata": {},
     "output_type": "execute_result"
    }
   ],
   "source": [
    "df.count()"
   ]
  },
  {
   "cell_type": "markdown",
   "metadata": {},
   "source": [
    "## 评估"
   ]
  },
  {
   "cell_type": "markdown",
   "metadata": {},
   "source": [
    "使用 \n",
    "\n",
    "**df.count()**\n",
    "\n",
    "**df.select(\"`column`\").dropDuplicates().sort(\"`column`\").show()**\n",
    "\n",
    "**df.dropna(how = \"any\", subset = [\"`column`\"]).count()**\n",
    "\n",
    "等方法来观察数据,结果如下："
   ]
  },
  {
   "cell_type": "markdown",
   "metadata": {},
   "source": [
    "数据集共有286500条记录，包含的特征如下：\n",
    "\n",
    "- `artist`:创作歌曲的艺术家名字，有**228108**条记录\n",
    "- `auth`:记录登录状态,数据完整无缺失\n",
    "- `firstName`:用户名,有**2278154**条记录\n",
    "- `gender`:性别,有**2278154**条记录\n",
    "- `itemInSession`:当前会话中id,数据完整无缺失\n",
    "- `lastName`:用户姓,有**2278154**条记录\n",
    "- `length`:歌曲长度,有**2228108**条记录\n",
    "- `level`:区分用户付费还是免费，数据完整无缺失\n",
    "- `location`:用户地理位置,有**2278154**条记录\n",
    "- `method`:数据上行还是下行,数据完整无缺失\n",
    "- `page`:用户访问的页面,数据完整无缺失\n",
    "- `registration`:注册时间,有**2278154**条记录\n",
    "- `sessionId`:会话id,数据完整无缺失\n",
    "- `song`:歌曲名,有**2228108**条记录\n",
    "- `status`:用户访问页面的http状态码,数据完整无缺失\n",
    "- `ts`:日志流水时间,数据完整无缺失\n",
    "- `userAgent`用户访问使用的浏览器信息,数据完整无缺失\n",
    "- `userId`用户id,数据完整无缺失"
   ]
  },
  {
   "cell_type": "markdown",
   "metadata": {},
   "source": [
    "从观测值来看，数据分为两个维度：\n",
    "\n",
    "- 从获取到的用户信息来看，有2278154条记录，而userId数据又是完整的，意味着有userId是无效的\n",
    "- 从获取到的歌曲信息来看，有228108条记录，这个是可以接受，毕竟用户不是每一次行为都是听歌"
   ]
  },
  {
   "cell_type": "markdown",
   "metadata": {},
   "source": [
    "### 质量\n",
    "- `userId`列没有空值，但存在**空字符串**,为无效的用户ID\n",
    "- `auth`、`level`、`method`、`page`、`itemInSession`、`sessionId`、`status`、`ts`列没有空值，数据完整\n",
    "- `userAgent`,`registration`,`location`,`firstName`,`lastName`,`gender`列数据存在缺失值，条数都为278154条\n",
    "- `artist`、`song`、`length`存在缺失值，条数都为228108"
   ]
  },
  {
   "cell_type": "markdown",
   "metadata": {},
   "source": [
    "### 清洗\n",
    "- 清洗0：去除`userId`为空字符串的数据"
   ]
  },
  {
   "cell_type": "code",
   "execution_count": 6,
   "metadata": {},
   "outputs": [
    {
     "data": {
      "text/plain": [
       "278154"
      ]
     },
     "execution_count": 6,
     "metadata": {},
     "output_type": "execute_result"
    }
   ],
   "source": [
    "df_clean = df.filter(df[\"userId\"] != \"\")\n",
    "df_clean.count()"
   ]
  },
  {
   "cell_type": "markdown",
   "metadata": {},
   "source": [
    "清洗完`userId`列为空值的数据后，数据条数与`userAgent`,`registration`,`location`,`firstName`,`lastName`,`gender`列一致了\n",
    "\n",
    "`artist`、`song`、`length`为歌曲的播放信息，用户并非每个动作都是听歌，所以存在缺失值是可以接受的"
   ]
  },
  {
   "cell_type": "markdown",
   "metadata": {},
   "source": [
    "# 探索性数据分析\n",
    "观察用户访问页面有那些行为："
   ]
  },
  {
   "cell_type": "code",
   "execution_count": 7,
   "metadata": {},
   "outputs": [
    {
     "name": "stdout",
     "output_type": "stream",
     "text": [
      "+--------------------+\n",
      "|                page|\n",
      "+--------------------+\n",
      "|               About|\n",
      "|          Add Friend|\n",
      "|     Add to Playlist|\n",
      "|              Cancel|\n",
      "|Cancellation Conf...|\n",
      "|           Downgrade|\n",
      "|               Error|\n",
      "|                Help|\n",
      "|                Home|\n",
      "|              Logout|\n",
      "|            NextSong|\n",
      "|         Roll Advert|\n",
      "|       Save Settings|\n",
      "|            Settings|\n",
      "|    Submit Downgrade|\n",
      "|      Submit Upgrade|\n",
      "|         Thumbs Down|\n",
      "|           Thumbs Up|\n",
      "|             Upgrade|\n",
      "+--------------------+\n",
      "\n"
     ]
    }
   ],
   "source": [
    "df_clean.select(\"page\").dropDuplicates().sort(\"page\").show(30)"
   ]
  },
  {
   "cell_type": "markdown",
   "metadata": {},
   "source": [
    "使用 Cancellation Confirmation 事件来定义客户流失"
   ]
  },
  {
   "cell_type": "code",
   "execution_count": 85,
   "metadata": {},
   "outputs": [
    {
     "name": "stdout",
     "output_type": "stream",
     "text": [
      "+------+\n",
      "|userId|\n",
      "+------+\n",
      "|100001|\n",
      "|100003|\n",
      "|100005|\n",
      "|100006|\n",
      "|100007|\n",
      "+------+\n",
      "only showing top 5 rows\n",
      "\n"
     ]
    }
   ],
   "source": [
    "df_clean.select(\"userId\").filter(\"page = 'Cancellation Confirmation'\").sort(\"userId\").show(5)"
   ]
  },
  {
   "cell_type": "markdown",
   "metadata": {},
   "source": [
    "### 定义客户流失\n",
    "\n",
    "创建一列 `Churn` 作为模型的标签。使用 `Cancellation Confirmation` 事件来定义客户流失，该事件在付费或免费客户身上都有发生。"
   ]
  },
  {
   "cell_type": "code",
   "execution_count": 7,
   "metadata": {},
   "outputs": [],
   "source": [
    "# 定义客户流失标记函数 1 为流失 0 为存留\n",
    "flag_cancelled_event = udf(lambda x: 1 if x == \"Cancellation Confirmation\" else 0, IntegerType())\n",
    "# 创建列Churn \n",
    "df_clean = df_clean.withColumn(\"churn\", flag_cancelled_event(\"page\"))"
   ]
  },
  {
   "cell_type": "markdown",
   "metadata": {},
   "source": [
    "日志的时间都是timestamp类型，通过转换格式来观察时间日期"
   ]
  },
  {
   "cell_type": "code",
   "execution_count": 8,
   "metadata": {},
   "outputs": [],
   "source": [
    "# 创建提取年月日的函数\n",
    "get_year = udf(lambda x: datetime.datetime.fromtimestamp(x / 1000, None).strftime(\"%Y\"), StringType())\n",
    "get_month = udf(lambda x: datetime.datetime.fromtimestamp(x / 1000, None).strftime(\"%m\"), StringType())\n",
    "get_day = udf(lambda x: datetime.datetime.fromtimestamp(x / 1000, None).strftime(\"%d\"), StringType())\n",
    "get_hour = udf(lambda x: datetime.datetime.fromtimestamp(x / 1000, None).strftime(\"%H\"), StringType())"
   ]
  },
  {
   "cell_type": "code",
   "execution_count": 9,
   "metadata": {},
   "outputs": [],
   "source": [
    "# 拆分流水时间为年月日小时\n",
    "df_clean = df_clean.withColumn(\"tsyear\", get_year(df_clean.ts))\n",
    "df_clean = df_clean.withColumn(\"tsmonth\", get_month(df_clean.ts))\n",
    "df_clean = df_clean.withColumn(\"tsday\", get_day(df_clean.ts))\n",
    "df_clean = df_clean.withColumn(\"tshour\", get_hour(df_clean.ts))"
   ]
  },
  {
   "cell_type": "markdown",
   "metadata": {},
   "source": [
    "观察一个流失用户的行为"
   ]
  },
  {
   "cell_type": "code",
   "execution_count": 11,
   "metadata": {},
   "outputs": [
    {
     "data": {
      "text/plain": [
       "[Row(userId='100001', tsyear='2018', tsmonth='10', tsday='02', tshour='16', page='Cancellation Confirmation', level='free', churn=1),\n",
       " Row(userId='100001', tsyear='2018', tsmonth='10', tsday='02', tshour='16', page='Cancel', level='free', churn=0),\n",
       " Row(userId='100001', tsyear='2018', tsmonth='10', tsday='02', tshour='16', page='Roll Advert', level='free', churn=0),\n",
       " Row(userId='100001', tsyear='2018', tsmonth='10', tsday='02', tshour='16', page='NextSong', level='free', churn=0),\n",
       " Row(userId='100001', tsyear='2018', tsmonth='10', tsday='02', tshour='16', page='Home', level='free', churn=0),\n",
       " Row(userId='100001', tsyear='2018', tsmonth='10', tsday='02', tshour='16', page='Logout', level='free', churn=0),\n",
       " Row(userId='100001', tsyear='2018', tsmonth='10', tsday='02', tshour='16', page='NextSong', level='free', churn=0),\n",
       " Row(userId='100001', tsyear='2018', tsmonth='10', tsday='02', tshour='16', page='NextSong', level='free', churn=0),\n",
       " Row(userId='100001', tsyear='2018', tsmonth='10', tsday='02', tshour='16', page='NextSong', level='free', churn=0),\n",
       " Row(userId='100001', tsyear='2018', tsmonth='10', tsday='02', tshour='16', page='Help', level='free', churn=0),\n",
       " Row(userId='100001', tsyear='2018', tsmonth='10', tsday='02', tshour='16', page='NextSong', level='free', churn=0),\n",
       " Row(userId='100001', tsyear='2018', tsmonth='10', tsday='02', tshour='16', page='Roll Advert', level='free', churn=0),\n",
       " Row(userId='100001', tsyear='2018', tsmonth='10', tsday='02', tshour='16', page='NextSong', level='free', churn=0),\n",
       " Row(userId='100001', tsyear='2018', tsmonth='10', tsday='02', tshour='16', page='NextSong', level='free', churn=0),\n",
       " Row(userId='100001', tsyear='2018', tsmonth='10', tsday='02', tshour='16', page='NextSong', level='free', churn=0),\n",
       " Row(userId='100001', tsyear='2018', tsmonth='10', tsday='02', tshour='16', page='NextSong', level='free', churn=0),\n",
       " Row(userId='100001', tsyear='2018', tsmonth='10', tsday='02', tshour='15', page='NextSong', level='free', churn=0),\n",
       " Row(userId='100001', tsyear='2018', tsmonth='10', tsday='02', tshour='15', page='NextSong', level='free', churn=0),\n",
       " Row(userId='100001', tsyear='2018', tsmonth='10', tsday='02', tshour='15', page='NextSong', level='free', churn=0),\n",
       " Row(userId='100001', tsyear='2018', tsmonth='10', tsday='02', tshour='15', page='Home', level='free', churn=0),\n",
       " Row(userId='100001', tsyear='2018', tsmonth='10', tsday='02', tshour='14', page='Logout', level='free', churn=0),\n",
       " Row(userId='100001', tsyear='2018', tsmonth='10', tsday='02', tshour='14', page='NextSong', level='free', churn=0),\n",
       " Row(userId='100001', tsyear='2018', tsmonth='10', tsday='02', tshour='14', page='NextSong', level='free', churn=0),\n",
       " Row(userId='100001', tsyear='2018', tsmonth='10', tsday='02', tshour='14', page='NextSong', level='free', churn=0),\n",
       " Row(userId='100001', tsyear='2018', tsmonth='10', tsday='02', tshour='14', page='NextSong', level='free', churn=0),\n",
       " Row(userId='100001', tsyear='2018', tsmonth='10', tsday='02', tshour='14', page='NextSong', level='free', churn=0),\n",
       " Row(userId='100001', tsyear='2018', tsmonth='10', tsday='02', tshour='14', page='NextSong', level='free', churn=0),\n",
       " Row(userId='100001', tsyear='2018', tsmonth='10', tsday='02', tshour='14', page='NextSong', level='free', churn=0),\n",
       " Row(userId='100001', tsyear='2018', tsmonth='10', tsday='02', tshour='14', page='NextSong', level='free', churn=0),\n",
       " Row(userId='100001', tsyear='2018', tsmonth='10', tsday='02', tshour='14', page='Error', level='free', churn=0),\n",
       " Row(userId='100001', tsyear='2018', tsmonth='10', tsday='02', tshour='14', page='NextSong', level='free', churn=0),\n",
       " Row(userId='100001', tsyear='2018', tsmonth='10', tsday='02', tshour='14', page='NextSong', level='free', churn=0),\n",
       " Row(userId='100001', tsyear='2018', tsmonth='10', tsday='02', tshour='14', page='NextSong', level='free', churn=0),\n",
       " Row(userId='100001', tsyear='2018', tsmonth='10', tsday='02', tshour='14', page='NextSong', level='free', churn=0),\n",
       " Row(userId='100001', tsyear='2018', tsmonth='10', tsday='02', tshour='14', page='NextSong', level='free', churn=0),\n",
       " Row(userId='100001', tsyear='2018', tsmonth='10', tsday='02', tshour='13', page='NextSong', level='free', churn=0),\n",
       " Row(userId='100001', tsyear='2018', tsmonth='10', tsday='02', tshour='13', page='NextSong', level='free', churn=0),\n",
       " Row(userId='100001', tsyear='2018', tsmonth='10', tsday='02', tshour='13', page='NextSong', level='free', churn=0),\n",
       " Row(userId='100001', tsyear='2018', tsmonth='10', tsday='02', tshour='13', page='Thumbs Up', level='free', churn=0),\n",
       " Row(userId='100001', tsyear='2018', tsmonth='10', tsday='02', tshour='13', page='Add to Playlist', level='free', churn=0),\n",
       " Row(userId='100001', tsyear='2018', tsmonth='10', tsday='02', tshour='13', page='NextSong', level='free', churn=0),\n",
       " Row(userId='100001', tsyear='2018', tsmonth='10', tsday='02', tshour='13', page='NextSong', level='free', churn=0),\n",
       " Row(userId='100001', tsyear='2018', tsmonth='10', tsday='02', tshour='13', page='NextSong', level='free', churn=0),\n",
       " Row(userId='100001', tsyear='2018', tsmonth='10', tsday='02', tshour='13', page='Thumbs Up', level='free', churn=0),\n",
       " Row(userId='100001', tsyear='2018', tsmonth='10', tsday='02', tshour='13', page='NextSong', level='free', churn=0),\n",
       " Row(userId='100001', tsyear='2018', tsmonth='10', tsday='02', tshour='13', page='Thumbs Up', level='free', churn=0),\n",
       " Row(userId='100001', tsyear='2018', tsmonth='10', tsday='02', tshour='13', page='NextSong', level='free', churn=0),\n",
       " Row(userId='100001', tsyear='2018', tsmonth='10', tsday='02', tshour='13', page='NextSong', level='free', churn=0),\n",
       " Row(userId='100001', tsyear='2018', tsmonth='10', tsday='02', tshour='13', page='Home', level='free', churn=0),\n",
       " Row(userId='100001', tsyear='2018', tsmonth='10', tsday='02', tshour='13', page='NextSong', level='free', churn=0),\n",
       " Row(userId='100001', tsyear='2018', tsmonth='10', tsday='02', tshour='13', page='Add Friend', level='free', churn=0),\n",
       " Row(userId='100001', tsyear='2018', tsmonth='10', tsday='02', tshour='13', page='NextSong', level='free', churn=0),\n",
       " Row(userId='100001', tsyear='2018', tsmonth='10', tsday='02', tshour='13', page='NextSong', level='free', churn=0),\n",
       " Row(userId='100001', tsyear='2018', tsmonth='10', tsday='02', tshour='12', page='Thumbs Up', level='free', churn=0),\n",
       " Row(userId='100001', tsyear='2018', tsmonth='10', tsday='02', tshour='12', page='NextSong', level='free', churn=0),\n",
       " Row(userId='100001', tsyear='2018', tsmonth='10', tsday='02', tshour='12', page='NextSong', level='free', churn=0),\n",
       " Row(userId='100001', tsyear='2018', tsmonth='10', tsday='02', tshour='12', page='Home', level='free', churn=0),\n",
       " Row(userId='100001', tsyear='2018', tsmonth='10', tsday='02', tshour='12', page='Logout', level='free', churn=0),\n",
       " Row(userId='100001', tsyear='2018', tsmonth='10', tsday='02', tshour='12', page='NextSong', level='free', churn=0),\n",
       " Row(userId='100001', tsyear='2018', tsmonth='10', tsday='02', tshour='12', page='NextSong', level='free', churn=0),\n",
       " Row(userId='100001', tsyear='2018', tsmonth='10', tsday='02', tshour='12', page='Roll Advert', level='free', churn=0),\n",
       " Row(userId='100001', tsyear='2018', tsmonth='10', tsday='02', tshour='12', page='NextSong', level='free', churn=0),\n",
       " Row(userId='100001', tsyear='2018', tsmonth='10', tsday='02', tshour='12', page='Roll Advert', level='free', churn=0),\n",
       " Row(userId='100001', tsyear='2018', tsmonth='10', tsday='02', tshour='12', page='NextSong', level='free', churn=0),\n",
       " Row(userId='100001', tsyear='2018', tsmonth='10', tsday='02', tshour='12', page='Home', level='free', churn=0),\n",
       " Row(userId='100001', tsyear='2018', tsmonth='10', tsday='02', tshour='12', page='Logout', level='free', churn=0),\n",
       " Row(userId='100001', tsyear='2018', tsmonth='10', tsday='02', tshour='12', page='NextSong', level='free', churn=0),\n",
       " Row(userId='100001', tsyear='2018', tsmonth='10', tsday='02', tshour='07', page='Add to Playlist', level='free', churn=0),\n",
       " Row(userId='100001', tsyear='2018', tsmonth='10', tsday='02', tshour='07', page='NextSong', level='free', churn=0),\n",
       " Row(userId='100001', tsyear='2018', tsmonth='10', tsday='02', tshour='07', page='NextSong', level='free', churn=0),\n",
       " Row(userId='100001', tsyear='2018', tsmonth='10', tsday='02', tshour='07', page='NextSong', level='free', churn=0),\n",
       " Row(userId='100001', tsyear='2018', tsmonth='10', tsday='02', tshour='07', page='NextSong', level='free', churn=0),\n",
       " Row(userId='100001', tsyear='2018', tsmonth='10', tsday='02', tshour='07', page='NextSong', level='free', churn=0),\n",
       " Row(userId='100001', tsyear='2018', tsmonth='10', tsday='02', tshour='07', page='NextSong', level='free', churn=0),\n",
       " Row(userId='100001', tsyear='2018', tsmonth='10', tsday='02', tshour='06', page='Roll Advert', level='free', churn=0),\n",
       " Row(userId='100001', tsyear='2018', tsmonth='10', tsday='02', tshour='06', page='Roll Advert', level='free', churn=0),\n",
       " Row(userId='100001', tsyear='2018', tsmonth='10', tsday='02', tshour='06', page='NextSong', level='free', churn=0),\n",
       " Row(userId='100001', tsyear='2018', tsmonth='10', tsday='02', tshour='06', page='Upgrade', level='free', churn=0),\n",
       " Row(userId='100001', tsyear='2018', tsmonth='10', tsday='02', tshour='06', page='NextSong', level='free', churn=0),\n",
       " Row(userId='100001', tsyear='2018', tsmonth='10', tsday='02', tshour='06', page='NextSong', level='free', churn=0),\n",
       " Row(userId='100001', tsyear='2018', tsmonth='10', tsday='02', tshour='06', page='NextSong', level='free', churn=0),\n",
       " Row(userId='100001', tsyear='2018', tsmonth='10', tsday='02', tshour='06', page='Thumbs Up', level='free', churn=0),\n",
       " Row(userId='100001', tsyear='2018', tsmonth='10', tsday='02', tshour='06', page='NextSong', level='free', churn=0),\n",
       " Row(userId='100001', tsyear='2018', tsmonth='10', tsday='02', tshour='06', page='NextSong', level='free', churn=0),\n",
       " Row(userId='100001', tsyear='2018', tsmonth='10', tsday='02', tshour='06', page='NextSong', level='free', churn=0),\n",
       " Row(userId='100001', tsyear='2018', tsmonth='10', tsday='02', tshour='06', page='NextSong', level='free', churn=0),\n",
       " Row(userId='100001', tsyear='2018', tsmonth='10', tsday='02', tshour='06', page='NextSong', level='free', churn=0),\n",
       " Row(userId='100001', tsyear='2018', tsmonth='10', tsday='02', tshour='06', page='Thumbs Up', level='free', churn=0),\n",
       " Row(userId='100001', tsyear='2018', tsmonth='10', tsday='02', tshour='06', page='NextSong', level='free', churn=0),\n",
       " Row(userId='100001', tsyear='2018', tsmonth='10', tsday='02', tshour='06', page='NextSong', level='free', churn=0),\n",
       " Row(userId='100001', tsyear='2018', tsmonth='10', tsday='02', tshour='06', page='NextSong', level='free', churn=0),\n",
       " Row(userId='100001', tsyear='2018', tsmonth='10', tsday='02', tshour='06', page='NextSong', level='free', churn=0),\n",
       " Row(userId='100001', tsyear='2018', tsmonth='10', tsday='02', tshour='06', page='Roll Advert', level='free', churn=0),\n",
       " Row(userId='100001', tsyear='2018', tsmonth='10', tsday='02', tshour='06', page='NextSong', level='free', churn=0),\n",
       " Row(userId='100001', tsyear='2018', tsmonth='10', tsday='02', tshour='05', page='NextSong', level='free', churn=0),\n",
       " Row(userId='100001', tsyear='2018', tsmonth='10', tsday='02', tshour='05', page='NextSong', level='free', churn=0),\n",
       " Row(userId='100001', tsyear='2018', tsmonth='10', tsday='02', tshour='05', page='Upgrade', level='free', churn=0),\n",
       " Row(userId='100001', tsyear='2018', tsmonth='10', tsday='02', tshour='05', page='NextSong', level='free', churn=0),\n",
       " Row(userId='100001', tsyear='2018', tsmonth='10', tsday='02', tshour='05', page='NextSong', level='free', churn=0),\n",
       " Row(userId='100001', tsyear='2018', tsmonth='10', tsday='02', tshour='05', page='NextSong', level='free', churn=0),\n",
       " Row(userId='100001', tsyear='2018', tsmonth='10', tsday='02', tshour='05', page='NextSong', level='free', churn=0),\n",
       " Row(userId='100001', tsyear='2018', tsmonth='10', tsday='02', tshour='05', page='Thumbs Down', level='free', churn=0),\n",
       " Row(userId='100001', tsyear='2018', tsmonth='10', tsday='02', tshour='05', page='NextSong', level='free', churn=0),\n",
       " Row(userId='100001', tsyear='2018', tsmonth='10', tsday='02', tshour='05', page='Home', level='free', churn=0),\n",
       " Row(userId='100001', tsyear='2018', tsmonth='10', tsday='02', tshour='05', page='NextSong', level='free', churn=0),\n",
       " Row(userId='100001', tsyear='2018', tsmonth='10', tsday='02', tshour='05', page='NextSong', level='free', churn=0),\n",
       " Row(userId='100001', tsyear='2018', tsmonth='10', tsday='02', tshour='05', page='NextSong', level='free', churn=0),\n",
       " Row(userId='100001', tsyear='2018', tsmonth='10', tsday='02', tshour='05', page='NextSong', level='free', churn=0),\n",
       " Row(userId='100001', tsyear='2018', tsmonth='10', tsday='02', tshour='05', page='NextSong', level='free', churn=0),\n",
       " Row(userId='100001', tsyear='2018', tsmonth='10', tsday='02', tshour='05', page='Roll Advert', level='free', churn=0),\n",
       " Row(userId='100001', tsyear='2018', tsmonth='10', tsday='02', tshour='05', page='NextSong', level='free', churn=0),\n",
       " Row(userId='100001', tsyear='2018', tsmonth='10', tsday='02', tshour='05', page='NextSong', level='free', churn=0),\n",
       " Row(userId='100001', tsyear='2018', tsmonth='10', tsday='02', tshour='05', page='Home', level='free', churn=0),\n",
       " Row(userId='100001', tsyear='2018', tsmonth='10', tsday='02', tshour='05', page='NextSong', level='free', churn=0),\n",
       " Row(userId='100001', tsyear='2018', tsmonth='10', tsday='02', tshour='04', page='NextSong', level='free', churn=0),\n",
       " Row(userId='100001', tsyear='2018', tsmonth='10', tsday='02', tshour='04', page='NextSong', level='free', churn=0),\n",
       " Row(userId='100001', tsyear='2018', tsmonth='10', tsday='02', tshour='04', page='NextSong', level='free', churn=0),\n",
       " Row(userId='100001', tsyear='2018', tsmonth='10', tsday='02', tshour='04', page='Settings', level='free', churn=0),\n",
       " Row(userId='100001', tsyear='2018', tsmonth='10', tsday='02', tshour='04', page='NextSong', level='free', churn=0),\n",
       " Row(userId='100001', tsyear='2018', tsmonth='10', tsday='02', tshour='04', page='NextSong', level='free', churn=0),\n",
       " Row(userId='100001', tsyear='2018', tsmonth='10', tsday='02', tshour='04', page='NextSong', level='free', churn=0),\n",
       " Row(userId='100001', tsyear='2018', tsmonth='10', tsday='02', tshour='04', page='NextSong', level='free', churn=0),\n",
       " Row(userId='100001', tsyear='2018', tsmonth='10', tsday='02', tshour='04', page='NextSong', level='free', churn=0),\n",
       " Row(userId='100001', tsyear='2018', tsmonth='10', tsday='02', tshour='04', page='NextSong', level='free', churn=0),\n",
       " Row(userId='100001', tsyear='2018', tsmonth='10', tsday='02', tshour='04', page='NextSong', level='free', churn=0),\n",
       " Row(userId='100001', tsyear='2018', tsmonth='10', tsday='02', tshour='04', page='NextSong', level='free', churn=0),\n",
       " Row(userId='100001', tsyear='2018', tsmonth='10', tsday='02', tshour='04', page='Roll Advert', level='free', churn=0),\n",
       " Row(userId='100001', tsyear='2018', tsmonth='10', tsday='02', tshour='04', page='NextSong', level='free', churn=0),\n",
       " Row(userId='100001', tsyear='2018', tsmonth='10', tsday='02', tshour='04', page='NextSong', level='free', churn=0),\n",
       " Row(userId='100001', tsyear='2018', tsmonth='10', tsday='02', tshour='04', page='NextSong', level='free', churn=0),\n",
       " Row(userId='100001', tsyear='2018', tsmonth='10', tsday='02', tshour='03', page='NextSong', level='free', churn=0),\n",
       " Row(userId='100001', tsyear='2018', tsmonth='10', tsday='02', tshour='03', page='NextSong', level='free', churn=0),\n",
       " Row(userId='100001', tsyear='2018', tsmonth='10', tsday='02', tshour='03', page='Thumbs Up', level='free', churn=0),\n",
       " Row(userId='100001', tsyear='2018', tsmonth='10', tsday='02', tshour='03', page='NextSong', level='free', churn=0),\n",
       " Row(userId='100001', tsyear='2018', tsmonth='10', tsday='02', tshour='03', page='NextSong', level='free', churn=0),\n",
       " Row(userId='100001', tsyear='2018', tsmonth='10', tsday='02', tshour='03', page='Home', level='free', churn=0),\n",
       " Row(userId='100001', tsyear='2018', tsmonth='10', tsday='01', tshour='09', page='Logout', level='free', churn=0),\n",
       " Row(userId='100001', tsyear='2018', tsmonth='10', tsday='01', tshour='09', page='NextSong', level='free', churn=0),\n",
       " Row(userId='100001', tsyear='2018', tsmonth='10', tsday='01', tshour='09', page='Add to Playlist', level='free', churn=0),\n",
       " Row(userId='100001', tsyear='2018', tsmonth='10', tsday='01', tshour='09', page='NextSong', level='free', churn=0),\n",
       " Row(userId='100001', tsyear='2018', tsmonth='10', tsday='01', tshour='09', page='NextSong', level='free', churn=0),\n",
       " Row(userId='100001', tsyear='2018', tsmonth='10', tsday='01', tshour='09', page='Thumbs Up', level='free', churn=0),\n",
       " Row(userId='100001', tsyear='2018', tsmonth='10', tsday='01', tshour='09', page='NextSong', level='free', churn=0),\n",
       " Row(userId='100001', tsyear='2018', tsmonth='10', tsday='01', tshour='09', page='NextSong', level='free', churn=0),\n",
       " Row(userId='100001', tsyear='2018', tsmonth='10', tsday='01', tshour='09', page='NextSong', level='free', churn=0),\n",
       " Row(userId='100001', tsyear='2018', tsmonth='10', tsday='01', tshour='08', page='NextSong', level='free', churn=0),\n",
       " Row(userId='100001', tsyear='2018', tsmonth='10', tsday='01', tshour='08', page='Add Friend', level='free', churn=0),\n",
       " Row(userId='100001', tsyear='2018', tsmonth='10', tsday='01', tshour='08', page='NextSong', level='free', churn=0),\n",
       " Row(userId='100001', tsyear='2018', tsmonth='10', tsday='01', tshour='08', page='Home', level='free', churn=0),\n",
       " Row(userId='100001', tsyear='2018', tsmonth='10', tsday='01', tshour='08', page='Logout', level='free', churn=0),\n",
       " Row(userId='100001', tsyear='2018', tsmonth='10', tsday='01', tshour='08', page='NextSong', level='free', churn=0),\n",
       " Row(userId='100001', tsyear='2018', tsmonth='10', tsday='01', tshour='08', page='NextSong', level='free', churn=0),\n",
       " Row(userId='100001', tsyear='2018', tsmonth='10', tsday='01', tshour='08', page='NextSong', level='free', churn=0),\n",
       " Row(userId='100001', tsyear='2018', tsmonth='10', tsday='01', tshour='08', page='NextSong', level='free', churn=0),\n",
       " Row(userId='100001', tsyear='2018', tsmonth='10', tsday='01', tshour='08', page='Roll Advert', level='free', churn=0),\n",
       " Row(userId='100001', tsyear='2018', tsmonth='10', tsday='01', tshour='08', page='NextSong', level='free', churn=0),\n",
       " Row(userId='100001', tsyear='2018', tsmonth='10', tsday='01', tshour='08', page='Roll Advert', level='free', churn=0),\n",
       " Row(userId='100001', tsyear='2018', tsmonth='10', tsday='01', tshour='08', page='NextSong', level='free', churn=0),\n",
       " Row(userId='100001', tsyear='2018', tsmonth='10', tsday='01', tshour='08', page='NextSong', level='free', churn=0),\n",
       " Row(userId='100001', tsyear='2018', tsmonth='10', tsday='01', tshour='08', page='NextSong', level='free', churn=0),\n",
       " Row(userId='100001', tsyear='2018', tsmonth='10', tsday='01', tshour='08', page='NextSong', level='free', churn=0),\n",
       " Row(userId='100001', tsyear='2018', tsmonth='10', tsday='01', tshour='08', page='NextSong', level='free', churn=0),\n",
       " Row(userId='100001', tsyear='2018', tsmonth='10', tsday='01', tshour='08', page='Thumbs Down', level='free', churn=0),\n",
       " Row(userId='100001', tsyear='2018', tsmonth='10', tsday='01', tshour='08', page='NextSong', level='free', churn=0),\n",
       " Row(userId='100001', tsyear='2018', tsmonth='10', tsday='01', tshour='08', page='NextSong', level='free', churn=0),\n",
       " Row(userId='100001', tsyear='2018', tsmonth='10', tsday='01', tshour='07', page='NextSong', level='free', churn=0),\n",
       " Row(userId='100001', tsyear='2018', tsmonth='10', tsday='01', tshour='07', page='Home', level='free', churn=0),\n",
       " Row(userId='100001', tsyear='2018', tsmonth='10', tsday='01', tshour='07', page='Logout', level='free', churn=0),\n",
       " Row(userId='100001', tsyear='2018', tsmonth='10', tsday='01', tshour='07', page='NextSong', level='free', churn=0),\n",
       " Row(userId='100001', tsyear='2018', tsmonth='10', tsday='01', tshour='07', page='NextSong', level='free', churn=0),\n",
       " Row(userId='100001', tsyear='2018', tsmonth='10', tsday='01', tshour='07', page='NextSong', level='free', churn=0),\n",
       " Row(userId='100001', tsyear='2018', tsmonth='10', tsday='01', tshour='07', page='NextSong', level='free', churn=0),\n",
       " Row(userId='100001', tsyear='2018', tsmonth='10', tsday='01', tshour='07', page='Roll Advert', level='free', churn=0),\n",
       " Row(userId='100001', tsyear='2018', tsmonth='10', tsday='01', tshour='07', page='NextSong', level='free', churn=0),\n",
       " Row(userId='100001', tsyear='2018', tsmonth='10', tsday='01', tshour='07', page='NextSong', level='free', churn=0),\n",
       " Row(userId='100001', tsyear='2018', tsmonth='10', tsday='01', tshour='07', page='NextSong', level='free', churn=0),\n",
       " Row(userId='100001', tsyear='2018', tsmonth='10', tsday='01', tshour='07', page='NextSong', level='free', churn=0),\n",
       " Row(userId='100001', tsyear='2018', tsmonth='10', tsday='01', tshour='07', page='NextSong', level='free', churn=0),\n",
       " Row(userId='100001', tsyear='2018', tsmonth='10', tsday='01', tshour='07', page='NextSong', level='free', churn=0),\n",
       " Row(userId='100001', tsyear='2018', tsmonth='10', tsday='01', tshour='07', page='NextSong', level='free', churn=0),\n",
       " Row(userId='100001', tsyear='2018', tsmonth='10', tsday='01', tshour='07', page='NextSong', level='free', churn=0),\n",
       " Row(userId='100001', tsyear='2018', tsmonth='10', tsday='01', tshour='07', page='NextSong', level='free', churn=0),\n",
       " Row(userId='100001', tsyear='2018', tsmonth='10', tsday='01', tshour='06', page='Roll Advert', level='free', churn=0),\n",
       " Row(userId='100001', tsyear='2018', tsmonth='10', tsday='01', tshour='06', page='NextSong', level='free', churn=0),\n",
       " Row(userId='100001', tsyear='2018', tsmonth='10', tsday='01', tshour='06', page='Roll Advert', level='free', churn=0),\n",
       " Row(userId='100001', tsyear='2018', tsmonth='10', tsday='01', tshour='06', page='NextSong', level='free', churn=0),\n",
       " Row(userId='100001', tsyear='2018', tsmonth='10', tsday='01', tshour='06', page='Home', level='free', churn=0)]"
      ]
     },
     "execution_count": 11,
     "metadata": {},
     "output_type": "execute_result"
    }
   ],
   "source": [
    "df_clean.select([\"userId\", \"tsyear\", \"tsmonth\", \"tsday\", \"tshour\", \"page\", \"level\", \"churn\"]).filter(df_clean.userId == \"100001\").sort(desc(\"ts\")).collect()"
   ]
  },
  {
   "cell_type": "markdown",
   "metadata": {},
   "source": [
    "### 探索数据\n",
    "从观察数据中来看，每一条日志记录了用户的一个动作，我决定采用page特征做为最主要的探索对象，将page中的重要动作提取出来进行独热编码"
   ]
  },
  {
   "cell_type": "code",
   "execution_count": 10,
   "metadata": {},
   "outputs": [],
   "source": [
    "# 定义标记用户交友的函数\n",
    "flag_frenid_event = udf(lambda x: 1 if x == \"Add Friend\" else 0, IntegerType())\n",
    "# 创建列friend\n",
    "df_clean = df_clean.withColumn(\"friend\", flag_frenid_event(\"page\"))\n",
    "\n",
    "# 定义标记用户添加歌单的动作\n",
    "flag_addplaylist_event = udf(lambda x: 1 if x == \"Add to Playlist\" else 0, IntegerType())\n",
    "# 创建列addplaylist\n",
    "df_clean = df_clean.withColumn(\"addplaylist\", flag_addplaylist_event(\"page\"))\n",
    "\n",
    "# 定义标记用户注销动作\n",
    "flag_cancel_event = udf(lambda x: 1 if x == \"Cancel\" else 0, IntegerType())\n",
    "# 创建列cancel\n",
    "df_clean = df_clean.withColumn(\"cancel\", flag_cancel_event(\"page\"))\n",
    "\n",
    "# 定义客户有降级动作的函数\n",
    "flag_downgrade_action = udf(lambda x: 1 if x == \"Downgrade\" else 0, IntegerType())\n",
    "df_clean = df_clean.withColumn(\"downgrade\", flag_downgrade_action(\"page\"))\n",
    "\n",
    "# 定义标记用户访问错误的动作\n",
    "flag_error_event = udf(lambda x: 1 if x == \"Error\" else 0, IntegerType())\n",
    "# 创建列error\n",
    "df_clean = df_clean.withColumn(\"error\", flag_error_event(\"page\"))\n",
    "\n",
    "# 定义标记用户点击帮助的动作\n",
    "flag_help_event = udf(lambda x: 1 if x == \"Help\" else 0, IntegerType())\n",
    "# 创建列error\n",
    "df_clean = df_clean.withColumn(\"help\", flag_help_event(\"page\"))\n",
    "\n",
    "# 定义用户登出的函数\n",
    "flag_logout_event = udf(lambda x: 1 if x == \"Logout\" else 0, IntegerType())\n",
    "# 创建列logout\n",
    "df_clean = df_clean.withColumn(\"logout\", flag_logout_event(\"page\"))\n",
    "\n",
    "# 定义标记用户听歌的函数\n",
    "flag_song_event = udf(lambda x: 1 if x == \"NextSong\" else 0, IntegerType())\n",
    "# 创建列song\n",
    "df_clean = df_clean.withColumn(\"song\", flag_song_event(\"page\"))\n",
    "\n",
    "# 定义标记用户升级动作的函数\n",
    "flag_upgrade_action = udf(lambda x: 1 if x == \"Upgrade\" else 0, IntegerType())\n",
    "# 创建列upgrade\n",
    "df_clean = df_clean.withColumn(\"upgrade\", flag_upgrade_action(\"page\"))\n",
    "\n",
    "# 定义标记用户升级的函数\n",
    "flag_upgrade_event = udf(lambda x: 1 if x == \"Submit Upgrade\" else 0, IntegerType())\n",
    "# 创建列upgraded\n",
    "df_clean = df_clean.withColumn(\"upgraded\", flag_upgrade_event(\"page\"))\n",
    "\n",
    "# 定义标记客户降级的函数\n",
    "flag_downgrade_event = udf(lambda x: 1 if x == \"Submit Downgrade\" else 0, IntegerType())\n",
    "# 创建列downgraded\n",
    "df_clean = df_clean.withColumn(\"downgraded\", flag_downgrade_event(\"page\"))\n",
    "\n",
    "# 定义标记客户滚动广告的函数\n",
    "flag_advert_event = udf(lambda x: 1 if x == \"Roll Advert\" else 0, IntegerType())\n",
    "# 创建列dadvert\n",
    "df_clean = df_clean.withColumn(\"advert\", flag_advert_event(\"page\"))\n",
    "\n",
    "# 定义收费免费标志\n",
    "flag_level_event = udf(lambda x: 1 if x == \"paid\" else 0, IntegerType())\n",
    "df_clean = df_clean.withColumn(\"lv\", flag_level_event(\"level\"))\n"
   ]
  },
  {
   "cell_type": "markdown",
   "metadata": {},
   "source": [
    "编码完成后，增加了12个特征，并进行了独热编码：\n",
    "\n",
    "1.`friend`:用户的交友行为\n",
    "\n",
    "2.`addplaylist`:用户添加歌单的行为\n",
    "\n",
    "3.`cancel`:用户想要注销的行为\n",
    "\n",
    "4.`downgrade`:用户想要降级的行为\n",
    "\n",
    "5.`error`:用户访问发生错误的行为\n",
    "\n",
    "6.`help`:用户访问帮助页面的行为\n",
    "\n",
    "7.`logout`:用户登出的行为\n",
    "\n",
    "8.`upgrade`:用户想要升级的行为\n",
    "\n",
    "9.`upgraded`:用户确定升级的事件\n",
    "\n",
    "10.`downgraded`:用户确定降级的事件\n",
    "\n",
    "11.`advert`:用户点击广告的行为\n",
    "\n",
    "12.`lv`:标识用户付费还是免费"
   ]
  },
  {
   "cell_type": "markdown",
   "metadata": {},
   "source": [
    "按用户分组，汇总所有的行为和事件，在此过程中，发现听歌的事件在数量级上远大于其他事件，决定废弃听歌事件，以免对其他特征干扰太大"
   ]
  },
  {
   "cell_type": "code",
   "execution_count": 11,
   "metadata": {},
   "outputs": [],
   "source": [
    "df_clean.createOrReplaceTempView(\"user_log_table\")"
   ]
  },
  {
   "cell_type": "code",
   "execution_count": 12,
   "metadata": {},
   "outputs": [],
   "source": [
    "# 将用户的动作汇总\n",
    "user_acts = spark.sql('''SELECT  userId, \n",
    "                                 lv,\n",
    "                                 sum(churn) as churn,\n",
    "                                 sum(friend) as friend,\n",
    "                                 sum(addplaylist) as addplaylist,\n",
    "                                 sum(cancel) as cancel,\n",
    "                                 sum(downgrade) as downgrade,\n",
    "                                 sum(error) as error,\n",
    "                                 sum(help) as help,\n",
    "                                 sum(logout) as logout,\n",
    "                                 sum(advert) as advert,\n",
    "                                 sum(upgrade) as upgrade,\n",
    "                                 sum(upgraded) as upgraded,\n",
    "                                 sum(downgraded) as downgraded\n",
    "                           from  user_log_table\n",
    "                       group by  userId, lv ''')"
   ]
  },
  {
   "cell_type": "code",
   "execution_count": 13,
   "metadata": {},
   "outputs": [],
   "source": [
    "pd_user_acts = user_acts.toPandas()"
   ]
  },
  {
   "cell_type": "code",
   "execution_count": 51,
   "metadata": {},
   "outputs": [
    {
     "data": {
      "text/html": [
       "<div>\n",
       "<style scoped>\n",
       "    .dataframe tbody tr th:only-of-type {\n",
       "        vertical-align: middle;\n",
       "    }\n",
       "\n",
       "    .dataframe tbody tr th {\n",
       "        vertical-align: top;\n",
       "    }\n",
       "\n",
       "    .dataframe thead th {\n",
       "        text-align: right;\n",
       "    }\n",
       "</style>\n",
       "<table border=\"1\" class=\"dataframe\">\n",
       "  <thead>\n",
       "    <tr style=\"text-align: right;\">\n",
       "      <th></th>\n",
       "      <th>userId</th>\n",
       "      <th>lv</th>\n",
       "      <th>churn</th>\n",
       "      <th>friend</th>\n",
       "      <th>addplaylist</th>\n",
       "      <th>cancel</th>\n",
       "      <th>downgrade</th>\n",
       "      <th>error</th>\n",
       "      <th>help</th>\n",
       "      <th>logout</th>\n",
       "      <th>advert</th>\n",
       "      <th>upgrade</th>\n",
       "      <th>upgraded</th>\n",
       "      <th>downgraded</th>\n",
       "    </tr>\n",
       "  </thead>\n",
       "  <tbody>\n",
       "    <tr>\n",
       "      <th>0</th>\n",
       "      <td>73</td>\n",
       "      <td>0</td>\n",
       "      <td>0</td>\n",
       "      <td>0</td>\n",
       "      <td>0</td>\n",
       "      <td>0</td>\n",
       "      <td>0</td>\n",
       "      <td>0</td>\n",
       "      <td>0</td>\n",
       "      <td>0</td>\n",
       "      <td>0</td>\n",
       "      <td>1</td>\n",
       "      <td>1</td>\n",
       "      <td>0</td>\n",
       "    </tr>\n",
       "    <tr>\n",
       "      <th>1</th>\n",
       "      <td>69</td>\n",
       "      <td>1</td>\n",
       "      <td>0</td>\n",
       "      <td>10</td>\n",
       "      <td>32</td>\n",
       "      <td>0</td>\n",
       "      <td>9</td>\n",
       "      <td>4</td>\n",
       "      <td>7</td>\n",
       "      <td>10</td>\n",
       "      <td>1</td>\n",
       "      <td>0</td>\n",
       "      <td>0</td>\n",
       "      <td>0</td>\n",
       "    </tr>\n",
       "    <tr>\n",
       "      <th>2</th>\n",
       "      <td>37</td>\n",
       "      <td>1</td>\n",
       "      <td>0</td>\n",
       "      <td>21</td>\n",
       "      <td>35</td>\n",
       "      <td>0</td>\n",
       "      <td>13</td>\n",
       "      <td>3</td>\n",
       "      <td>2</td>\n",
       "      <td>12</td>\n",
       "      <td>1</td>\n",
       "      <td>0</td>\n",
       "      <td>0</td>\n",
       "      <td>0</td>\n",
       "    </tr>\n",
       "    <tr>\n",
       "      <th>3</th>\n",
       "      <td>139</td>\n",
       "      <td>1</td>\n",
       "      <td>0</td>\n",
       "      <td>6</td>\n",
       "      <td>9</td>\n",
       "      <td>0</td>\n",
       "      <td>9</td>\n",
       "      <td>1</td>\n",
       "      <td>1</td>\n",
       "      <td>5</td>\n",
       "      <td>0</td>\n",
       "      <td>0</td>\n",
       "      <td>0</td>\n",
       "      <td>0</td>\n",
       "    </tr>\n",
       "    <tr>\n",
       "      <th>4</th>\n",
       "      <td>300007</td>\n",
       "      <td>1</td>\n",
       "      <td>1</td>\n",
       "      <td>4</td>\n",
       "      <td>4</td>\n",
       "      <td>1</td>\n",
       "      <td>2</td>\n",
       "      <td>0</td>\n",
       "      <td>1</td>\n",
       "      <td>0</td>\n",
       "      <td>2</td>\n",
       "      <td>0</td>\n",
       "      <td>0</td>\n",
       "      <td>0</td>\n",
       "    </tr>\n",
       "  </tbody>\n",
       "</table>\n",
       "</div>"
      ],
      "text/plain": [
       "   userId  lv  churn  friend  addplaylist  cancel  downgrade  error  help  \\\n",
       "0      73   0      0       0            0       0          0      0     0   \n",
       "1      69   1      0      10           32       0          9      4     7   \n",
       "2      37   1      0      21           35       0         13      3     2   \n",
       "3     139   1      0       6            9       0          9      1     1   \n",
       "4  300007   1      1       4            4       1          2      0     1   \n",
       "\n",
       "   logout  advert  upgrade  upgraded  downgraded  \n",
       "0       0       0        1         1           0  \n",
       "1      10       1        0         0           0  \n",
       "2      12       1        0         0           0  \n",
       "3       5       0        0         0           0  \n",
       "4       0       2        0         0           0  "
      ]
     },
     "execution_count": 51,
     "metadata": {},
     "output_type": "execute_result"
    }
   ],
   "source": [
    "pd_user_acts.head()"
   ]
  },
  {
   "cell_type": "markdown",
   "metadata": {},
   "source": [
    "#### 探索免费用户的行为"
   ]
  },
  {
   "cell_type": "code",
   "execution_count": 56,
   "metadata": {},
   "outputs": [],
   "source": [
    "user_acts_sub = pd_user_acts[pd_user_acts.lv == 0].iloc[:,3:]\n",
    "# 创建百分比\n",
    "user_acts_sub = user_acts_sub.div(user_acts_sub.sum(axis=1), axis=0)"
   ]
  },
  {
   "cell_type": "code",
   "execution_count": 57,
   "metadata": {},
   "outputs": [
    {
     "data": {
      "text/plain": [
       "Text(0,0.5,'count')"
      ]
     },
     "execution_count": 57,
     "metadata": {},
     "output_type": "execute_result"
    },
    {
     "data": {
      "image/png": "[encoded data removed]",
      "text/plain": [
       "<matplotlib.figure.Figure at 0x7fe2bfcde748>"
      ]
     },
     "metadata": {
      "needs_background": "light"
     },
     "output_type": "display_data"
    }
   ],
   "source": [
    "user_acts_sub.mean().sort_values(ascending = False).plot.bar()\n",
    "\n",
    "plt.title(\"free users acts statistic\")\n",
    "plt.xlabel(\"act\")\n",
    "plt.ylabel(\"count\")"
   ]
  },
  {
   "cell_type": "markdown",
   "metadata": {},
   "source": [
    "#### 探索免费流失用户的行为"
   ]
  },
  {
   "cell_type": "code",
   "execution_count": 58,
   "metadata": {},
   "outputs": [],
   "source": [
    "user_acts_sub = pd_user_acts[(pd_user_acts.lv == 0) & (pd_user_acts.churn == 1)].iloc[:,3:]\n",
    "# 创建百分比\n",
    "user_acts_sub = user_acts_sub.div(user_acts_sub.sum(axis=1), axis=0)"
   ]
  },
  {
   "cell_type": "code",
   "execution_count": 60,
   "metadata": {},
   "outputs": [
    {
     "data": {
      "text/plain": [
       "Text(0,0.5,'count')"
      ]
     },
     "execution_count": 60,
     "metadata": {},
     "output_type": "execute_result"
    },
    {
     "data": {
      "image/png": "[encoded data removed]",
      "text/plain": [
       "<matplotlib.figure.Figure at 0x7fe2bfbb74a8>"
      ]
     },
     "metadata": {
      "needs_background": "light"
     },
     "output_type": "display_data"
    }
   ],
   "source": [
    "user_acts_sub.mean().sort_values(ascending = False).plot.bar()\n",
    "\n",
    "plt.title(\"free&cancel users acts statistic\")\n",
    "plt.xlabel(\"act\")\n",
    "plt.ylabel(\"count\")"
   ]
  },
  {
   "cell_type": "markdown",
   "metadata": {},
   "source": [
    "从免费用户的统计图表来看：\n",
    "- 广告点击事件的占比远高于其他事件\n",
    "- 流失客户交友的占比低于存留用户\n",
    "- 流失客户想要注销的占比高于存留客户"
   ]
  },
  {
   "cell_type": "markdown",
   "metadata": {},
   "source": [
    "#### 探索付费用户的行为"
   ]
  },
  {
   "cell_type": "code",
   "execution_count": 62,
   "metadata": {},
   "outputs": [],
   "source": [
    "user_acts_sub = pd_user_acts[pd_user_acts.lv == 1].iloc[:,3:]\n",
    "# 创建百分比\n",
    "user_acts_sub = user_acts_sub.div(user_acts_sub.sum(axis=1), axis=0)"
   ]
  },
  {
   "cell_type": "code",
   "execution_count": 63,
   "metadata": {},
   "outputs": [
    {
     "data": {
      "text/plain": [
       "Text(0,0.5,'count')"
      ]
     },
     "execution_count": 63,
     "metadata": {},
     "output_type": "execute_result"
    },
    {
     "data": {
      "image/png": "[encoded data removed]",
      "text/plain": [
       "<matplotlib.figure.Figure at 0x7fe2bfb41e80>"
      ]
     },
     "metadata": {
      "needs_background": "light"
     },
     "output_type": "display_data"
    }
   ],
   "source": [
    "user_acts_sub.mean().sort_values(ascending = False).plot.bar()\n",
    "\n",
    "plt.title(\"paid users acts statistic\")\n",
    "plt.xlabel(\"act\")\n",
    "plt.ylabel(\"count\")"
   ]
  },
  {
   "cell_type": "markdown",
   "metadata": {},
   "source": [
    "探索付费用户的统计图表，发现一个有意思的事，广告对用户的干扰占比很小，添加歌曲和交友占比变高起来"
   ]
  },
  {
   "cell_type": "markdown",
   "metadata": {},
   "source": [
    "#### 探索付费用户降级的行为"
   ]
  },
  {
   "cell_type": "code",
   "execution_count": 64,
   "metadata": {},
   "outputs": [
    {
     "data": {
      "text/plain": [
       "Text(0,0.5,'count')"
      ]
     },
     "execution_count": 64,
     "metadata": {},
     "output_type": "execute_result"
    },
    {
     "data": {
      "image/png": "[encoded data removed]",
      "text/plain": [
       "<matplotlib.figure.Figure at 0x7fe2bfb41cc0>"
      ]
     },
     "metadata": {
      "needs_background": "light"
     },
     "output_type": "display_data"
    }
   ],
   "source": [
    "user_acts_sub = pd_user_acts[(pd_user_acts.lv == 1) & (pd_user_acts.downgraded > 0)].iloc[:,3:]\n",
    "# 创建百分比\n",
    "user_acts_sub = user_acts_sub.div(user_acts_sub.sum(axis=1), axis=0)\n",
    "user_acts_sub.mean().sort_values(ascending = False).plot.bar()\n",
    "\n",
    "plt.title(\"paid&downgraded users acts statistic\")\n",
    "plt.xlabel(\"act\")\n",
    "plt.ylabel(\"count\")"
   ]
  },
  {
   "cell_type": "markdown",
   "metadata": {},
   "source": [
    "从付费用户发生降级行为的统计图表来看：\n",
    "- 点击降级页面的占比高于整体付费用户水平\n",
    "- 最终发生降低的占比高于整体付费用户水平"
   ]
  },
  {
   "cell_type": "markdown",
   "metadata": {},
   "source": [
    "#### 探索付费用户流失的行为"
   ]
  },
  {
   "cell_type": "code",
   "execution_count": 65,
   "metadata": {},
   "outputs": [
    {
     "data": {
      "text/plain": [
       "Text(0,0.5,'count')"
      ]
     },
     "execution_count": 65,
     "metadata": {},
     "output_type": "execute_result"
    },
    {
     "data": {
      "image/png": "[encoded data removed]",
      "text/plain": [
       "<matplotlib.figure.Figure at 0x7fe2bfab7e48>"
      ]
     },
     "metadata": {
      "needs_background": "light"
     },
     "output_type": "display_data"
    }
   ],
   "source": [
    "user_acts_sub = pd_user_acts[(pd_user_acts.lv == 1) & (pd_user_acts.churn == 1)].iloc[:,3:]\n",
    "# 创建百分比\n",
    "user_acts_sub = user_acts_sub.div(user_acts_sub.sum(axis=1), axis=0)\n",
    "user_acts_sub.mean().sort_values(ascending = False).plot.bar()\n",
    "\n",
    "plt.title(\"paid&churn users acts statistic\")\n",
    "plt.xlabel(\"act\")\n",
    "plt.ylabel(\"count\")"
   ]
  },
  {
   "cell_type": "markdown",
   "metadata": {},
   "source": [
    "从付费用户最终流失的客户来看，想要降级和注销动作的占比高于整体付费用户水平"
   ]
  },
  {
   "cell_type": "markdown",
   "metadata": {},
   "source": [
    "#### 探索用户升级的行为"
   ]
  },
  {
   "cell_type": "code",
   "execution_count": 15,
   "metadata": {},
   "outputs": [
    {
     "data": {
      "text/plain": [
       "Text(0,0.5,'count')"
      ]
     },
     "execution_count": 15,
     "metadata": {},
     "output_type": "execute_result"
    },
    {
     "data": {
      "image/png": "[encoded data removed]",
      "text/plain": [
       "<matplotlib.figure.Figure at 0x7f3c850e0198>"
      ]
     },
     "metadata": {
      "needs_background": "light"
     },
     "output_type": "display_data"
    }
   ],
   "source": [
    "user_acts_sub = pd_user_acts[(pd_user_acts.lv == 0) & (pd_user_acts.upgraded > 0)].iloc[:,3:]\n",
    "# 创建百分比\n",
    "user_acts_sub = user_acts_sub.div(user_acts_sub.sum(axis=1), axis=0)\n",
    "user_acts_sub.mean().sort_values(ascending = False).plot.bar()\n",
    "\n",
    "plt.title(\"paid&upgraded users acts statistic\")\n",
    "plt.xlabel(\"act\")\n",
    "plt.ylabel(\"count\")"
   ]
  },
  {
   "cell_type": "markdown",
   "metadata": {},
   "source": [
    "从最终升级为付费用户的免费用户来看，想要升级的动作占比高较高"
   ]
  },
  {
   "cell_type": "markdown",
   "metadata": {},
   "source": [
    "### 结论\n",
    "- 广告是影响免费用户使用的一个关键特征\n",
    "- 用户想要发生某种事件时，点击相关页面的占比比较高\n",
    "- 添加歌单的行为在整体行为中占比高，我决定不使用其作为机器学习模型的特征"
   ]
  },
  {
   "cell_type": "markdown",
   "metadata": {},
   "source": [
    "# 特征工程\n",
    "最终选定做为机器学习特征如下：\n",
    "\n",
    "1.`friend`:用户的交友行为\n",
    "\n",
    "2.`cancel`:用户想要注销的行为\n",
    "\n",
    "3.`downgrade`:用户想要降级的行为\n",
    "\n",
    "4.`error`:用户访问发生错误的行为\n",
    "\n",
    "5.`help`:用户访问帮助页面的行为\n",
    "\n",
    "6.`upgrade`:用户想要升级的行为\n",
    "\n",
    "7.`upgraded`:用户确定升级的事件\n",
    "\n",
    "8.`advert`:用户点击广告的行为\n",
    "\n",
    "9.`lv`:标识用户付费还是免费\n",
    "\n",
    "除了`lv`特征保留1和0（1标识用户付费 0标识用户免费），其余特征按用户分组后，按时间顺序进行相加，做为关键特征的值\n",
    "\n",
    "想要达到的效果如：2018年1月1日用户点击广告的日志，`adverts`特征计数为1，2018年1月2日用户点击广告的日志，`adverts`特征计数为2。其他特征也如此\n",
    "\n",
    "处理完成后，对特征进行归一化，最终创建一个叫做`scaledfeatures2`的向量，用于机器学习"
   ]
  },
  {
   "cell_type": "code",
   "execution_count": 16,
   "metadata": {},
   "outputs": [],
   "source": [
    "windowval = Window.partitionBy(\"userId\").orderBy(asc(\"ts\")).rangeBetween(Window.unboundedPreceding, 0)\n",
    "# 创建列交友行为累计\n",
    "df_clean = df_clean.withColumn(\"friends\", Fsum(\"friend\").over(windowval))\n"
   ]
  },
  {
   "cell_type": "code",
   "execution_count": 17,
   "metadata": {},
   "outputs": [],
   "source": [
    "# 创建列广告点击行为累计\n",
    "df_clean = df_clean.withColumn(\"adverts\", Fsum(\"advert\").over(windowval))"
   ]
  },
  {
   "cell_type": "code",
   "execution_count": 18,
   "metadata": {},
   "outputs": [],
   "source": [
    "# 创建列降级动作累计\n",
    "df_clean = df_clean.withColumn(\"downgrades\", Fsum(\"downgrade\").over(windowval))"
   ]
  },
  {
   "cell_type": "code",
   "execution_count": 19,
   "metadata": {},
   "outputs": [],
   "source": [
    "# 创建列注销动作累计\n",
    "df_clean = df_clean.withColumn(\"cancels\", Fsum(\"cancel\").over(windowval))"
   ]
  },
  {
   "cell_type": "code",
   "execution_count": 20,
   "metadata": {},
   "outputs": [],
   "source": [
    "# 创建列升级动作累计\n",
    "df_clean = df_clean.withColumn(\"upgrades\", Fsum(\"upgrade\").over(windowval))"
   ]
  },
  {
   "cell_type": "code",
   "execution_count": 21,
   "metadata": {},
   "outputs": [],
   "source": [
    "# 创建列降级累计\n",
    "df_clean = df_clean.withColumn(\"phase\", Fsum(\"downgraded\").over(windowval))"
   ]
  },
  {
   "cell_type": "code",
   "execution_count": 22,
   "metadata": {},
   "outputs": [],
   "source": [
    "# 创建列帮助动作累计\n",
    "df_clean = df_clean.withColumn(\"helps\", Fsum(\"help\").over(windowval))"
   ]
  },
  {
   "cell_type": "code",
   "execution_count": 23,
   "metadata": {},
   "outputs": [],
   "source": [
    "# 创建列错误页累计\n",
    "df_clean = df_clean.withColumn(\"errors\", Fsum(\"error\").over(windowval))"
   ]
  },
  {
   "cell_type": "code",
   "execution_count": 19,
   "metadata": {},
   "outputs": [],
   "source": [
    "# 将关键特征转换为向量\n",
    "assembler = VectorAssembler(inputCols=[ \"lv\", \"friends\", \"adverts\", \"downgrades\", \"cancels\", \"upgrades\", \"helps\", \"errors\" , \"phase\"], outputCol=\"features\")\n",
    "df_clean = assembler.transform(df_clean)"
   ]
  },
  {
   "cell_type": "code",
   "execution_count": 20,
   "metadata": {},
   "outputs": [],
   "source": [
    "# 将向量进行归一化\n",
    "scaler = Normalizer(inputCol=\"features\", outputCol=\"scaledfeatures\")\n",
    "df_clean = scaler.transform(df_clean)"
   ]
  },
  {
   "cell_type": "code",
   "execution_count": 21,
   "metadata": {},
   "outputs": [],
   "source": [
    "# 用标准差缩小值\n",
    "scaler2 = StandardScaler(inputCol=\"scaledfeatures\", outputCol=\"scaledfeatures2\", withStd=True)\n",
    "scalerModel = scaler2.fit(df_clean)\n",
    "df_clean = scalerModel.transform(df_clean)"
   ]
  },
  {
   "cell_type": "code",
   "execution_count": 22,
   "metadata": {},
   "outputs": [
    {
     "data": {
      "text/plain": [
       "[Row(userId='100001', tsyear='2018', tsmonth='10', tsday='02', scaledfeatures2=DenseVector([0.0, 0.4998, 2.7777, 0.0, 22.3883, 1.4515, 0.486, 1.2227, 0.0]), churn=1),\n",
       " Row(userId='100001', tsyear='2018', tsmonth='10', tsday='02', scaledfeatures2=DenseVector([0.0, 0.4998, 2.7777, 0.0, 22.3883, 1.4515, 0.486, 1.2227, 0.0]), churn=0),\n",
       " Row(userId='100001', tsyear='2018', tsmonth='10', tsday='02', scaledfeatures2=DenseVector([0.0, 0.501, 2.7845, 0.0, 0.0, 1.4551, 0.4872, 1.2257, 0.0]), churn=0),\n",
       " Row(userId='100001', tsyear='2018', tsmonth='10', tsday='02', scaledfeatures2=DenseVector([0.0, 0.5375, 2.7737, 0.0, 0.0, 1.5609, 0.5227, 1.3149, 0.0]), churn=0),\n",
       " Row(userId='100001', tsyear='2018', tsmonth='10', tsday='02', scaledfeatures2=DenseVector([0.0, 0.5375, 2.7737, 0.0, 0.0, 1.5609, 0.5227, 1.3149, 0.0]), churn=0),\n",
       " Row(userId='100001', tsyear='2018', tsmonth='10', tsday='02', scaledfeatures2=DenseVector([0.0, 0.5375, 2.7737, 0.0, 0.0, 1.5609, 0.5227, 1.3149, 0.0]), churn=0),\n",
       " Row(userId='100001', tsyear='2018', tsmonth='10', tsday='02', scaledfeatures2=DenseVector([0.0, 0.5375, 2.7737, 0.0, 0.0, 1.5609, 0.5227, 1.3149, 0.0]), churn=0),\n",
       " Row(userId='100001', tsyear='2018', tsmonth='10', tsday='02', scaledfeatures2=DenseVector([0.0, 0.5375, 2.7737, 0.0, 0.0, 1.5609, 0.5227, 1.3149, 0.0]), churn=0),\n",
       " Row(userId='100001', tsyear='2018', tsmonth='10', tsday='02', scaledfeatures2=DenseVector([0.0, 0.5375, 2.7737, 0.0, 0.0, 1.5609, 0.5227, 1.3149, 0.0]), churn=0),\n",
       " Row(userId='100001', tsyear='2018', tsmonth='10', tsday='02', scaledfeatures2=DenseVector([0.0, 0.5375, 2.7737, 0.0, 0.0, 1.5609, 0.5227, 1.3149, 0.0]), churn=0),\n",
       " Row(userId='100001', tsyear='2018', tsmonth='10', tsday='02', scaledfeatures2=SparseVector(9, {1: 0.539, 2: 2.7815, 5: 1.5653, 7: 1.3186}), churn=0),\n",
       " Row(userId='100001', tsyear='2018', tsmonth='10', tsday='02', scaledfeatures2=SparseVector(9, {1: 0.539, 2: 2.7815, 5: 1.5653, 7: 1.3186}), churn=0),\n",
       " Row(userId='100001', tsyear='2018', tsmonth='10', tsday='02', scaledfeatures2=SparseVector(9, {1: 0.5814, 2: 2.7694, 5: 1.6884, 7: 1.4222}), churn=0),\n",
       " Row(userId='100001', tsyear='2018', tsmonth='10', tsday='02', scaledfeatures2=SparseVector(9, {1: 0.5814, 2: 2.7694, 5: 1.6884, 7: 1.4222}), churn=0),\n",
       " Row(userId='100001', tsyear='2018', tsmonth='10', tsday='02', scaledfeatures2=SparseVector(9, {1: 0.5814, 2: 2.7694, 5: 1.6884, 7: 1.4222}), churn=0),\n",
       " Row(userId='100001', tsyear='2018', tsmonth='10', tsday='02', scaledfeatures2=SparseVector(9, {1: 0.5814, 2: 2.7694, 5: 1.6884, 7: 1.4222}), churn=0),\n",
       " Row(userId='100001', tsyear='2018', tsmonth='10', tsday='02', scaledfeatures2=SparseVector(9, {1: 0.5814, 2: 2.7694, 5: 1.6884, 7: 1.4222}), churn=0),\n",
       " Row(userId='100001', tsyear='2018', tsmonth='10', tsday='02', scaledfeatures2=SparseVector(9, {1: 0.5814, 2: 2.7694, 5: 1.6884, 7: 1.4222}), churn=0),\n",
       " Row(userId='100001', tsyear='2018', tsmonth='10', tsday='02', scaledfeatures2=SparseVector(9, {1: 0.5814, 2: 2.7694, 5: 1.6884, 7: 1.4222}), churn=0),\n",
       " Row(userId='100001', tsyear='2018', tsmonth='10', tsday='02', scaledfeatures2=SparseVector(9, {1: 0.5814, 2: 2.7694, 5: 1.6884, 7: 1.4222}), churn=0),\n",
       " Row(userId='100001', tsyear='2018', tsmonth='10', tsday='02', scaledfeatures2=SparseVector(9, {1: 0.5814, 2: 2.7694, 5: 1.6884, 7: 1.4222}), churn=0),\n",
       " Row(userId='100001', tsyear='2018', tsmonth='10', tsday='02', scaledfeatures2=SparseVector(9, {1: 0.5814, 2: 2.7694, 5: 1.6884, 7: 1.4222}), churn=0),\n",
       " Row(userId='100001', tsyear='2018', tsmonth='10', tsday='02', scaledfeatures2=SparseVector(9, {1: 0.5814, 2: 2.7694, 5: 1.6884, 7: 1.4222}), churn=0),\n",
       " Row(userId='100001', tsyear='2018', tsmonth='10', tsday='02', scaledfeatures2=SparseVector(9, {1: 0.5814, 2: 2.7694, 5: 1.6884, 7: 1.4222}), churn=0),\n",
       " Row(userId='100001', tsyear='2018', tsmonth='10', tsday='02', scaledfeatures2=SparseVector(9, {1: 0.5814, 2: 2.7694, 5: 1.6884, 7: 1.4222}), churn=0),\n",
       " Row(userId='100001', tsyear='2018', tsmonth='10', tsday='02', scaledfeatures2=SparseVector(9, {1: 0.5814, 2: 2.7694, 5: 1.6884, 7: 1.4222}), churn=0),\n",
       " Row(userId='100001', tsyear='2018', tsmonth='10', tsday='02', scaledfeatures2=SparseVector(9, {1: 0.5814, 2: 2.7694, 5: 1.6884, 7: 1.4222}), churn=0),\n",
       " Row(userId='100001', tsyear='2018', tsmonth='10', tsday='02', scaledfeatures2=SparseVector(9, {1: 0.5814, 2: 2.7694, 5: 1.6884, 7: 1.4222}), churn=0),\n",
       " Row(userId='100001', tsyear='2018', tsmonth='10', tsday='02', scaledfeatures2=SparseVector(9, {1: 0.5814, 2: 2.7694, 5: 1.6884, 7: 1.4222}), churn=0),\n",
       " Row(userId='100001', tsyear='2018', tsmonth='10', tsday='02', scaledfeatures2=SparseVector(9, {1: 0.5814, 2: 2.7694, 5: 1.6884, 7: 1.4222}), churn=0),\n",
       " Row(userId='100001', tsyear='2018', tsmonth='10', tsday='02', scaledfeatures2=SparseVector(9, {1: 0.5833, 2: 2.7785, 5: 1.6939}), churn=0),\n",
       " Row(userId='100001', tsyear='2018', tsmonth='10', tsday='02', scaledfeatures2=SparseVector(9, {1: 0.5833, 2: 2.7785, 5: 1.6939}), churn=0),\n",
       " Row(userId='100001', tsyear='2018', tsmonth='10', tsday='02', scaledfeatures2=SparseVector(9, {1: 0.5833, 2: 2.7785, 5: 1.6939}), churn=0),\n",
       " Row(userId='100001', tsyear='2018', tsmonth='10', tsday='02', scaledfeatures2=SparseVector(9, {1: 0.5833, 2: 2.7785, 5: 1.6939}), churn=0),\n",
       " Row(userId='100001', tsyear='2018', tsmonth='10', tsday='02', scaledfeatures2=SparseVector(9, {1: 0.5833, 2: 2.7785, 5: 1.6939}), churn=0),\n",
       " Row(userId='100001', tsyear='2018', tsmonth='10', tsday='02', scaledfeatures2=SparseVector(9, {1: 0.5833, 2: 2.7785, 5: 1.6939}), churn=0),\n",
       " Row(userId='100001', tsyear='2018', tsmonth='10', tsday='02', scaledfeatures2=SparseVector(9, {1: 0.5833, 2: 2.7785, 5: 1.6939}), churn=0),\n",
       " Row(userId='100001', tsyear='2018', tsmonth='10', tsday='02', scaledfeatures2=SparseVector(9, {1: 0.5833, 2: 2.7785, 5: 1.6939}), churn=0),\n",
       " Row(userId='100001', tsyear='2018', tsmonth='10', tsday='02', scaledfeatures2=SparseVector(9, {1: 0.5833, 2: 2.7785, 5: 1.6939}), churn=0),\n",
       " Row(userId='100001', tsyear='2018', tsmonth='10', tsday='02', scaledfeatures2=SparseVector(9, {1: 0.5833, 2: 2.7785, 5: 1.6939}), churn=0),\n",
       " Row(userId='100001', tsyear='2018', tsmonth='10', tsday='02', scaledfeatures2=SparseVector(9, {1: 0.5833, 2: 2.7785, 5: 1.6939}), churn=0),\n",
       " Row(userId='100001', tsyear='2018', tsmonth='10', tsday='02', scaledfeatures2=SparseVector(9, {1: 0.5833, 2: 2.7785, 5: 1.6939}), churn=0),\n",
       " Row(userId='100001', tsyear='2018', tsmonth='10', tsday='02', scaledfeatures2=SparseVector(9, {1: 0.5833, 2: 2.7785, 5: 1.6939}), churn=0),\n",
       " Row(userId='100001', tsyear='2018', tsmonth='10', tsday='02', scaledfeatures2=SparseVector(9, {1: 0.5833, 2: 2.7785, 5: 1.6939}), churn=0),\n",
       " Row(userId='100001', tsyear='2018', tsmonth='10', tsday='02', scaledfeatures2=SparseVector(9, {1: 0.5833, 2: 2.7785, 5: 1.6939}), churn=0),\n",
       " Row(userId='100001', tsyear='2018', tsmonth='10', tsday='02', scaledfeatures2=SparseVector(9, {1: 0.5833, 2: 2.7785, 5: 1.6939}), churn=0),\n",
       " Row(userId='100001', tsyear='2018', tsmonth='10', tsday='02', scaledfeatures2=SparseVector(9, {1: 0.5833, 2: 2.7785, 5: 1.6939}), churn=0),\n",
       " Row(userId='100001', tsyear='2018', tsmonth='10', tsday='02', scaledfeatures2=SparseVector(9, {1: 0.5833, 2: 2.7785, 5: 1.6939}), churn=0),\n",
       " Row(userId='100001', tsyear='2018', tsmonth='10', tsday='02', scaledfeatures2=SparseVector(9, {1: 0.5833, 2: 2.7785, 5: 1.6939}), churn=0),\n",
       " Row(userId='100001', tsyear='2018', tsmonth='10', tsday='02', scaledfeatures2=SparseVector(9, {1: 0.5833, 2: 2.7785, 5: 1.6939}), churn=0),\n",
       " Row(userId='100001', tsyear='2018', tsmonth='10', tsday='02', scaledfeatures2=SparseVector(9, {1: 0.5833, 2: 2.7785, 5: 1.6939}), churn=0),\n",
       " Row(userId='100001', tsyear='2018', tsmonth='10', tsday='02', scaledfeatures2=SparseVector(9, {1: 0.2946, 2: 2.8063, 5: 1.7109}), churn=0),\n",
       " Row(userId='100001', tsyear='2018', tsmonth='10', tsday='02', scaledfeatures2=SparseVector(9, {1: 0.2946, 2: 2.8063, 5: 1.7109}), churn=0),\n",
       " Row(userId='100001', tsyear='2018', tsmonth='10', tsday='02', scaledfeatures2=SparseVector(9, {1: 0.2946, 2: 2.8063, 5: 1.7109}), churn=0),\n",
       " Row(userId='100001', tsyear='2018', tsmonth='10', tsday='02', scaledfeatures2=SparseVector(9, {1: 0.2946, 2: 2.8063, 5: 1.7109}), churn=0),\n",
       " Row(userId='100001', tsyear='2018', tsmonth='10', tsday='02', scaledfeatures2=SparseVector(9, {1: 0.2946, 2: 2.8063, 5: 1.7109}), churn=0),\n",
       " Row(userId='100001', tsyear='2018', tsmonth='10', tsday='02', scaledfeatures2=SparseVector(9, {1: 0.2946, 2: 2.8063, 5: 1.7109}), churn=0),\n",
       " Row(userId='100001', tsyear='2018', tsmonth='10', tsday='02', scaledfeatures2=SparseVector(9, {1: 0.2946, 2: 2.8063, 5: 1.7109}), churn=0),\n",
       " Row(userId='100001', tsyear='2018', tsmonth='10', tsday='02', scaledfeatures2=SparseVector(9, {1: 0.2946, 2: 2.8063, 5: 1.7109}), churn=0),\n",
       " Row(userId='100001', tsyear='2018', tsmonth='10', tsday='02', scaledfeatures2=SparseVector(9, {1: 0.2946, 2: 2.8063, 5: 1.7109}), churn=0),\n",
       " Row(userId='100001', tsyear='2018', tsmonth='10', tsday='02', scaledfeatures2=SparseVector(9, {1: 0.2946, 2: 2.8063, 5: 1.7109}), churn=0),\n",
       " Row(userId='100001', tsyear='2018', tsmonth='10', tsday='02', scaledfeatures2=SparseVector(9, {1: 0.3203, 2: 2.7974, 5: 1.8605}), churn=0),\n",
       " Row(userId='100001', tsyear='2018', tsmonth='10', tsday='02', scaledfeatures2=SparseVector(9, {1: 0.3203, 2: 2.7974, 5: 1.8605}), churn=0),\n",
       " Row(userId='100001', tsyear='2018', tsmonth='10', tsday='02', scaledfeatures2=SparseVector(9, {1: 0.3509, 2: 2.7858, 5: 2.0381}), churn=0),\n",
       " Row(userId='100001', tsyear='2018', tsmonth='10', tsday='02', scaledfeatures2=SparseVector(9, {1: 0.3509, 2: 2.7858, 5: 2.0381}), churn=0),\n",
       " Row(userId='100001', tsyear='2018', tsmonth='10', tsday='02', scaledfeatures2=SparseVector(9, {1: 0.3509, 2: 2.7858, 5: 2.0381}), churn=0),\n",
       " Row(userId='100001', tsyear='2018', tsmonth='10', tsday='02', scaledfeatures2=SparseVector(9, {1: 0.3509, 2: 2.7858, 5: 2.0381}), churn=0),\n",
       " Row(userId='100001', tsyear='2018', tsmonth='10', tsday='02', scaledfeatures2=SparseVector(9, {1: 0.3509, 2: 2.7858, 5: 2.0381}), churn=0),\n",
       " Row(userId='100001', tsyear='2018', tsmonth='10', tsday='02', scaledfeatures2=SparseVector(9, {1: 0.3509, 2: 2.7858, 5: 2.0381}), churn=0),\n",
       " Row(userId='100001', tsyear='2018', tsmonth='10', tsday='02', scaledfeatures2=SparseVector(9, {1: 0.3509, 2: 2.7858, 5: 2.0381}), churn=0),\n",
       " Row(userId='100001', tsyear='2018', tsmonth='10', tsday='02', scaledfeatures2=SparseVector(9, {1: 0.3509, 2: 2.7858, 5: 2.0381}), churn=0),\n",
       " Row(userId='100001', tsyear='2018', tsmonth='10', tsday='02', scaledfeatures2=SparseVector(9, {1: 0.3509, 2: 2.7858, 5: 2.0381}), churn=0),\n",
       " Row(userId='100001', tsyear='2018', tsmonth='10', tsday='02', scaledfeatures2=SparseVector(9, {1: 0.3509, 2: 2.7858, 5: 2.0381}), churn=0),\n",
       " Row(userId='100001', tsyear='2018', tsmonth='10', tsday='02', scaledfeatures2=SparseVector(9, {1: 0.3509, 2: 2.7858, 5: 2.0381}), churn=0),\n",
       " Row(userId='100001', tsyear='2018', tsmonth='10', tsday='02', scaledfeatures2=SparseVector(9, {1: 0.3509, 2: 2.7858, 5: 2.0381}), churn=0),\n",
       " Row(userId='100001', tsyear='2018', tsmonth='10', tsday='02', scaledfeatures2=SparseVector(9, {1: 0.3877, 2: 2.7704, 5: 2.252}), churn=0),\n",
       " Row(userId='100001', tsyear='2018', tsmonth='10', tsday='02', scaledfeatures2=SparseVector(9, {1: 0.4329, 2: 2.7492, 5: 2.5141}), churn=0),\n",
       " Row(userId='100001', tsyear='2018', tsmonth='10', tsday='02', scaledfeatures2=SparseVector(9, {1: 0.4329, 2: 2.7492, 5: 2.5141}), churn=0),\n",
       " Row(userId='100001', tsyear='2018', tsmonth='10', tsday='02', scaledfeatures2=SparseVector(9, {1: 0.4426, 2: 2.811, 5: 1.2853}), churn=0),\n",
       " Row(userId='100001', tsyear='2018', tsmonth='10', tsday='02', scaledfeatures2=SparseVector(9, {1: 0.4426, 2: 2.811, 5: 1.2853}), churn=0),\n",
       " Row(userId='100001', tsyear='2018', tsmonth='10', tsday='02', scaledfeatures2=SparseVector(9, {1: 0.4426, 2: 2.811, 5: 1.2853}), churn=0),\n",
       " Row(userId='100001', tsyear='2018', tsmonth='10', tsday='02', scaledfeatures2=SparseVector(9, {1: 0.4426, 2: 2.811, 5: 1.2853}), churn=0),\n",
       " Row(userId='100001', tsyear='2018', tsmonth='10', tsday='02', scaledfeatures2=SparseVector(9, {1: 0.4426, 2: 2.811, 5: 1.2853}), churn=0),\n",
       " Row(userId='100001', tsyear='2018', tsmonth='10', tsday='02', scaledfeatures2=SparseVector(9, {1: 0.4426, 2: 2.811, 5: 1.2853}), churn=0),\n",
       " Row(userId='100001', tsyear='2018', tsmonth='10', tsday='02', scaledfeatures2=SparseVector(9, {1: 0.4426, 2: 2.811, 5: 1.2853}), churn=0),\n",
       " Row(userId='100001', tsyear='2018', tsmonth='10', tsday='02', scaledfeatures2=SparseVector(9, {1: 0.4426, 2: 2.811, 5: 1.2853}), churn=0),\n",
       " Row(userId='100001', tsyear='2018', tsmonth='10', tsday='02', scaledfeatures2=SparseVector(9, {1: 0.4426, 2: 2.811, 5: 1.2853}), churn=0),\n",
       " Row(userId='100001', tsyear='2018', tsmonth='10', tsday='02', scaledfeatures2=SparseVector(9, {1: 0.4426, 2: 2.811, 5: 1.2853}), churn=0),\n",
       " Row(userId='100001', tsyear='2018', tsmonth='10', tsday='02', scaledfeatures2=SparseVector(9, {1: 0.4426, 2: 2.811, 5: 1.2853}), churn=0),\n",
       " Row(userId='100001', tsyear='2018', tsmonth='10', tsday='02', scaledfeatures2=SparseVector(9, {1: 0.4426, 2: 2.811, 5: 1.2853}), churn=0),\n",
       " Row(userId='100001', tsyear='2018', tsmonth='10', tsday='02', scaledfeatures2=SparseVector(9, {1: 0.4426, 2: 2.811, 5: 1.2853}), churn=0),\n",
       " Row(userId='100001', tsyear='2018', tsmonth='10', tsday='02', scaledfeatures2=SparseVector(9, {1: 0.4426, 2: 2.811, 5: 1.2853}), churn=0),\n",
       " Row(userId='100001', tsyear='2018', tsmonth='10', tsday='02', scaledfeatures2=SparseVector(9, {1: 0.4426, 2: 2.811, 5: 1.2853}), churn=0),\n",
       " Row(userId='100001', tsyear='2018', tsmonth='10', tsday='02', scaledfeatures2=SparseVector(9, {1: 0.5035, 2: 2.7981, 5: 1.4622}), churn=0),\n",
       " Row(userId='100001', tsyear='2018', tsmonth='10', tsday='02', scaledfeatures2=SparseVector(9, {1: 0.5035, 2: 2.7981, 5: 1.4622}), churn=0),\n",
       " Row(userId='100001', tsyear='2018', tsmonth='10', tsday='02', scaledfeatures2=SparseVector(9, {1: 0.5035, 2: 2.7981, 5: 1.4622}), churn=0),\n",
       " Row(userId='100001', tsyear='2018', tsmonth='10', tsday='02', scaledfeatures2=SparseVector(9, {1: 0.5035, 2: 2.7981, 5: 1.4622}), churn=0),\n",
       " Row(userId='100001', tsyear='2018', tsmonth='10', tsday='02', scaledfeatures2=SparseVector(9, {1: 0.5085, 2: 2.8259}), churn=0),\n",
       " Row(userId='100001', tsyear='2018', tsmonth='10', tsday='02', scaledfeatures2=SparseVector(9, {1: 0.5085, 2: 2.8259}), churn=0),\n",
       " Row(userId='100001', tsyear='2018', tsmonth='10', tsday='02', scaledfeatures2=SparseVector(9, {1: 0.5085, 2: 2.8259}), churn=0),\n",
       " Row(userId='100001', tsyear='2018', tsmonth='10', tsday='02', scaledfeatures2=SparseVector(9, {1: 0.5085, 2: 2.8259}), churn=0),\n",
       " Row(userId='100001', tsyear='2018', tsmonth='10', tsday='02', scaledfeatures2=SparseVector(9, {1: 0.5085, 2: 2.8259}), churn=0),\n",
       " Row(userId='100001', tsyear='2018', tsmonth='10', tsday='02', scaledfeatures2=SparseVector(9, {1: 0.5085, 2: 2.8259}), churn=0),\n",
       " Row(userId='100001', tsyear='2018', tsmonth='10', tsday='02', scaledfeatures2=SparseVector(9, {1: 0.5085, 2: 2.8259}), churn=0),\n",
       " Row(userId='100001', tsyear='2018', tsmonth='10', tsday='02', scaledfeatures2=SparseVector(9, {1: 0.5085, 2: 2.8259}), churn=0),\n",
       " Row(userId='100001', tsyear='2018', tsmonth='10', tsday='02', scaledfeatures2=SparseVector(9, {1: 0.5085, 2: 2.8259}), churn=0),\n",
       " Row(userId='100001', tsyear='2018', tsmonth='10', tsday='02', scaledfeatures2=SparseVector(9, {1: 0.5085, 2: 2.8259}), churn=0),\n",
       " Row(userId='100001', tsyear='2018', tsmonth='10', tsday='02', scaledfeatures2=SparseVector(9, {1: 0.5085, 2: 2.8259}), churn=0),\n",
       " Row(userId='100001', tsyear='2018', tsmonth='10', tsday='02', scaledfeatures2=SparseVector(9, {1: 0.5085, 2: 2.8259}), churn=0),\n",
       " Row(userId='100001', tsyear='2018', tsmonth='10', tsday='02', scaledfeatures2=SparseVector(9, {1: 0.5085, 2: 2.8259}), churn=0),\n",
       " Row(userId='100001', tsyear='2018', tsmonth='10', tsday='02', scaledfeatures2=SparseVector(9, {1: 0.5911, 2: 2.8158}), churn=0),\n",
       " Row(userId='100001', tsyear='2018', tsmonth='10', tsday='02', scaledfeatures2=SparseVector(9, {1: 0.5911, 2: 2.8158}), churn=0),\n",
       " Row(userId='100001', tsyear='2018', tsmonth='10', tsday='02', scaledfeatures2=SparseVector(9, {1: 0.5911, 2: 2.8158}), churn=0),\n",
       " Row(userId='100001', tsyear='2018', tsmonth='10', tsday='02', scaledfeatures2=SparseVector(9, {1: 0.5911, 2: 2.8158}), churn=0),\n",
       " Row(userId='100001', tsyear='2018', tsmonth='10', tsday='02', scaledfeatures2=SparseVector(9, {1: 0.5911, 2: 2.8158}), churn=0),\n",
       " Row(userId='100001', tsyear='2018', tsmonth='10', tsday='02', scaledfeatures2=SparseVector(9, {1: 0.5911, 2: 2.8158}), churn=0),\n",
       " Row(userId='100001', tsyear='2018', tsmonth='10', tsday='02', scaledfeatures2=SparseVector(9, {1: 0.5911, 2: 2.8158}), churn=0),\n",
       " Row(userId='100001', tsyear='2018', tsmonth='10', tsday='02', scaledfeatures2=SparseVector(9, {1: 0.5911, 2: 2.8158}), churn=0),\n",
       " Row(userId='100001', tsyear='2018', tsmonth='10', tsday='02', scaledfeatures2=SparseVector(9, {1: 0.5911, 2: 2.8158}), churn=0),\n",
       " Row(userId='100001', tsyear='2018', tsmonth='10', tsday='02', scaledfeatures2=SparseVector(9, {1: 0.5911, 2: 2.8158}), churn=0),\n",
       " Row(userId='100001', tsyear='2018', tsmonth='10', tsday='02', scaledfeatures2=SparseVector(9, {1: 0.5911, 2: 2.8158}), churn=0),\n",
       " Row(userId='100001', tsyear='2018', tsmonth='10', tsday='02', scaledfeatures2=SparseVector(9, {1: 0.5911, 2: 2.8158}), churn=0),\n",
       " Row(userId='100001', tsyear='2018', tsmonth='10', tsday='02', scaledfeatures2=SparseVector(9, {1: 0.5911, 2: 2.8158}), churn=0),\n",
       " Row(userId='100001', tsyear='2018', tsmonth='10', tsday='02', scaledfeatures2=SparseVector(9, {1: 0.5911, 2: 2.8158}), churn=0),\n",
       " Row(userId='100001', tsyear='2018', tsmonth='10', tsday='02', scaledfeatures2=SparseVector(9, {1: 0.5911, 2: 2.8158}), churn=0),\n",
       " Row(userId='100001', tsyear='2018', tsmonth='10', tsday='02', scaledfeatures2=SparseVector(9, {1: 0.5911, 2: 2.8158}), churn=0),\n",
       " Row(userId='100001', tsyear='2018', tsmonth='10', tsday='02', scaledfeatures2=SparseVector(9, {1: 0.5911, 2: 2.8158}), churn=0),\n",
       " Row(userId='100001', tsyear='2018', tsmonth='10', tsday='02', scaledfeatures2=SparseVector(9, {1: 0.7052, 2: 2.7992}), churn=0),\n",
       " Row(userId='100001', tsyear='2018', tsmonth='10', tsday='02', scaledfeatures2=SparseVector(9, {1: 0.7052, 2: 2.7992}), churn=0),\n",
       " Row(userId='100001', tsyear='2018', tsmonth='10', tsday='02', scaledfeatures2=SparseVector(9, {1: 0.7052, 2: 2.7992}), churn=0),\n",
       " Row(userId='100001', tsyear='2018', tsmonth='10', tsday='02', scaledfeatures2=SparseVector(9, {1: 0.7052, 2: 2.7992}), churn=0),\n",
       " Row(userId='100001', tsyear='2018', tsmonth='10', tsday='02', scaledfeatures2=SparseVector(9, {1: 0.7052, 2: 2.7992}), churn=0),\n",
       " Row(userId='100001', tsyear='2018', tsmonth='10', tsday='02', scaledfeatures2=SparseVector(9, {1: 0.7052, 2: 2.7992}), churn=0),\n",
       " Row(userId='100001', tsyear='2018', tsmonth='10', tsday='02', scaledfeatures2=SparseVector(9, {1: 0.7052, 2: 2.7992}), churn=0),\n",
       " Row(userId='100001', tsyear='2018', tsmonth='10', tsday='02', scaledfeatures2=SparseVector(9, {1: 0.7052, 2: 2.7992}), churn=0),\n",
       " Row(userId='100001', tsyear='2018', tsmonth='10', tsday='02', scaledfeatures2=SparseVector(9, {1: 0.7052, 2: 2.7992}), churn=0),\n",
       " Row(userId='100001', tsyear='2018', tsmonth='10', tsday='01', scaledfeatures2=SparseVector(9, {1: 0.7052, 2: 2.7992}), churn=0),\n",
       " Row(userId='100001', tsyear='2018', tsmonth='10', tsday='01', scaledfeatures2=SparseVector(9, {1: 0.7052, 2: 2.7992}), churn=0),\n",
       " Row(userId='100001', tsyear='2018', tsmonth='10', tsday='01', scaledfeatures2=SparseVector(9, {1: 0.7052, 2: 2.7992}), churn=0),\n",
       " Row(userId='100001', tsyear='2018', tsmonth='10', tsday='01', scaledfeatures2=SparseVector(9, {1: 0.7052, 2: 2.7992}), churn=0),\n",
       " Row(userId='100001', tsyear='2018', tsmonth='10', tsday='01', scaledfeatures2=SparseVector(9, {1: 0.7052, 2: 2.7992}), churn=0),\n",
       " Row(userId='100001', tsyear='2018', tsmonth='10', tsday='01', scaledfeatures2=SparseVector(9, {1: 0.7052, 2: 2.7992}), churn=0),\n",
       " Row(userId='100001', tsyear='2018', tsmonth='10', tsday='01', scaledfeatures2=SparseVector(9, {1: 0.7052, 2: 2.7992}), churn=0),\n",
       " Row(userId='100001', tsyear='2018', tsmonth='10', tsday='01', scaledfeatures2=SparseVector(9, {1: 0.7052, 2: 2.7992}), churn=0),\n",
       " Row(userId='100001', tsyear='2018', tsmonth='10', tsday='01', scaledfeatures2=SparseVector(9, {1: 0.7052, 2: 2.7992}), churn=0),\n",
       " Row(userId='100001', tsyear='2018', tsmonth='10', tsday='01', scaledfeatures2=SparseVector(9, {1: 0.7052, 2: 2.7992}), churn=0),\n",
       " Row(userId='100001', tsyear='2018', tsmonth='10', tsday='01', scaledfeatures2=SparseVector(9, {1: 0.7052, 2: 2.7992}), churn=0),\n",
       " Row(userId='100001', tsyear='2018', tsmonth='10', tsday='01', scaledfeatures2=SparseVector(9, {2: 2.8546}), churn=0),\n",
       " Row(userId='100001', tsyear='2018', tsmonth='10', tsday='01', scaledfeatures2=SparseVector(9, {2: 2.8546}), churn=0),\n",
       " Row(userId='100001', tsyear='2018', tsmonth='10', tsday='01', scaledfeatures2=SparseVector(9, {2: 2.8546}), churn=0),\n",
       " Row(userId='100001', tsyear='2018', tsmonth='10', tsday='01', scaledfeatures2=SparseVector(9, {2: 2.8546}), churn=0),\n",
       " Row(userId='100001', tsyear='2018', tsmonth='10', tsday='01', scaledfeatures2=SparseVector(9, {2: 2.8546}), churn=0),\n",
       " Row(userId='100001', tsyear='2018', tsmonth='10', tsday='01', scaledfeatures2=SparseVector(9, {2: 2.8546}), churn=0),\n",
       " Row(userId='100001', tsyear='2018', tsmonth='10', tsday='01', scaledfeatures2=SparseVector(9, {2: 2.8546}), churn=0),\n",
       " Row(userId='100001', tsyear='2018', tsmonth='10', tsday='01', scaledfeatures2=SparseVector(9, {2: 2.8546}), churn=0),\n",
       " Row(userId='100001', tsyear='2018', tsmonth='10', tsday='01', scaledfeatures2=SparseVector(9, {2: 2.8546}), churn=0),\n",
       " Row(userId='100001', tsyear='2018', tsmonth='10', tsday='01', scaledfeatures2=SparseVector(9, {2: 2.8546}), churn=0),\n",
       " Row(userId='100001', tsyear='2018', tsmonth='10', tsday='01', scaledfeatures2=SparseVector(9, {2: 2.8546}), churn=0),\n",
       " Row(userId='100001', tsyear='2018', tsmonth='10', tsday='01', scaledfeatures2=SparseVector(9, {2: 2.8546}), churn=0),\n",
       " Row(userId='100001', tsyear='2018', tsmonth='10', tsday='01', scaledfeatures2=SparseVector(9, {2: 2.8546}), churn=0),\n",
       " Row(userId='100001', tsyear='2018', tsmonth='10', tsday='01', scaledfeatures2=SparseVector(9, {2: 2.8546}), churn=0),\n",
       " Row(userId='100001', tsyear='2018', tsmonth='10', tsday='01', scaledfeatures2=SparseVector(9, {2: 2.8546}), churn=0),\n",
       " Row(userId='100001', tsyear='2018', tsmonth='10', tsday='01', scaledfeatures2=SparseVector(9, {2: 2.8546}), churn=0),\n",
       " Row(userId='100001', tsyear='2018', tsmonth='10', tsday='01', scaledfeatures2=SparseVector(9, {2: 2.8546}), churn=0),\n",
       " Row(userId='100001', tsyear='2018', tsmonth='10', tsday='01', scaledfeatures2=SparseVector(9, {2: 2.8546}), churn=0),\n",
       " Row(userId='100001', tsyear='2018', tsmonth='10', tsday='01', scaledfeatures2=SparseVector(9, {2: 2.8546}), churn=0),\n",
       " Row(userId='100001', tsyear='2018', tsmonth='10', tsday='01', scaledfeatures2=SparseVector(9, {2: 2.8546}), churn=0),\n",
       " Row(userId='100001', tsyear='2018', tsmonth='10', tsday='01', scaledfeatures2=SparseVector(9, {2: 2.8546}), churn=0),\n",
       " Row(userId='100001', tsyear='2018', tsmonth='10', tsday='01', scaledfeatures2=SparseVector(9, {2: 2.8546}), churn=0),\n",
       " Row(userId='100001', tsyear='2018', tsmonth='10', tsday='01', scaledfeatures2=SparseVector(9, {2: 2.8546}), churn=0),\n",
       " Row(userId='100001', tsyear='2018', tsmonth='10', tsday='01', scaledfeatures2=SparseVector(9, {2: 2.8546}), churn=0),\n",
       " Row(userId='100001', tsyear='2018', tsmonth='10', tsday='01', scaledfeatures2=SparseVector(9, {2: 2.8546}), churn=0),\n",
       " Row(userId='100001', tsyear='2018', tsmonth='10', tsday='01', scaledfeatures2=SparseVector(9, {2: 2.8546}), churn=0),\n",
       " Row(userId='100001', tsyear='2018', tsmonth='10', tsday='01', scaledfeatures2=SparseVector(9, {2: 2.8546}), churn=0),\n",
       " Row(userId='100001', tsyear='2018', tsmonth='10', tsday='01', scaledfeatures2=SparseVector(9, {2: 2.8546}), churn=0),\n",
       " Row(userId='100001', tsyear='2018', tsmonth='10', tsday='01', scaledfeatures2=SparseVector(9, {2: 2.8546}), churn=0),\n",
       " Row(userId='100001', tsyear='2018', tsmonth='10', tsday='01', scaledfeatures2=SparseVector(9, {2: 2.8546}), churn=0),\n",
       " Row(userId='100001', tsyear='2018', tsmonth='10', tsday='01', scaledfeatures2=SparseVector(9, {2: 2.8546}), churn=0),\n",
       " Row(userId='100001', tsyear='2018', tsmonth='10', tsday='01', scaledfeatures2=SparseVector(9, {2: 2.8546}), churn=0),\n",
       " Row(userId='100001', tsyear='2018', tsmonth='10', tsday='01', scaledfeatures2=SparseVector(9, {2: 2.8546}), churn=0),\n",
       " Row(userId='100001', tsyear='2018', tsmonth='10', tsday='01', scaledfeatures2=SparseVector(9, {2: 2.8546}), churn=0),\n",
       " Row(userId='100001', tsyear='2018', tsmonth='10', tsday='01', scaledfeatures2=SparseVector(9, {2: 2.8546}), churn=0),\n",
       " Row(userId='100001', tsyear='2018', tsmonth='10', tsday='01', scaledfeatures2=SparseVector(9, {2: 2.8546}), churn=0),\n",
       " Row(userId='100001', tsyear='2018', tsmonth='10', tsday='01', scaledfeatures2=SparseVector(9, {2: 2.8546}), churn=0),\n",
       " Row(userId='100001', tsyear='2018', tsmonth='10', tsday='01', scaledfeatures2=SparseVector(9, {2: 2.8546}), churn=0),\n",
       " Row(userId='100001', tsyear='2018', tsmonth='10', tsday='01', scaledfeatures2=SparseVector(9, {}), churn=0),\n",
       " Row(userId='100001', tsyear='2018', tsmonth='10', tsday='01', scaledfeatures2=SparseVector(9, {}), churn=0)]"
      ]
     },
     "execution_count": 22,
     "metadata": {},
     "output_type": "execute_result"
    }
   ],
   "source": [
    "df_clean.select([\"userId\", \"tsyear\", \"tsmonth\", \"tsday\", \"scaledfeatures2\", \"churn\"]).filter(df_clean.userId == \"100001\").sort(desc(\"ts\")).collect()"
   ]
  },
  {
   "cell_type": "markdown",
   "metadata": {},
   "source": [
    "从上面的数据片段可以看到，`scaledfeatures2`特征已创建完毕"
   ]
  },
  {
   "cell_type": "markdown",
   "metadata": {},
   "source": [
    "# 建模\n",
    "\n",
    "**最终需要解决的问题是一个二分类问题**\n",
    "\n",
    "模型选择决定采用逻辑回归和决策树先进行尝试，如果预测效果不好，再选择其他模型\n",
    "\n",
    "- 逻辑回归模型:调整的参数先尝试`regParam`，使用0和0.1进行网格搜索\n",
    "\n",
    "- 决策树模型：调整的参数先尝试`maxDepth`，使用5和10进行网格搜索\n",
    "\n",
    "流失用户相对于整体用户的基数非常小，使用F1分数作为优化指标。实现精度和召回率平衡的模型\n",
    "\n",
    "操作步骤如下：\n",
    "\n",
    "1.将完整数据集分成训练集、测试集和验证集\n",
    "\n",
    "2.使用逻辑回归模型进行测试，得到f1分数和学习时间\n",
    "\n",
    "3.使用决策树模型进行测试，得到f1分数和学习时间\n",
    "\n",
    "4.比较两种模型的准确率，如果两种模型的f1分数低于0.9，尝试选择其他模型；如果效果较好，比较两个模型的学习效率"
   ]
  },
  {
   "cell_type": "code",
   "execution_count": 28,
   "metadata": {},
   "outputs": [],
   "source": [
    "from pyspark.ml.regression import LinearRegression\n",
    "from pyspark.sql.functions import col"
   ]
  },
  {
   "cell_type": "code",
   "execution_count": 29,
   "metadata": {},
   "outputs": [
    {
     "data": {
      "text/plain": [
       "Row(label=0, features=SparseVector(9, {}))"
      ]
     },
     "execution_count": 29,
     "metadata": {},
     "output_type": "execute_result"
    }
   ],
   "source": [
    "data = df_clean.select(col(\"churn\").alias(\"label\"), col(\"scaledfeatures2\").alias(\"features\"))\n",
    "data.head()"
   ]
  },
  {
   "cell_type": "code",
   "execution_count": 30,
   "metadata": {},
   "outputs": [],
   "source": [
    "rest, validation = data.randomSplit([0.9, 0.1], seed=42)"
   ]
  },
  {
   "cell_type": "code",
   "execution_count": 24,
   "metadata": {},
   "outputs": [],
   "source": [
    "from pyspark.ml.classification import LogisticRegression\n",
    "from pyspark.ml.tuning import CrossValidator, ParamGridBuilder\n",
    "from pyspark.ml.evaluation import MulticlassClassificationEvaluator\n",
    "from pyspark.ml.classification import DecisionTreeClassifier\n"
   ]
  },
  {
   "cell_type": "code",
   "execution_count": 47,
   "metadata": {},
   "outputs": [],
   "source": [
    "lr =  LogisticRegression(maxIter=10, regParam=0.0, elasticNetParam=0)\n",
    "paramGrid = ParamGridBuilder().addGrid(lr.regParam,[0.0, 0.1]).build()\n",
    "\n",
    "f1_score = MulticlassClassificationEvaluator(metricName = 'f1')\n",
    "\n",
    "\n",
    "crossval = CrossValidator(estimator=lr,\n",
    "                          estimatorParamMaps=paramGrid,\n",
    "                          evaluator=f1_score,\n",
    "                          numFolds=3)"
   ]
  },
  {
   "cell_type": "code",
   "execution_count": 48,
   "metadata": {},
   "outputs": [],
   "source": [
    "cvModel_q1 = crossval.fit(rest)"
   ]
  },
  {
   "cell_type": "code",
   "execution_count": 49,
   "metadata": {},
   "outputs": [],
   "source": [
    "results = cvModel_q1.transform(validation)"
   ]
  },
  {
   "cell_type": "code",
   "execution_count": 52,
   "metadata": {},
   "outputs": [
    {
     "name": "stdout",
     "output_type": "stream",
     "text": [
      "逻辑回归分数:\n",
      "准确度: 0.9997849231100119\n",
      "f1分数: 0.9996773962307786\n",
      "验证集计算准确度与f1分数用时 50.80810737609863秒\n"
     ]
    }
   ],
   "source": [
    "from time import time\n",
    "# 查看结果\n",
    "# 时间也是衡量模型好坏的一个标准\n",
    "evaluator = MulticlassClassificationEvaluator(predictionCol = 'prediction')\n",
    "print(\"逻辑回归分数:\")\n",
    "start = time()\n",
    "print(\"准确度: {}\".format(evaluator.evaluate(results, {evaluator.metricName:'accuracy'})))\n",
    "print(\"f1分数: {}\".format(evaluator.evaluate(results, {evaluator.metricName:'f1'})))\n",
    "end = time()\n",
    "print(\"验证集计算准确度与f1分数用时 {}秒\".format(end - start))"
   ]
  },
  {
   "cell_type": "code",
   "execution_count": 26,
   "metadata": {},
   "outputs": [],
   "source": [
    "\n",
    "dt = DecisionTreeClassifier(labelCol=\"label\", featuresCol=\"features\")\n",
    "\n",
    "paramGrid = ParamGridBuilder().addGrid(dt.maxDepth,[5, 10]).build()\n",
    "f1_score = MulticlassClassificationEvaluator(metricName = 'f1')\n",
    "\n",
    "crossval = CrossValidator(estimator=dt,\n",
    "                          estimatorParamMaps=paramGrid,\n",
    "                          evaluator=f1_score,\n",
    "                          numFolds=3)"
   ]
  },
  {
   "cell_type": "code",
   "execution_count": 32,
   "metadata": {},
   "outputs": [],
   "source": [
    "cvModel_q1 = crossval.fit(rest)\n",
    "results = cvModel_q1.transform(validation)"
   ]
  },
  {
   "cell_type": "code",
   "execution_count": 33,
   "metadata": {},
   "outputs": [
    {
     "name": "stdout",
     "output_type": "stream",
     "text": [
      "决策树分数:\n",
      "准确度: 0.9996773846650178\n",
      "f1分数: 0.999623624117308\n",
      "验证集计算准确度与f1分数用时 50.13434457778931秒\n"
     ]
    }
   ],
   "source": [
    "from time import time\n",
    "# 查看结果\n",
    "# 时间也是衡量模型好坏的一个标准\n",
    "evaluator = MulticlassClassificationEvaluator(predictionCol = 'prediction')\n",
    "print(\"决策树分数:\")\n",
    "start = time()\n",
    "print(\"准确度: {}\".format(evaluator.evaluate(results, {evaluator.metricName:'accuracy'})))\n",
    "print(\"f1分数: {}\".format(evaluator.evaluate(results, {evaluator.metricName:'f1'})))\n",
    "end = time()\n",
    "print(\"验证集计算准确度与f1分数用时 {}秒\".format(end - start))"
   ]
  },
  {
   "cell_type": "markdown",
   "metadata": {},
   "source": [
    "## 建模结论\n",
    "1.逻辑回归模型的f1分数为0.9997，验证集预测时间用时50.8秒\n",
    "\n",
    "2.决策树模型的f1分数为0.9996，验证集预测时间用时50.1秒\n",
    "\n",
    "3.两个模型都非常棒，几乎没有差别，因此我决定使用逻辑回归做为本项目使用的最终模型"
   ]
  }
 ],
 "metadata": {
  "kernelspec": {
   "display_name": "Python 3",
   "language": "python",
   "name": "python3"
  },
  "language_info": {
   "codemirror_mode": {
    "name": "ipython",
    "version": 3
   },
   "file_extension": ".py",
   "mimetype": "text/x-python",
   "name": "python",
   "nbconvert_exporter": "python",
   "pygments_lexer": "ipython3",
   "version": "3.6.3"
  }
 },
 "nbformat": 4,
 "nbformat_minor": 2
}
