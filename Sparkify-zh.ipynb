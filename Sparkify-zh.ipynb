{
 "cells": [
  {
   "cell_type": "markdown",
   "metadata": {},
   "source": [
    "# Sparkify 项目"
   ]
  },
  {
   "cell_type": "markdown",
   "metadata": {},
   "source": [
    "学员：陈勤 2020年3月28日"
   ]
  },
  {
   "cell_type": "markdown",
   "metadata": {},
   "source": [
    "## 定义"
   ]
  },
  {
   "cell_type": "markdown",
   "metadata": {},
   "source": [
    "### 项目概览\n",
    "数字音乐服务平台（如网易云音乐、QQ音乐）通过网页、桌面应用和移动应用为用户提供在线音乐服务。用户使用服务过程中，会产生诸如听歌、添加歌单、交友、点击广告、升级VIP和注销等庞大的行为日志。此项目旨在通过抽取日志相关性特征来预测客户流失情况。\n",
    "\n",
    "我认为在线音乐服务的产品逻辑：\n",
    "- 用户需要注册一个账号成为普通用户，可以点播平台提供的免费歌曲，平台向用户展示广告，赚取收入用于平台运营\n",
    "- 使用初期平台为用户推荐平台热门歌曲和用户，用户可以把歌曲加入歌单、评价歌曲和交友。通过社交行为增加用户粘性和提升平台活跃度\n",
    "- 使用一段时间以后，平台为用户推荐有相似听歌行为的用户和分类歌曲\n",
    "- 用户建立了使用喜好和社交圈后，平台向用户展示需要升级成为VIP用户才可以点播的歌曲（如明星艺术家和无损音乐）和特权（社交虚拟道具），吸引用户成为付费用户\n",
    "- 出于多种原因，付费用户可能从付费降级为免费，也有可能从免费升级为付费，最糟糕的就是注销，那么用户将从平台流失，这是平台要极力避免的\n",
    "\n",
    "\n",
    "预测客户流失率是数据科学家和分析师在面向消费者的一类公司中经常遇到的一项具有挑战性的问题。还有，能用 Spark 高效处理大数据集是数据领域职位急需的一种能力。\n",
    "\n",
    "完整的数据集大小为 12GB，通过分析完整数据集的子集（小数据集），使用Spark 集群的时候，把成果迁移到大数据集上。"
   ]
  },
  {
   "cell_type": "markdown",
   "metadata": {},
   "source": [
    "### 问题概述\n",
    "1.把大数据集加载到 Spark 上，并使用 Spark SQL 和 Spark 数据框来操作数据\n",
    "\n",
    "2.对数据进行清理、整理\n",
    "\n",
    "3.对数据进行探索性分析\n",
    "\n",
    "4.提取相关性特征\n",
    "\n",
    "5.在 Spark ML 中使用机器学习 API 来搭建和调整模型"
   ]
  },
  {
   "cell_type": "markdown",
   "metadata": {},
   "source": [
    "### 衡量指标\n",
    "流失用户相对于整体用户的基数非常小（类似于从信用卡用户中找出失信用户），使用F1分数作为优化指标。实现精度和召回率平衡的模型"
   ]
  },
  {
   "cell_type": "markdown",
   "metadata": {},
   "source": [
    "# 加载和清洗数据"
   ]
  },
  {
   "cell_type": "code",
   "execution_count": 1,
   "metadata": {},
   "outputs": [],
   "source": [
    "# import libraries\n",
    "from pyspark.sql import SparkSession\n",
    "from pyspark.sql.functions import udf\n",
    "from pyspark.sql.types import StringType\n",
    "from pyspark.sql.types import IntegerType\n",
    "from pyspark.sql.functions import desc\n",
    "from pyspark.sql.functions import asc\n",
    "from pyspark.sql.functions import sum as Fsum\n",
    "from pyspark.sql import Window\n",
    "from pyspark.ml.feature import RegexTokenizer, VectorAssembler, Normalizer, StandardScaler\n",
    "from pyspark.sql.functions import avg, col, concat, count, desc, asc, explode, lit, split, stddev, udf, isnan, when, rank, from_unixtime\n",
    "import datetime\n",
    "\n",
    "import numpy as np\n",
    "import pandas as pd\n",
    "%matplotlib inline\n",
    "import matplotlib.pyplot as plt"
   ]
  },
  {
   "cell_type": "code",
   "execution_count": 2,
   "metadata": {},
   "outputs": [],
   "source": [
    "# create a Spark session\n",
    "spark = SparkSession \\\n",
    "    .builder \\\n",
    "    .appName(\"sparkify\") \\\n",
    "    .getOrCreate()"
   ]
  },
  {
   "cell_type": "code",
   "execution_count": 3,
   "metadata": {},
   "outputs": [
    {
     "data": {
      "text/plain": [
       "Row(artist='Martha Tilston', auth='Logged In', firstName='Colin', gender='M', itemInSession=50, lastName='Freeman', length=277.89016, level='paid', location='Bakersfield, CA', method='PUT', page='NextSong', registration=1538173362000, sessionId=29, song='Rockpools', status=200, ts=1538352117000, userAgent='Mozilla/5.0 (Windows NT 6.1; WOW64; rv:31.0) Gecko/20100101 Firefox/31.0', userId='30')"
      ]
     },
     "execution_count": 3,
     "metadata": {},
     "output_type": "execute_result"
    }
   ],
   "source": [
    "path = \"mini_sparkify_event_data.json\"\n",
    "df = spark.read.json(path)\n",
    "df.head()"
   ]
  },
  {
   "cell_type": "code",
   "execution_count": 18,
   "metadata": {},
   "outputs": [
    {
     "name": "stdout",
     "output_type": "stream",
     "text": [
      "root\n",
      " |-- artist: string (nullable = true)\n",
      " |-- auth: string (nullable = true)\n",
      " |-- firstName: string (nullable = true)\n",
      " |-- gender: string (nullable = true)\n",
      " |-- itemInSession: long (nullable = true)\n",
      " |-- lastName: string (nullable = true)\n",
      " |-- length: double (nullable = true)\n",
      " |-- level: string (nullable = true)\n",
      " |-- location: string (nullable = true)\n",
      " |-- method: string (nullable = true)\n",
      " |-- page: string (nullable = true)\n",
      " |-- registration: long (nullable = true)\n",
      " |-- sessionId: long (nullable = true)\n",
      " |-- song: string (nullable = true)\n",
      " |-- status: long (nullable = true)\n",
      " |-- ts: long (nullable = true)\n",
      " |-- userAgent: string (nullable = true)\n",
      " |-- userId: string (nullable = true)\n",
      "\n"
     ]
    }
   ],
   "source": [
    "df.printSchema()"
   ]
  },
  {
   "cell_type": "code",
   "execution_count": 19,
   "metadata": {},
   "outputs": [
    {
     "data": {
      "text/plain": [
       "286500"
      ]
     },
     "execution_count": 19,
     "metadata": {},
     "output_type": "execute_result"
    }
   ],
   "source": [
    "df.count()"
   ]
  },
  {
   "cell_type": "markdown",
   "metadata": {},
   "source": [
    "## 评估"
   ]
  },
  {
   "cell_type": "code",
   "execution_count": 12,
   "metadata": {},
   "outputs": [],
   "source": [
    "# 观察字符列有那些 数值列有那些\n",
    "num_cols = []\n",
    "cat_cols = []\n",
    "\n",
    "for s in df.schema:\n",
    "    data_type = str(s.dataType)\n",
    "    if data_type == \"StringType\":\n",
    "        cat_cols.append(s.name)\n",
    "    \n",
    "    if data_type == \"LongType\" or data_type == \"DoubleType\":\n",
    "        num_cols.append(s.name)"
   ]
  },
  {
   "cell_type": "code",
   "execution_count": 13,
   "metadata": {},
   "outputs": [
    {
     "data": {
      "text/plain": [
       "['itemInSession', 'length', 'registration', 'sessionId', 'status', 'ts']"
      ]
     },
     "execution_count": 13,
     "metadata": {},
     "output_type": "execute_result"
    }
   ],
   "source": [
    "num_cols"
   ]
  },
  {
   "cell_type": "code",
   "execution_count": 14,
   "metadata": {},
   "outputs": [
    {
     "data": {
      "text/plain": [
       "['artist',\n",
       " 'auth',\n",
       " 'firstName',\n",
       " 'gender',\n",
       " 'lastName',\n",
       " 'level',\n",
       " 'location',\n",
       " 'method',\n",
       " 'page',\n",
       " 'song',\n",
       " 'userAgent',\n",
       " 'userId']"
      ]
     },
     "execution_count": 14,
     "metadata": {},
     "output_type": "execute_result"
    }
   ],
   "source": [
    "cat_cols"
   ]
  },
  {
   "cell_type": "code",
   "execution_count": 27,
   "metadata": {},
   "outputs": [
    {
     "name": "stdout",
     "output_type": "stream",
     "text": [
      "+--------------------+\n",
      "|              artist|\n",
      "+--------------------+\n",
      "|                null|\n",
      "|                 !!!|\n",
      "|        & And Oceans|\n",
      "|'N Sync/Phil Collins|\n",
      "|        'Til Tuesday|\n",
      "| 't Hof Van Commerce|\n",
      "|'t Hof Van Commer...|\n",
      "|       (Love) Tattoo|\n",
      "|          (hed) p.e.|\n",
      "|*NSYNC featuring ...|\n",
      "|  + / - {Plus/Minus}|\n",
      "|                 +44|\n",
      "|          -123 minut|\n",
      "|            -123min.|\n",
      "|       ...And Oceans|\n",
      "|...And You Will K...|\n",
      "|           1 40 4 20|\n",
      "|1 Giant Leap feat...|\n",
      "|1 Giant Leap feat...|\n",
      "|1 Giant Leap feat...|\n",
      "+--------------------+\n",
      "only showing top 20 rows\n",
      "\n"
     ]
    }
   ],
   "source": [
    "df.select(\"artist\").dropDuplicates().sort(\"artist\").show()"
   ]
  },
  {
   "cell_type": "markdown",
   "metadata": {},
   "source": [
    "`artist`列有空值"
   ]
  },
  {
   "cell_type": "code",
   "execution_count": 28,
   "metadata": {},
   "outputs": [
    {
     "name": "stdout",
     "output_type": "stream",
     "text": [
      "+----------+\n",
      "| firstName|\n",
      "+----------+\n",
      "|      null|\n",
      "|  Adelaida|\n",
      "|    Adrian|\n",
      "|   Adriana|\n",
      "|    Adriel|\n",
      "|   Ainsley|\n",
      "|      Alex|\n",
      "| Alexander|\n",
      "|Alexandria|\n",
      "|     Alexi|\n",
      "|    Alyssa|\n",
      "|   Alyssia|\n",
      "| Amberlynn|\n",
      "|    Andrew|\n",
      "|     Angel|\n",
      "|     Anika|\n",
      "|      Anna|\n",
      "| Annabella|\n",
      "|  Antonina|\n",
      "|   Antonio|\n",
      "+----------+\n",
      "only showing top 20 rows\n",
      "\n"
     ]
    }
   ],
   "source": [
    "df.select(\"firstName\").dropDuplicates().sort(\"firstName\").show()"
   ]
  },
  {
   "cell_type": "markdown",
   "metadata": {},
   "source": [
    "`firstName`列有空值"
   ]
  },
  {
   "cell_type": "code",
   "execution_count": 29,
   "metadata": {},
   "outputs": [
    {
     "name": "stdout",
     "output_type": "stream",
     "text": [
      "+------+\n",
      "|gender|\n",
      "+------+\n",
      "|  null|\n",
      "|     F|\n",
      "|     M|\n",
      "+------+\n",
      "\n"
     ]
    }
   ],
   "source": [
    "df.select(\"gender\").dropDuplicates().sort(\"gender\").show()"
   ]
  },
  {
   "cell_type": "markdown",
   "metadata": {},
   "source": [
    "`gender`列有空值"
   ]
  },
  {
   "cell_type": "code",
   "execution_count": 31,
   "metadata": {},
   "outputs": [
    {
     "name": "stdout",
     "output_type": "stream",
     "text": [
      "+---------+\n",
      "| lastName|\n",
      "+---------+\n",
      "|     null|\n",
      "|    Adams|\n",
      "|  Aguilar|\n",
      "|Alexander|\n",
      "|    Allen|\n",
      "| Atkinson|\n",
      "|   Bailey|\n",
      "|    Baker|\n",
      "|     Ball|\n",
      "|   Barnes|\n",
      "|  Barnett|\n",
      "|     Beck|\n",
      "|  Bennett|\n",
      "|     Bird|\n",
      "|    Boone|\n",
      "|  Bradley|\n",
      "|   Brooks|\n",
      "|    Brown|\n",
      "|  Burgess|\n",
      "|  Cabrera|\n",
      "+---------+\n",
      "only showing top 20 rows\n",
      "\n"
     ]
    }
   ],
   "source": [
    "df.select(\"lastName\").dropDuplicates().sort(\"lastName\").show()"
   ]
  },
  {
   "cell_type": "markdown",
   "metadata": {},
   "source": [
    "`lastName`列有空值"
   ]
  },
  {
   "cell_type": "code",
   "execution_count": 32,
   "metadata": {},
   "outputs": [
    {
     "name": "stdout",
     "output_type": "stream",
     "text": [
      "+-----+\n",
      "|level|\n",
      "+-----+\n",
      "| free|\n",
      "| paid|\n",
      "+-----+\n",
      "\n"
     ]
    }
   ],
   "source": [
    "df.select(\"level\").dropDuplicates().sort(\"level\").show()"
   ]
  },
  {
   "cell_type": "markdown",
   "metadata": {},
   "source": [
    "`level`列数据完整"
   ]
  },
  {
   "cell_type": "code",
   "execution_count": 34,
   "metadata": {},
   "outputs": [
    {
     "name": "stdout",
     "output_type": "stream",
     "text": [
      "+--------------------+\n",
      "|            location|\n",
      "+--------------------+\n",
      "|                null|\n",
      "|          Albany, OR|\n",
      "|Albany-Schenectad...|\n",
      "|      Alexandria, LA|\n",
      "|Allentown-Bethleh...|\n",
      "|       Anchorage, AK|\n",
      "|Atlanta-Sandy Spr...|\n",
      "|Atlantic City-Ham...|\n",
      "|Austin-Round Rock...|\n",
      "|     Bakersfield, CA|\n",
      "|Baltimore-Columbi...|\n",
      "|        Billings, MT|\n",
      "|Birmingham-Hoover...|\n",
      "|Boston-Cambridge-...|\n",
      "|         Boulder, CO|\n",
      "|         Bozeman, MT|\n",
      "|Bridgeport-Stamfo...|\n",
      "|Buffalo-Cheektowa...|\n",
      "|Charlotte-Concord...|\n",
      "|Chicago-Napervill...|\n",
      "+--------------------+\n",
      "only showing top 20 rows\n",
      "\n"
     ]
    }
   ],
   "source": [
    "df.select(\"location\").dropDuplicates().sort(\"location\").show()"
   ]
  },
  {
   "cell_type": "markdown",
   "metadata": {},
   "source": [
    "`location`列有空值"
   ]
  },
  {
   "cell_type": "code",
   "execution_count": 35,
   "metadata": {},
   "outputs": [
    {
     "name": "stdout",
     "output_type": "stream",
     "text": [
      "+------+\n",
      "|method|\n",
      "+------+\n",
      "|   GET|\n",
      "|   PUT|\n",
      "+------+\n",
      "\n"
     ]
    }
   ],
   "source": [
    "df.select(\"method\").dropDuplicates().sort(\"method\").show()"
   ]
  },
  {
   "cell_type": "markdown",
   "metadata": {},
   "source": [
    "`method`列数据完整"
   ]
  },
  {
   "cell_type": "code",
   "execution_count": 36,
   "metadata": {},
   "outputs": [
    {
     "name": "stdout",
     "output_type": "stream",
     "text": [
      "+--------------------+\n",
      "|                page|\n",
      "+--------------------+\n",
      "|               About|\n",
      "|          Add Friend|\n",
      "|     Add to Playlist|\n",
      "|              Cancel|\n",
      "|Cancellation Conf...|\n",
      "|           Downgrade|\n",
      "|               Error|\n",
      "|                Help|\n",
      "|                Home|\n",
      "|               Login|\n",
      "|              Logout|\n",
      "|            NextSong|\n",
      "|            Register|\n",
      "|         Roll Advert|\n",
      "|       Save Settings|\n",
      "|            Settings|\n",
      "|    Submit Downgrade|\n",
      "| Submit Registration|\n",
      "|      Submit Upgrade|\n",
      "|         Thumbs Down|\n",
      "+--------------------+\n",
      "only showing top 20 rows\n",
      "\n"
     ]
    }
   ],
   "source": [
    "df.select(\"page\").dropDuplicates().sort(\"page\").show()"
   ]
  },
  {
   "cell_type": "markdown",
   "metadata": {},
   "source": [
    "`page`列数据完整"
   ]
  },
  {
   "cell_type": "code",
   "execution_count": 37,
   "metadata": {},
   "outputs": [
    {
     "name": "stdout",
     "output_type": "stream",
     "text": [
      "+--------------------+\n",
      "|                song|\n",
      "+--------------------+\n",
      "|                null|\n",
      "|\u001c",
      "ÃÂg ÃÂtti Gr...|\n",
      "| I Will Not Reap ...|\n",
      "|              !@*$%#|\n",
      "|#!*@ You Tonight ...|\n",
      "|                  #1|\n",
      "|#1 Fan [Feat. Key...|\n",
      "|           #1 Stunna|\n",
      "|                 #16|\n",
      "| #18 (Album Version)|\n",
      "|#2 For Prepared W...|\n",
      "|                 #24|\n",
      "|  #4 (Album Version)|\n",
      "|                 #40|\n",
      "|                   $|\n",
      "|       $1000 Wedding|\n",
      "|$87 And A Guilty ...|\n",
      "|                $in$|\n",
      "|       $timulus Plan|\n",
      "|              & Down|\n",
      "+--------------------+\n",
      "only showing top 20 rows\n",
      "\n"
     ]
    }
   ],
   "source": [
    "df.select(\"song\").dropDuplicates().sort(\"song\").show()"
   ]
  },
  {
   "cell_type": "markdown",
   "metadata": {},
   "source": [
    "`song`列有缺失值"
   ]
  },
  {
   "cell_type": "code",
   "execution_count": 39,
   "metadata": {},
   "outputs": [
    {
     "name": "stdout",
     "output_type": "stream",
     "text": [
      "+--------------------+\n",
      "|           userAgent|\n",
      "+--------------------+\n",
      "|                null|\n",
      "|\"Mozilla/5.0 (Mac...|\n",
      "|\"Mozilla/5.0 (Mac...|\n",
      "|\"Mozilla/5.0 (Mac...|\n",
      "|\"Mozilla/5.0 (Mac...|\n",
      "|\"Mozilla/5.0 (Mac...|\n",
      "|\"Mozilla/5.0 (Mac...|\n",
      "|\"Mozilla/5.0 (Mac...|\n",
      "|\"Mozilla/5.0 (Mac...|\n",
      "|\"Mozilla/5.0 (Mac...|\n",
      "|\"Mozilla/5.0 (Mac...|\n",
      "|\"Mozilla/5.0 (Mac...|\n",
      "|\"Mozilla/5.0 (Mac...|\n",
      "|\"Mozilla/5.0 (Mac...|\n",
      "|\"Mozilla/5.0 (Mac...|\n",
      "|\"Mozilla/5.0 (Mac...|\n",
      "|\"Mozilla/5.0 (Mac...|\n",
      "|\"Mozilla/5.0 (Mac...|\n",
      "|\"Mozilla/5.0 (Win...|\n",
      "|\"Mozilla/5.0 (Win...|\n",
      "+--------------------+\n",
      "only showing top 20 rows\n",
      "\n"
     ]
    }
   ],
   "source": [
    "df.select(\"userAgent\").dropDuplicates().sort(\"userAgent\").show()"
   ]
  },
  {
   "cell_type": "markdown",
   "metadata": {},
   "source": [
    "`userAgent`列有缺失值"
   ]
  },
  {
   "cell_type": "code",
   "execution_count": 40,
   "metadata": {},
   "outputs": [
    {
     "name": "stdout",
     "output_type": "stream",
     "text": [
      "+------+\n",
      "|userId|\n",
      "+------+\n",
      "|      |\n",
      "|    10|\n",
      "|   100|\n",
      "|100001|\n",
      "|100002|\n",
      "|100003|\n",
      "|100004|\n",
      "|100005|\n",
      "|100006|\n",
      "|100007|\n",
      "|100008|\n",
      "|100009|\n",
      "|100010|\n",
      "|100011|\n",
      "|100012|\n",
      "|100013|\n",
      "|100014|\n",
      "|100015|\n",
      "|100016|\n",
      "|100017|\n",
      "+------+\n",
      "only showing top 20 rows\n",
      "\n"
     ]
    }
   ],
   "source": [
    "df.select(\"userId\").dropDuplicates().sort(\"userId\").show()"
   ]
  },
  {
   "cell_type": "markdown",
   "metadata": {},
   "source": [
    "`userId`列包含空字符串"
   ]
  },
  {
   "cell_type": "code",
   "execution_count": 20,
   "metadata": {},
   "outputs": [],
   "source": [
    "# 定义一个数据完整性校验的函数\n",
    "def count_missing(df, col):\n",
    "    \"\"\"\n",
    "    对数据集中指定列的空值进行计数：空值定义如下：\n",
    "    \n",
    "    1. NaN\n",
    "    2. Null\n",
    "    3. \"\" (空串)\n",
    "    \"\"\"\n",
    "    return df.filter((isnan(df[col])) | (df[col].isNull()) | (df[col] == \"\")).count()"
   ]
  },
  {
   "cell_type": "code",
   "execution_count": 21,
   "metadata": {},
   "outputs": [
    {
     "name": "stdout",
     "output_type": "stream",
     "text": [
      "[missing values]\n",
      "\n",
      "artist: 58392\n",
      "firstName: 8346\n",
      "gender: 8346\n",
      "lastName: 8346\n",
      "length: 58392\n",
      "location: 8346\n",
      "registration: 8346\n",
      "song: 58392\n",
      "userAgent: 8346\n",
      "userId: 8346\n"
     ]
    }
   ],
   "source": [
    "# 打印数据集的完整性统计信息\n",
    "print(\"[missing values]\\n\")\n",
    "for col in df.columns:\n",
    "    missing_count = count_missing(df, col)\n",
    "    if missing_count > 0:\n",
    "        print(\"{}: {}\".format(col, missing_count))"
   ]
  },
  {
   "cell_type": "markdown",
   "metadata": {},
   "source": [
    "#### 评估统计信息\n",
    "\n",
    "数据集共有286500条记录，包含的特征如下：\n",
    "\n",
    "- `artist`:创作歌曲的艺术家名字，有**228108**条记录\n",
    "- `auth`:记录登录状态,数据完整无缺失\n",
    "- `firstName`:用户名,有**2278154**条记录\n",
    "- `gender`:性别,有**2278154**条记录\n",
    "- `itemInSession`:当前会话中id,数据完整无缺失\n",
    "- `lastName`:用户姓,有**2278154**条记录\n",
    "- `length`:歌曲长度,有**2228108**条记录\n",
    "- `level`:区分用户付费还是免费，数据完整无缺失\n",
    "- `location`:用户地理位置,有**2278154**条记录\n",
    "- `method`:数据上行还是下行,数据完整无缺失\n",
    "- `page`:用户访问的页面,数据完整无缺失\n",
    "- `registration`:注册时间,有**2278154**条记录\n",
    "- `sessionId`:会话id,数据完整无缺失\n",
    "- `song`:歌曲名,有**2228108**条记录\n",
    "- `status`:用户访问页面的http状态码,数据完整无缺失\n",
    "- `ts`:日志流水时间,数据完整无缺失\n",
    "- `userAgent`用户访问使用的浏览器信息,数据完整无缺失\n",
    "- `userId`用户id,数据完整无缺失"
   ]
  },
  {
   "cell_type": "markdown",
   "metadata": {},
   "source": [
    "从观测值来看，数据分为两个维度：\n",
    "\n",
    "- 从获取到的用户信息来看，有2278154条记录，而userId数据又是完整的，意味着有userId是无效的\n",
    "- 从获取到的歌曲信息来看，有228108条记录，这个是可以接受，毕竟用户不是每一次行为都是听歌"
   ]
  },
  {
   "cell_type": "markdown",
   "metadata": {},
   "source": [
    "### 质量\n",
    "- `userId`列没有空值，但存在**空字符串**,为无效的用户ID\n",
    "- `auth`、`level`、`method`、`page`、`itemInSession`、`sessionId`、`status`、`ts`列没有空值，数据完整\n",
    "- `userAgent`,`registration`,`location`,`firstName`,`lastName`,`gender`列数据存在缺失值，条数都为278154条\n",
    "- `artist`、`song`、`length`存在缺失值，条数都为228108"
   ]
  },
  {
   "cell_type": "markdown",
   "metadata": {},
   "source": [
    "### 清洗\n",
    "- 清洗0：去除`userId`为空字符串的数据"
   ]
  },
  {
   "cell_type": "code",
   "execution_count": 4,
   "metadata": {},
   "outputs": [
    {
     "name": "stdout",
     "output_type": "stream",
     "text": [
      "原始数据集记录数:                    286500\n",
      "无userId缺失记录数: 278154\n",
      "8346 行无效数据被移除.\n"
     ]
    }
   ],
   "source": [
    "df_clean = df.dropna(how = \"any\", subset = [\"userId\", \"sessionId\"])\n",
    "df_clean = df.filter(df[\"userId\"] != \"\")\n",
    "print(\"原始数据集记录数:                    {}\".format(df.count()))\n",
    "print(\"无userId缺失记录数: {}\".format(df_clean.count())) # no missing values\n",
    "\n",
    "if df.count() == df_clean.count():\n",
    "    print(\"userId 和 sessionId 没有缺失值\")\n",
    "else:\n",
    "    print(\"{} 行无效数据被移除.\".format(df.count() - df_clean.count()))"
   ]
  },
  {
   "cell_type": "code",
   "execution_count": 41,
   "metadata": {},
   "outputs": [
    {
     "name": "stdout",
     "output_type": "stream",
     "text": [
      "[missing values]\n",
      "\n",
      "artist: 50046\n",
      "length: 50046\n",
      "song: 50046\n"
     ]
    }
   ],
   "source": [
    "# 打印清洗后数据集的完整性统计信息\n",
    "print(\"[missing values]\\n\")\n",
    "for col in df_clean.columns:\n",
    "    missing_count = count_missing(df_clean, col)\n",
    "    if missing_count > 0:\n",
    "        print(\"{}: {}\".format(col, missing_count))"
   ]
  },
  {
   "cell_type": "markdown",
   "metadata": {},
   "source": [
    "清洗完`userId`列为空值的数据后，数据条数与`userAgent`,`registration`,`location`,`firstName`,`lastName`,`gender`列一致了\n",
    "\n",
    "`artist`、`song`、`length`为歌曲的播放信息，用户并非每个动作都是听歌，所以存在缺失值是可以接受的"
   ]
  },
  {
   "cell_type": "markdown",
   "metadata": {},
   "source": [
    "# 探索性数据分析\n",
    "\n",
    "\n",
    "用户访问页面的行为有：\n",
    "- `About`:点击应用的说明\n",
    "- `Add Friend`:添加好友\n",
    "- `Add to Playlist`: 添加播放歌单\n",
    "- `Cancel`:查看注销页\n",
    "- `Cancellation Confirmation`:确定注销\n",
    "- `Downgrade`:查看降级页\n",
    "- `Error`:访问错误\n",
    "- `Help`:查看帮助页\n",
    "- `Home`:查看主页\n",
    "- `Logout`:登出\n",
    "- `NextSong`:播放下一首歌曲\n",
    "- `Roll Advert`:滚动广告\n",
    "- `Save Settings`:保存设置\n",
    "- `Settings`:访问设置\n",
    "- `Submit Downgrade`:确定降级\n",
    "- `Submit Upgrade`:确定升级\n",
    "- `Thumbs Down`:撤下当前头像\n",
    "- `Thumbs Up`:上传头像\n",
    "- `Upgrade`:查看升级页\n",
    "\n",
    "## 探索思路：\n",
    "1.使用 Cancellation Confirmation 行为来定义客户流失\n",
    "\n",
    "2.提取我认为的与客户流失有较强相关的特征绘制图表观察\n",
    "\n",
    "3.从图表分析结果中最终确定用于机器学习的特征"
   ]
  },
  {
   "cell_type": "code",
   "execution_count": 7,
   "metadata": {},
   "outputs": [
    {
     "name": "stdout",
     "output_type": "stream",
     "text": [
      "+--------------------+\n",
      "|                page|\n",
      "+--------------------+\n",
      "|               About|\n",
      "|          Add Friend|\n",
      "|     Add to Playlist|\n",
      "|              Cancel|\n",
      "|Cancellation Conf...|\n",
      "|           Downgrade|\n",
      "|               Error|\n",
      "|                Help|\n",
      "|                Home|\n",
      "|              Logout|\n",
      "|            NextSong|\n",
      "|         Roll Advert|\n",
      "|       Save Settings|\n",
      "|            Settings|\n",
      "|    Submit Downgrade|\n",
      "|      Submit Upgrade|\n",
      "|         Thumbs Down|\n",
      "|           Thumbs Up|\n",
      "|             Upgrade|\n",
      "+--------------------+\n",
      "\n"
     ]
    }
   ],
   "source": [
    "df_clean.select(\"page\").dropDuplicates().sort(\"page\").show(30)"
   ]
  },
  {
   "cell_type": "markdown",
   "metadata": {},
   "source": [
    "使用 Cancellation Confirmation 事件来定义客户流失"
   ]
  },
  {
   "cell_type": "code",
   "execution_count": 43,
   "metadata": {},
   "outputs": [
    {
     "name": "stdout",
     "output_type": "stream",
     "text": [
      "+------+\n",
      "|userId|\n",
      "+------+\n",
      "|100001|\n",
      "|100003|\n",
      "|100005|\n",
      "|100006|\n",
      "|100007|\n",
      "+------+\n",
      "only showing top 5 rows\n",
      "\n"
     ]
    }
   ],
   "source": [
    "df_clean.select(\"userId\").filter(\"page = 'Cancellation Confirmation'\").sort(\"userId\").show(5)"
   ]
  },
  {
   "cell_type": "markdown",
   "metadata": {},
   "source": [
    "### 定义客户流失\n",
    "\n",
    "创建一列 `Churn` 作为模型的标签。使用 `Cancellation Confirmation` 事件来定义客户流失，该事件在付费或免费客户身上都有发生。"
   ]
  },
  {
   "cell_type": "code",
   "execution_count": 5,
   "metadata": {},
   "outputs": [],
   "source": [
    "# 定义客户流失标记函数 1 为流失 0 为存留\n",
    "flag_cancelled_event = udf(lambda x: 1 if x == \"Cancellation Confirmation\" else 0, IntegerType())\n",
    "# 创建列Churn \n",
    "df_clean = df_clean.withColumn(\"churn\", flag_cancelled_event(\"page\"))"
   ]
  },
  {
   "cell_type": "markdown",
   "metadata": {},
   "source": [
    "日志的时间都是timestamp类型，通过转换格式来观察时间日期"
   ]
  },
  {
   "cell_type": "code",
   "execution_count": 6,
   "metadata": {},
   "outputs": [],
   "source": [
    "# 创建提取年月日的函数\n",
    "get_year = udf(lambda x: datetime.datetime.fromtimestamp(x / 1000, None).strftime(\"%Y\"), StringType())\n",
    "get_month = udf(lambda x: datetime.datetime.fromtimestamp(x / 1000, None).strftime(\"%m\"), StringType())\n",
    "get_day = udf(lambda x: datetime.datetime.fromtimestamp(x / 1000, None).strftime(\"%d\"), StringType())\n",
    "get_hour = udf(lambda x: datetime.datetime.fromtimestamp(x / 1000, None).strftime(\"%H\"), StringType())"
   ]
  },
  {
   "cell_type": "code",
   "execution_count": 7,
   "metadata": {},
   "outputs": [],
   "source": [
    "# 拆分流水时间为年月日小时\n",
    "df_clean = df_clean.withColumn(\"tsyear\", get_year(df_clean.ts))\n",
    "df_clean = df_clean.withColumn(\"tsmonth\", get_month(df_clean.ts))\n",
    "df_clean = df_clean.withColumn(\"tsday\", get_day(df_clean.ts))\n",
    "df_clean = df_clean.withColumn(\"tshour\", get_hour(df_clean.ts))"
   ]
  },
  {
   "cell_type": "markdown",
   "metadata": {},
   "source": [
    "观察一个流失用户的行为"
   ]
  },
  {
   "cell_type": "code",
   "execution_count": 11,
   "metadata": {},
   "outputs": [
    {
     "data": {
      "text/plain": [
       "[Row(userId='100001', tsyear='2018', tsmonth='10', tsday='02', tshour='16', page='Cancellation Confirmation', level='free', churn=1),\n",
       " Row(userId='100001', tsyear='2018', tsmonth='10', tsday='02', tshour='16', page='Cancel', level='free', churn=0),\n",
       " Row(userId='100001', tsyear='2018', tsmonth='10', tsday='02', tshour='16', page='Roll Advert', level='free', churn=0),\n",
       " Row(userId='100001', tsyear='2018', tsmonth='10', tsday='02', tshour='16', page='NextSong', level='free', churn=0),\n",
       " Row(userId='100001', tsyear='2018', tsmonth='10', tsday='02', tshour='16', page='Home', level='free', churn=0),\n",
       " Row(userId='100001', tsyear='2018', tsmonth='10', tsday='02', tshour='16', page='Logout', level='free', churn=0),\n",
       " Row(userId='100001', tsyear='2018', tsmonth='10', tsday='02', tshour='16', page='NextSong', level='free', churn=0),\n",
       " Row(userId='100001', tsyear='2018', tsmonth='10', tsday='02', tshour='16', page='NextSong', level='free', churn=0),\n",
       " Row(userId='100001', tsyear='2018', tsmonth='10', tsday='02', tshour='16', page='NextSong', level='free', churn=0),\n",
       " Row(userId='100001', tsyear='2018', tsmonth='10', tsday='02', tshour='16', page='Help', level='free', churn=0),\n",
       " Row(userId='100001', tsyear='2018', tsmonth='10', tsday='02', tshour='16', page='NextSong', level='free', churn=0),\n",
       " Row(userId='100001', tsyear='2018', tsmonth='10', tsday='02', tshour='16', page='Roll Advert', level='free', churn=0),\n",
       " Row(userId='100001', tsyear='2018', tsmonth='10', tsday='02', tshour='16', page='NextSong', level='free', churn=0),\n",
       " Row(userId='100001', tsyear='2018', tsmonth='10', tsday='02', tshour='16', page='NextSong', level='free', churn=0),\n",
       " Row(userId='100001', tsyear='2018', tsmonth='10', tsday='02', tshour='16', page='NextSong', level='free', churn=0),\n",
       " Row(userId='100001', tsyear='2018', tsmonth='10', tsday='02', tshour='16', page='NextSong', level='free', churn=0),\n",
       " Row(userId='100001', tsyear='2018', tsmonth='10', tsday='02', tshour='15', page='NextSong', level='free', churn=0),\n",
       " Row(userId='100001', tsyear='2018', tsmonth='10', tsday='02', tshour='15', page='NextSong', level='free', churn=0),\n",
       " Row(userId='100001', tsyear='2018', tsmonth='10', tsday='02', tshour='15', page='NextSong', level='free', churn=0),\n",
       " Row(userId='100001', tsyear='2018', tsmonth='10', tsday='02', tshour='15', page='Home', level='free', churn=0),\n",
       " Row(userId='100001', tsyear='2018', tsmonth='10', tsday='02', tshour='14', page='Logout', level='free', churn=0),\n",
       " Row(userId='100001', tsyear='2018', tsmonth='10', tsday='02', tshour='14', page='NextSong', level='free', churn=0),\n",
       " Row(userId='100001', tsyear='2018', tsmonth='10', tsday='02', tshour='14', page='NextSong', level='free', churn=0),\n",
       " Row(userId='100001', tsyear='2018', tsmonth='10', tsday='02', tshour='14', page='NextSong', level='free', churn=0),\n",
       " Row(userId='100001', tsyear='2018', tsmonth='10', tsday='02', tshour='14', page='NextSong', level='free', churn=0),\n",
       " Row(userId='100001', tsyear='2018', tsmonth='10', tsday='02', tshour='14', page='NextSong', level='free', churn=0),\n",
       " Row(userId='100001', tsyear='2018', tsmonth='10', tsday='02', tshour='14', page='NextSong', level='free', churn=0),\n",
       " Row(userId='100001', tsyear='2018', tsmonth='10', tsday='02', tshour='14', page='NextSong', level='free', churn=0),\n",
       " Row(userId='100001', tsyear='2018', tsmonth='10', tsday='02', tshour='14', page='NextSong', level='free', churn=0),\n",
       " Row(userId='100001', tsyear='2018', tsmonth='10', tsday='02', tshour='14', page='Error', level='free', churn=0),\n",
       " Row(userId='100001', tsyear='2018', tsmonth='10', tsday='02', tshour='14', page='NextSong', level='free', churn=0),\n",
       " Row(userId='100001', tsyear='2018', tsmonth='10', tsday='02', tshour='14', page='NextSong', level='free', churn=0),\n",
       " Row(userId='100001', tsyear='2018', tsmonth='10', tsday='02', tshour='14', page='NextSong', level='free', churn=0),\n",
       " Row(userId='100001', tsyear='2018', tsmonth='10', tsday='02', tshour='14', page='NextSong', level='free', churn=0),\n",
       " Row(userId='100001', tsyear='2018', tsmonth='10', tsday='02', tshour='14', page='NextSong', level='free', churn=0),\n",
       " Row(userId='100001', tsyear='2018', tsmonth='10', tsday='02', tshour='13', page='NextSong', level='free', churn=0),\n",
       " Row(userId='100001', tsyear='2018', tsmonth='10', tsday='02', tshour='13', page='NextSong', level='free', churn=0),\n",
       " Row(userId='100001', tsyear='2018', tsmonth='10', tsday='02', tshour='13', page='NextSong', level='free', churn=0),\n",
       " Row(userId='100001', tsyear='2018', tsmonth='10', tsday='02', tshour='13', page='Thumbs Up', level='free', churn=0),\n",
       " Row(userId='100001', tsyear='2018', tsmonth='10', tsday='02', tshour='13', page='Add to Playlist', level='free', churn=0),\n",
       " Row(userId='100001', tsyear='2018', tsmonth='10', tsday='02', tshour='13', page='NextSong', level='free', churn=0),\n",
       " Row(userId='100001', tsyear='2018', tsmonth='10', tsday='02', tshour='13', page='NextSong', level='free', churn=0),\n",
       " Row(userId='100001', tsyear='2018', tsmonth='10', tsday='02', tshour='13', page='NextSong', level='free', churn=0),\n",
       " Row(userId='100001', tsyear='2018', tsmonth='10', tsday='02', tshour='13', page='Thumbs Up', level='free', churn=0),\n",
       " Row(userId='100001', tsyear='2018', tsmonth='10', tsday='02', tshour='13', page='NextSong', level='free', churn=0),\n",
       " Row(userId='100001', tsyear='2018', tsmonth='10', tsday='02', tshour='13', page='Thumbs Up', level='free', churn=0),\n",
       " Row(userId='100001', tsyear='2018', tsmonth='10', tsday='02', tshour='13', page='NextSong', level='free', churn=0),\n",
       " Row(userId='100001', tsyear='2018', tsmonth='10', tsday='02', tshour='13', page='NextSong', level='free', churn=0),\n",
       " Row(userId='100001', tsyear='2018', tsmonth='10', tsday='02', tshour='13', page='Home', level='free', churn=0),\n",
       " Row(userId='100001', tsyear='2018', tsmonth='10', tsday='02', tshour='13', page='NextSong', level='free', churn=0),\n",
       " Row(userId='100001', tsyear='2018', tsmonth='10', tsday='02', tshour='13', page='Add Friend', level='free', churn=0),\n",
       " Row(userId='100001', tsyear='2018', tsmonth='10', tsday='02', tshour='13', page='NextSong', level='free', churn=0),\n",
       " Row(userId='100001', tsyear='2018', tsmonth='10', tsday='02', tshour='13', page='NextSong', level='free', churn=0),\n",
       " Row(userId='100001', tsyear='2018', tsmonth='10', tsday='02', tshour='12', page='Thumbs Up', level='free', churn=0),\n",
       " Row(userId='100001', tsyear='2018', tsmonth='10', tsday='02', tshour='12', page='NextSong', level='free', churn=0),\n",
       " Row(userId='100001', tsyear='2018', tsmonth='10', tsday='02', tshour='12', page='NextSong', level='free', churn=0),\n",
       " Row(userId='100001', tsyear='2018', tsmonth='10', tsday='02', tshour='12', page='Home', level='free', churn=0),\n",
       " Row(userId='100001', tsyear='2018', tsmonth='10', tsday='02', tshour='12', page='Logout', level='free', churn=0),\n",
       " Row(userId='100001', tsyear='2018', tsmonth='10', tsday='02', tshour='12', page='NextSong', level='free', churn=0),\n",
       " Row(userId='100001', tsyear='2018', tsmonth='10', tsday='02', tshour='12', page='NextSong', level='free', churn=0),\n",
       " Row(userId='100001', tsyear='2018', tsmonth='10', tsday='02', tshour='12', page='Roll Advert', level='free', churn=0),\n",
       " Row(userId='100001', tsyear='2018', tsmonth='10', tsday='02', tshour='12', page='NextSong', level='free', churn=0),\n",
       " Row(userId='100001', tsyear='2018', tsmonth='10', tsday='02', tshour='12', page='Roll Advert', level='free', churn=0),\n",
       " Row(userId='100001', tsyear='2018', tsmonth='10', tsday='02', tshour='12', page='NextSong', level='free', churn=0),\n",
       " Row(userId='100001', tsyear='2018', tsmonth='10', tsday='02', tshour='12', page='Home', level='free', churn=0),\n",
       " Row(userId='100001', tsyear='2018', tsmonth='10', tsday='02', tshour='12', page='Logout', level='free', churn=0),\n",
       " Row(userId='100001', tsyear='2018', tsmonth='10', tsday='02', tshour='12', page='NextSong', level='free', churn=0),\n",
       " Row(userId='100001', tsyear='2018', tsmonth='10', tsday='02', tshour='07', page='Add to Playlist', level='free', churn=0),\n",
       " Row(userId='100001', tsyear='2018', tsmonth='10', tsday='02', tshour='07', page='NextSong', level='free', churn=0),\n",
       " Row(userId='100001', tsyear='2018', tsmonth='10', tsday='02', tshour='07', page='NextSong', level='free', churn=0),\n",
       " Row(userId='100001', tsyear='2018', tsmonth='10', tsday='02', tshour='07', page='NextSong', level='free', churn=0),\n",
       " Row(userId='100001', tsyear='2018', tsmonth='10', tsday='02', tshour='07', page='NextSong', level='free', churn=0),\n",
       " Row(userId='100001', tsyear='2018', tsmonth='10', tsday='02', tshour='07', page='NextSong', level='free', churn=0),\n",
       " Row(userId='100001', tsyear='2018', tsmonth='10', tsday='02', tshour='07', page='NextSong', level='free', churn=0),\n",
       " Row(userId='100001', tsyear='2018', tsmonth='10', tsday='02', tshour='06', page='Roll Advert', level='free', churn=0),\n",
       " Row(userId='100001', tsyear='2018', tsmonth='10', tsday='02', tshour='06', page='Roll Advert', level='free', churn=0),\n",
       " Row(userId='100001', tsyear='2018', tsmonth='10', tsday='02', tshour='06', page='NextSong', level='free', churn=0),\n",
       " Row(userId='100001', tsyear='2018', tsmonth='10', tsday='02', tshour='06', page='Upgrade', level='free', churn=0),\n",
       " Row(userId='100001', tsyear='2018', tsmonth='10', tsday='02', tshour='06', page='NextSong', level='free', churn=0),\n",
       " Row(userId='100001', tsyear='2018', tsmonth='10', tsday='02', tshour='06', page='NextSong', level='free', churn=0),\n",
       " Row(userId='100001', tsyear='2018', tsmonth='10', tsday='02', tshour='06', page='NextSong', level='free', churn=0),\n",
       " Row(userId='100001', tsyear='2018', tsmonth='10', tsday='02', tshour='06', page='Thumbs Up', level='free', churn=0),\n",
       " Row(userId='100001', tsyear='2018', tsmonth='10', tsday='02', tshour='06', page='NextSong', level='free', churn=0),\n",
       " Row(userId='100001', tsyear='2018', tsmonth='10', tsday='02', tshour='06', page='NextSong', level='free', churn=0),\n",
       " Row(userId='100001', tsyear='2018', tsmonth='10', tsday='02', tshour='06', page='NextSong', level='free', churn=0),\n",
       " Row(userId='100001', tsyear='2018', tsmonth='10', tsday='02', tshour='06', page='NextSong', level='free', churn=0),\n",
       " Row(userId='100001', tsyear='2018', tsmonth='10', tsday='02', tshour='06', page='NextSong', level='free', churn=0),\n",
       " Row(userId='100001', tsyear='2018', tsmonth='10', tsday='02', tshour='06', page='Thumbs Up', level='free', churn=0),\n",
       " Row(userId='100001', tsyear='2018', tsmonth='10', tsday='02', tshour='06', page='NextSong', level='free', churn=0),\n",
       " Row(userId='100001', tsyear='2018', tsmonth='10', tsday='02', tshour='06', page='NextSong', level='free', churn=0),\n",
       " Row(userId='100001', tsyear='2018', tsmonth='10', tsday='02', tshour='06', page='NextSong', level='free', churn=0),\n",
       " Row(userId='100001', tsyear='2018', tsmonth='10', tsday='02', tshour='06', page='NextSong', level='free', churn=0),\n",
       " Row(userId='100001', tsyear='2018', tsmonth='10', tsday='02', tshour='06', page='Roll Advert', level='free', churn=0),\n",
       " Row(userId='100001', tsyear='2018', tsmonth='10', tsday='02', tshour='06', page='NextSong', level='free', churn=0),\n",
       " Row(userId='100001', tsyear='2018', tsmonth='10', tsday='02', tshour='05', page='NextSong', level='free', churn=0),\n",
       " Row(userId='100001', tsyear='2018', tsmonth='10', tsday='02', tshour='05', page='NextSong', level='free', churn=0),\n",
       " Row(userId='100001', tsyear='2018', tsmonth='10', tsday='02', tshour='05', page='Upgrade', level='free', churn=0),\n",
       " Row(userId='100001', tsyear='2018', tsmonth='10', tsday='02', tshour='05', page='NextSong', level='free', churn=0),\n",
       " Row(userId='100001', tsyear='2018', tsmonth='10', tsday='02', tshour='05', page='NextSong', level='free', churn=0),\n",
       " Row(userId='100001', tsyear='2018', tsmonth='10', tsday='02', tshour='05', page='NextSong', level='free', churn=0),\n",
       " Row(userId='100001', tsyear='2018', tsmonth='10', tsday='02', tshour='05', page='NextSong', level='free', churn=0),\n",
       " Row(userId='100001', tsyear='2018', tsmonth='10', tsday='02', tshour='05', page='Thumbs Down', level='free', churn=0),\n",
       " Row(userId='100001', tsyear='2018', tsmonth='10', tsday='02', tshour='05', page='NextSong', level='free', churn=0),\n",
       " Row(userId='100001', tsyear='2018', tsmonth='10', tsday='02', tshour='05', page='Home', level='free', churn=0),\n",
       " Row(userId='100001', tsyear='2018', tsmonth='10', tsday='02', tshour='05', page='NextSong', level='free', churn=0),\n",
       " Row(userId='100001', tsyear='2018', tsmonth='10', tsday='02', tshour='05', page='NextSong', level='free', churn=0),\n",
       " Row(userId='100001', tsyear='2018', tsmonth='10', tsday='02', tshour='05', page='NextSong', level='free', churn=0),\n",
       " Row(userId='100001', tsyear='2018', tsmonth='10', tsday='02', tshour='05', page='NextSong', level='free', churn=0),\n",
       " Row(userId='100001', tsyear='2018', tsmonth='10', tsday='02', tshour='05', page='NextSong', level='free', churn=0),\n",
       " Row(userId='100001', tsyear='2018', tsmonth='10', tsday='02', tshour='05', page='Roll Advert', level='free', churn=0),\n",
       " Row(userId='100001', tsyear='2018', tsmonth='10', tsday='02', tshour='05', page='NextSong', level='free', churn=0),\n",
       " Row(userId='100001', tsyear='2018', tsmonth='10', tsday='02', tshour='05', page='NextSong', level='free', churn=0),\n",
       " Row(userId='100001', tsyear='2018', tsmonth='10', tsday='02', tshour='05', page='Home', level='free', churn=0),\n",
       " Row(userId='100001', tsyear='2018', tsmonth='10', tsday='02', tshour='05', page='NextSong', level='free', churn=0),\n",
       " Row(userId='100001', tsyear='2018', tsmonth='10', tsday='02', tshour='04', page='NextSong', level='free', churn=0),\n",
       " Row(userId='100001', tsyear='2018', tsmonth='10', tsday='02', tshour='04', page='NextSong', level='free', churn=0),\n",
       " Row(userId='100001', tsyear='2018', tsmonth='10', tsday='02', tshour='04', page='NextSong', level='free', churn=0),\n",
       " Row(userId='100001', tsyear='2018', tsmonth='10', tsday='02', tshour='04', page='Settings', level='free', churn=0),\n",
       " Row(userId='100001', tsyear='2018', tsmonth='10', tsday='02', tshour='04', page='NextSong', level='free', churn=0),\n",
       " Row(userId='100001', tsyear='2018', tsmonth='10', tsday='02', tshour='04', page='NextSong', level='free', churn=0),\n",
       " Row(userId='100001', tsyear='2018', tsmonth='10', tsday='02', tshour='04', page='NextSong', level='free', churn=0),\n",
       " Row(userId='100001', tsyear='2018', tsmonth='10', tsday='02', tshour='04', page='NextSong', level='free', churn=0),\n",
       " Row(userId='100001', tsyear='2018', tsmonth='10', tsday='02', tshour='04', page='NextSong', level='free', churn=0),\n",
       " Row(userId='100001', tsyear='2018', tsmonth='10', tsday='02', tshour='04', page='NextSong', level='free', churn=0),\n",
       " Row(userId='100001', tsyear='2018', tsmonth='10', tsday='02', tshour='04', page='NextSong', level='free', churn=0),\n",
       " Row(userId='100001', tsyear='2018', tsmonth='10', tsday='02', tshour='04', page='NextSong', level='free', churn=0),\n",
       " Row(userId='100001', tsyear='2018', tsmonth='10', tsday='02', tshour='04', page='Roll Advert', level='free', churn=0),\n",
       " Row(userId='100001', tsyear='2018', tsmonth='10', tsday='02', tshour='04', page='NextSong', level='free', churn=0),\n",
       " Row(userId='100001', tsyear='2018', tsmonth='10', tsday='02', tshour='04', page='NextSong', level='free', churn=0),\n",
       " Row(userId='100001', tsyear='2018', tsmonth='10', tsday='02', tshour='04', page='NextSong', level='free', churn=0),\n",
       " Row(userId='100001', tsyear='2018', tsmonth='10', tsday='02', tshour='03', page='NextSong', level='free', churn=0),\n",
       " Row(userId='100001', tsyear='2018', tsmonth='10', tsday='02', tshour='03', page='NextSong', level='free', churn=0),\n",
       " Row(userId='100001', tsyear='2018', tsmonth='10', tsday='02', tshour='03', page='Thumbs Up', level='free', churn=0),\n",
       " Row(userId='100001', tsyear='2018', tsmonth='10', tsday='02', tshour='03', page='NextSong', level='free', churn=0),\n",
       " Row(userId='100001', tsyear='2018', tsmonth='10', tsday='02', tshour='03', page='NextSong', level='free', churn=0),\n",
       " Row(userId='100001', tsyear='2018', tsmonth='10', tsday='02', tshour='03', page='Home', level='free', churn=0),\n",
       " Row(userId='100001', tsyear='2018', tsmonth='10', tsday='01', tshour='09', page='Logout', level='free', churn=0),\n",
       " Row(userId='100001', tsyear='2018', tsmonth='10', tsday='01', tshour='09', page='NextSong', level='free', churn=0),\n",
       " Row(userId='100001', tsyear='2018', tsmonth='10', tsday='01', tshour='09', page='Add to Playlist', level='free', churn=0),\n",
       " Row(userId='100001', tsyear='2018', tsmonth='10', tsday='01', tshour='09', page='NextSong', level='free', churn=0),\n",
       " Row(userId='100001', tsyear='2018', tsmonth='10', tsday='01', tshour='09', page='NextSong', level='free', churn=0),\n",
       " Row(userId='100001', tsyear='2018', tsmonth='10', tsday='01', tshour='09', page='Thumbs Up', level='free', churn=0),\n",
       " Row(userId='100001', tsyear='2018', tsmonth='10', tsday='01', tshour='09', page='NextSong', level='free', churn=0),\n",
       " Row(userId='100001', tsyear='2018', tsmonth='10', tsday='01', tshour='09', page='NextSong', level='free', churn=0),\n",
       " Row(userId='100001', tsyear='2018', tsmonth='10', tsday='01', tshour='09', page='NextSong', level='free', churn=0),\n",
       " Row(userId='100001', tsyear='2018', tsmonth='10', tsday='01', tshour='08', page='NextSong', level='free', churn=0),\n",
       " Row(userId='100001', tsyear='2018', tsmonth='10', tsday='01', tshour='08', page='Add Friend', level='free', churn=0),\n",
       " Row(userId='100001', tsyear='2018', tsmonth='10', tsday='01', tshour='08', page='NextSong', level='free', churn=0),\n",
       " Row(userId='100001', tsyear='2018', tsmonth='10', tsday='01', tshour='08', page='Home', level='free', churn=0),\n",
       " Row(userId='100001', tsyear='2018', tsmonth='10', tsday='01', tshour='08', page='Logout', level='free', churn=0),\n",
       " Row(userId='100001', tsyear='2018', tsmonth='10', tsday='01', tshour='08', page='NextSong', level='free', churn=0),\n",
       " Row(userId='100001', tsyear='2018', tsmonth='10', tsday='01', tshour='08', page='NextSong', level='free', churn=0),\n",
       " Row(userId='100001', tsyear='2018', tsmonth='10', tsday='01', tshour='08', page='NextSong', level='free', churn=0),\n",
       " Row(userId='100001', tsyear='2018', tsmonth='10', tsday='01', tshour='08', page='NextSong', level='free', churn=0),\n",
       " Row(userId='100001', tsyear='2018', tsmonth='10', tsday='01', tshour='08', page='Roll Advert', level='free', churn=0),\n",
       " Row(userId='100001', tsyear='2018', tsmonth='10', tsday='01', tshour='08', page='NextSong', level='free', churn=0),\n",
       " Row(userId='100001', tsyear='2018', tsmonth='10', tsday='01', tshour='08', page='Roll Advert', level='free', churn=0),\n",
       " Row(userId='100001', tsyear='2018', tsmonth='10', tsday='01', tshour='08', page='NextSong', level='free', churn=0),\n",
       " Row(userId='100001', tsyear='2018', tsmonth='10', tsday='01', tshour='08', page='NextSong', level='free', churn=0),\n",
       " Row(userId='100001', tsyear='2018', tsmonth='10', tsday='01', tshour='08', page='NextSong', level='free', churn=0),\n",
       " Row(userId='100001', tsyear='2018', tsmonth='10', tsday='01', tshour='08', page='NextSong', level='free', churn=0),\n",
       " Row(userId='100001', tsyear='2018', tsmonth='10', tsday='01', tshour='08', page='NextSong', level='free', churn=0),\n",
       " Row(userId='100001', tsyear='2018', tsmonth='10', tsday='01', tshour='08', page='Thumbs Down', level='free', churn=0),\n",
       " Row(userId='100001', tsyear='2018', tsmonth='10', tsday='01', tshour='08', page='NextSong', level='free', churn=0),\n",
       " Row(userId='100001', tsyear='2018', tsmonth='10', tsday='01', tshour='08', page='NextSong', level='free', churn=0),\n",
       " Row(userId='100001', tsyear='2018', tsmonth='10', tsday='01', tshour='07', page='NextSong', level='free', churn=0),\n",
       " Row(userId='100001', tsyear='2018', tsmonth='10', tsday='01', tshour='07', page='Home', level='free', churn=0),\n",
       " Row(userId='100001', tsyear='2018', tsmonth='10', tsday='01', tshour='07', page='Logout', level='free', churn=0),\n",
       " Row(userId='100001', tsyear='2018', tsmonth='10', tsday='01', tshour='07', page='NextSong', level='free', churn=0),\n",
       " Row(userId='100001', tsyear='2018', tsmonth='10', tsday='01', tshour='07', page='NextSong', level='free', churn=0),\n",
       " Row(userId='100001', tsyear='2018', tsmonth='10', tsday='01', tshour='07', page='NextSong', level='free', churn=0),\n",
       " Row(userId='100001', tsyear='2018', tsmonth='10', tsday='01', tshour='07', page='NextSong', level='free', churn=0),\n",
       " Row(userId='100001', tsyear='2018', tsmonth='10', tsday='01', tshour='07', page='Roll Advert', level='free', churn=0),\n",
       " Row(userId='100001', tsyear='2018', tsmonth='10', tsday='01', tshour='07', page='NextSong', level='free', churn=0),\n",
       " Row(userId='100001', tsyear='2018', tsmonth='10', tsday='01', tshour='07', page='NextSong', level='free', churn=0),\n",
       " Row(userId='100001', tsyear='2018', tsmonth='10', tsday='01', tshour='07', page='NextSong', level='free', churn=0),\n",
       " Row(userId='100001', tsyear='2018', tsmonth='10', tsday='01', tshour='07', page='NextSong', level='free', churn=0),\n",
       " Row(userId='100001', tsyear='2018', tsmonth='10', tsday='01', tshour='07', page='NextSong', level='free', churn=0),\n",
       " Row(userId='100001', tsyear='2018', tsmonth='10', tsday='01', tshour='07', page='NextSong', level='free', churn=0),\n",
       " Row(userId='100001', tsyear='2018', tsmonth='10', tsday='01', tshour='07', page='NextSong', level='free', churn=0),\n",
       " Row(userId='100001', tsyear='2018', tsmonth='10', tsday='01', tshour='07', page='NextSong', level='free', churn=0),\n",
       " Row(userId='100001', tsyear='2018', tsmonth='10', tsday='01', tshour='07', page='NextSong', level='free', churn=0),\n",
       " Row(userId='100001', tsyear='2018', tsmonth='10', tsday='01', tshour='06', page='Roll Advert', level='free', churn=0),\n",
       " Row(userId='100001', tsyear='2018', tsmonth='10', tsday='01', tshour='06', page='NextSong', level='free', churn=0),\n",
       " Row(userId='100001', tsyear='2018', tsmonth='10', tsday='01', tshour='06', page='Roll Advert', level='free', churn=0),\n",
       " Row(userId='100001', tsyear='2018', tsmonth='10', tsday='01', tshour='06', page='NextSong', level='free', churn=0),\n",
       " Row(userId='100001', tsyear='2018', tsmonth='10', tsday='01', tshour='06', page='Home', level='free', churn=0)]"
      ]
     },
     "execution_count": 11,
     "metadata": {},
     "output_type": "execute_result"
    }
   ],
   "source": [
    "df_clean.select([\"userId\", \"tsyear\", \"tsmonth\", \"tsday\", \"tshour\", \"page\", \"level\", \"churn\"]).filter(df_clean.userId == \"100001\").sort(desc(\"ts\")).collect()"
   ]
  },
  {
   "cell_type": "markdown",
   "metadata": {},
   "source": [
    "### 探索数据\n",
    "从观察数据中来看，每一条日志记录了用户的一个动作，我决定采用page特征做为最主要的探索对象，将page中的重要动作提取出来进行独热编码"
   ]
  },
  {
   "cell_type": "code",
   "execution_count": 8,
   "metadata": {},
   "outputs": [],
   "source": [
    "# 定义标记用户交友的函数\n",
    "flag_frenid_event = udf(lambda x: 1 if x == \"Add Friend\" else 0, IntegerType())\n",
    "# 创建列friend\n",
    "df_clean = df_clean.withColumn(\"friend\", flag_frenid_event(\"page\"))\n",
    "\n",
    "# 定义标记用户添加歌单的动作\n",
    "flag_addplaylist_event = udf(lambda x: 1 if x == \"Add to Playlist\" else 0, IntegerType())\n",
    "# 创建列addplaylist\n",
    "df_clean = df_clean.withColumn(\"addplaylist\", flag_addplaylist_event(\"page\"))\n",
    "\n",
    "# 定义标记用户注销动作\n",
    "flag_cancel_event = udf(lambda x: 1 if x == \"Cancel\" else 0, IntegerType())\n",
    "# 创建列cancel\n",
    "df_clean = df_clean.withColumn(\"cancel\", flag_cancel_event(\"page\"))\n",
    "\n",
    "# 定义客户有降级动作的函数\n",
    "flag_downgrade_action = udf(lambda x: 1 if x == \"Downgrade\" else 0, IntegerType())\n",
    "df_clean = df_clean.withColumn(\"downgrade\", flag_downgrade_action(\"page\"))\n",
    "\n",
    "# 定义标记用户访问错误的动作\n",
    "flag_error_event = udf(lambda x: 1 if x == \"Error\" else 0, IntegerType())\n",
    "# 创建列error\n",
    "df_clean = df_clean.withColumn(\"error\", flag_error_event(\"page\"))\n",
    "\n",
    "# 定义标记用户点击帮助的动作\n",
    "flag_help_event = udf(lambda x: 1 if x == \"Help\" else 0, IntegerType())\n",
    "# 创建列error\n",
    "df_clean = df_clean.withColumn(\"help\", flag_help_event(\"page\"))\n",
    "\n",
    "# 定义用户登出的函数\n",
    "flag_logout_event = udf(lambda x: 1 if x == \"Logout\" else 0, IntegerType())\n",
    "# 创建列logout\n",
    "df_clean = df_clean.withColumn(\"logout\", flag_logout_event(\"page\"))\n",
    "\n",
    "# 定义标记用户听歌的函数\n",
    "flag_song_event = udf(lambda x: 1 if x == \"NextSong\" else 0, IntegerType())\n",
    "# 创建列song\n",
    "df_clean = df_clean.withColumn(\"song\", flag_song_event(\"page\"))\n",
    "\n",
    "# 定义标记用户升级动作的函数\n",
    "flag_upgrade_action = udf(lambda x: 1 if x == \"Upgrade\" else 0, IntegerType())\n",
    "# 创建列upgrade\n",
    "df_clean = df_clean.withColumn(\"upgrade\", flag_upgrade_action(\"page\"))\n",
    "\n",
    "# 定义标记用户升级的函数\n",
    "flag_upgrade_event = udf(lambda x: 1 if x == \"Submit Upgrade\" else 0, IntegerType())\n",
    "# 创建列upgraded\n",
    "df_clean = df_clean.withColumn(\"upgraded\", flag_upgrade_event(\"page\"))\n",
    "\n",
    "# 定义标记客户降级的函数\n",
    "flag_downgrade_event = udf(lambda x: 1 if x == \"Submit Downgrade\" else 0, IntegerType())\n",
    "# 创建列downgraded\n",
    "df_clean = df_clean.withColumn(\"downgraded\", flag_downgrade_event(\"page\"))\n",
    "\n",
    "# 定义标记客户滚动广告的函数\n",
    "flag_advert_event = udf(lambda x: 1 if x == \"Roll Advert\" else 0, IntegerType())\n",
    "# 创建列dadvert\n",
    "df_clean = df_clean.withColumn(\"advert\", flag_advert_event(\"page\"))\n",
    "\n",
    "# 定义收费免费标志\n",
    "flag_level_event = udf(lambda x: 1 if x == \"paid\" else 0, IntegerType())\n",
    "df_clean = df_clean.withColumn(\"lv\", flag_level_event(\"level\"))\n"
   ]
  },
  {
   "cell_type": "markdown",
   "metadata": {},
   "source": [
    "编码完成后，增加了12个特征，并进行了独热编码：\n",
    "\n",
    "1.`friend`:用户的交友行为\n",
    "\n",
    "2.`addplaylist`:用户添加歌单的行为\n",
    "\n",
    "3.`cancel`:用户想要注销的行为\n",
    "\n",
    "4.`downgrade`:用户想要降级的行为\n",
    "\n",
    "5.`error`:用户访问发生错误的行为\n",
    "\n",
    "6.`help`:用户访问帮助页面的行为\n",
    "\n",
    "7.`logout`:用户登出的行为\n",
    "\n",
    "8.`upgrade`:用户想要升级的行为\n",
    "\n",
    "9.`upgraded`:用户确定升级的事件\n",
    "\n",
    "10.`downgraded`:用户确定降级的事件\n",
    "\n",
    "11.`advert`:用户点击广告的行为\n",
    "\n",
    "12.`lv`:标识用户付费还是免费"
   ]
  },
  {
   "cell_type": "markdown",
   "metadata": {},
   "source": [
    "按用户分组，汇总所有的行为和事件，在此过程中，发现听歌的事件在数量级上远大于其他事件，决定废弃听歌事件，以免对其他特征干扰太大"
   ]
  },
  {
   "cell_type": "code",
   "execution_count": 9,
   "metadata": {},
   "outputs": [],
   "source": [
    "import seaborn as sns\n",
    "sns.set_color_codes(\"pastel\")\n",
    "sns.set_style(\"whitegrid\")"
   ]
  },
  {
   "cell_type": "code",
   "execution_count": 10,
   "metadata": {},
   "outputs": [],
   "source": [
    "df_clean.createOrReplaceTempView(\"user_log_table\")"
   ]
  },
  {
   "cell_type": "code",
   "execution_count": 12,
   "metadata": {},
   "outputs": [],
   "source": [
    "# 将用户的动作汇总\n",
    "user_acts = spark.sql('''SELECT  userId, \n",
    "                                 level,\n",
    "                                 sum(churn) as churn,\n",
    "                                 sum(friend) as friend,\n",
    "                                 sum(addplaylist) as addplaylist,\n",
    "                                 sum(cancel) as cancel,\n",
    "                                 sum(downgrade) as downgrade,\n",
    "                                 sum(error) as error,\n",
    "                                 sum(help) as help,\n",
    "                                 sum(logout) as logout,\n",
    "                                 sum(advert) as advert,\n",
    "                                 sum(upgrade) as upgrade,\n",
    "                                 sum(upgraded) as upgraded,\n",
    "                                 sum(downgraded) as downgraded\n",
    "                           from  user_log_table\n",
    "                       group by  userId, level ''')"
   ]
  },
  {
   "cell_type": "code",
   "execution_count": 13,
   "metadata": {},
   "outputs": [
    {
     "data": {
      "text/html": [
       "<div>\n",
       "<style scoped>\n",
       "    .dataframe tbody tr th:only-of-type {\n",
       "        vertical-align: middle;\n",
       "    }\n",
       "\n",
       "    .dataframe tbody tr th {\n",
       "        vertical-align: top;\n",
       "    }\n",
       "\n",
       "    .dataframe thead th {\n",
       "        text-align: right;\n",
       "    }\n",
       "</style>\n",
       "<table border=\"1\" class=\"dataframe\">\n",
       "  <thead>\n",
       "    <tr style=\"text-align: right;\">\n",
       "      <th></th>\n",
       "      <th>userId</th>\n",
       "      <th>level</th>\n",
       "      <th>churn</th>\n",
       "      <th>friend</th>\n",
       "      <th>addplaylist</th>\n",
       "      <th>cancel</th>\n",
       "      <th>downgrade</th>\n",
       "      <th>error</th>\n",
       "      <th>help</th>\n",
       "      <th>logout</th>\n",
       "      <th>advert</th>\n",
       "      <th>upgrade</th>\n",
       "      <th>upgraded</th>\n",
       "      <th>downgraded</th>\n",
       "    </tr>\n",
       "  </thead>\n",
       "  <tbody>\n",
       "    <tr>\n",
       "      <th>0</th>\n",
       "      <td>100021</td>\n",
       "      <td>free</td>\n",
       "      <td>1</td>\n",
       "      <td>7</td>\n",
       "      <td>7</td>\n",
       "      <td>1</td>\n",
       "      <td>0</td>\n",
       "      <td>2</td>\n",
       "      <td>0</td>\n",
       "      <td>7</td>\n",
       "      <td>30</td>\n",
       "      <td>2</td>\n",
       "      <td>0</td>\n",
       "      <td>0</td>\n",
       "    </tr>\n",
       "    <tr>\n",
       "      <th>1</th>\n",
       "      <td>200021</td>\n",
       "      <td>free</td>\n",
       "      <td>0</td>\n",
       "      <td>8</td>\n",
       "      <td>2</td>\n",
       "      <td>0</td>\n",
       "      <td>0</td>\n",
       "      <td>0</td>\n",
       "      <td>1</td>\n",
       "      <td>8</td>\n",
       "      <td>9</td>\n",
       "      <td>3</td>\n",
       "      <td>1</td>\n",
       "      <td>0</td>\n",
       "    </tr>\n",
       "    <tr>\n",
       "      <th>2</th>\n",
       "      <td>200001</td>\n",
       "      <td>free</td>\n",
       "      <td>1</td>\n",
       "      <td>0</td>\n",
       "      <td>3</td>\n",
       "      <td>1</td>\n",
       "      <td>0</td>\n",
       "      <td>0</td>\n",
       "      <td>1</td>\n",
       "      <td>4</td>\n",
       "      <td>3</td>\n",
       "      <td>1</td>\n",
       "      <td>0</td>\n",
       "      <td>0</td>\n",
       "    </tr>\n",
       "    <tr>\n",
       "      <th>3</th>\n",
       "      <td>6</td>\n",
       "      <td>free</td>\n",
       "      <td>0</td>\n",
       "      <td>2</td>\n",
       "      <td>4</td>\n",
       "      <td>0</td>\n",
       "      <td>0</td>\n",
       "      <td>0</td>\n",
       "      <td>0</td>\n",
       "      <td>2</td>\n",
       "      <td>4</td>\n",
       "      <td>1</td>\n",
       "      <td>1</td>\n",
       "      <td>0</td>\n",
       "    </tr>\n",
       "    <tr>\n",
       "      <th>4</th>\n",
       "      <td>300022</td>\n",
       "      <td>paid</td>\n",
       "      <td>0</td>\n",
       "      <td>11</td>\n",
       "      <td>9</td>\n",
       "      <td>0</td>\n",
       "      <td>1</td>\n",
       "      <td>0</td>\n",
       "      <td>3</td>\n",
       "      <td>5</td>\n",
       "      <td>0</td>\n",
       "      <td>0</td>\n",
       "      <td>0</td>\n",
       "      <td>0</td>\n",
       "    </tr>\n",
       "  </tbody>\n",
       "</table>\n",
       "</div>"
      ],
      "text/plain": [
       "   userId level  churn  friend  addplaylist  cancel  downgrade  error  help  \\\n",
       "0  100021  free      1       7            7       1          0      2     0   \n",
       "1  200021  free      0       8            2       0          0      0     1   \n",
       "2  200001  free      1       0            3       1          0      0     1   \n",
       "3       6  free      0       2            4       0          0      0     0   \n",
       "4  300022  paid      0      11            9       0          1      0     3   \n",
       "\n",
       "   logout  advert  upgrade  upgraded  downgraded  \n",
       "0       7      30        2         0           0  \n",
       "1       8       9        3         1           0  \n",
       "2       4       3        1         0           0  \n",
       "3       2       4        1         1           0  \n",
       "4       5       0        0         0           0  "
      ]
     },
     "execution_count": 13,
     "metadata": {},
     "output_type": "execute_result"
    }
   ],
   "source": [
    "pd_user_acts = user_acts.toPandas()\n",
    "pd_user_acts.head()"
   ]
  },
  {
   "cell_type": "code",
   "execution_count": 14,
   "metadata": {},
   "outputs": [
    {
     "data": {
      "text/html": [
       "<div>\n",
       "<style scoped>\n",
       "    .dataframe tbody tr th:only-of-type {\n",
       "        vertical-align: middle;\n",
       "    }\n",
       "\n",
       "    .dataframe tbody tr th {\n",
       "        vertical-align: top;\n",
       "    }\n",
       "\n",
       "    .dataframe thead th {\n",
       "        text-align: right;\n",
       "    }\n",
       "</style>\n",
       "<table border=\"1\" class=\"dataframe\">\n",
       "  <thead>\n",
       "    <tr style=\"text-align: right;\">\n",
       "      <th></th>\n",
       "      <th>churn</th>\n",
       "      <th>friend</th>\n",
       "      <th>addplaylist</th>\n",
       "      <th>cancel</th>\n",
       "      <th>downgrade</th>\n",
       "      <th>error</th>\n",
       "      <th>help</th>\n",
       "      <th>logout</th>\n",
       "      <th>advert</th>\n",
       "      <th>upgrade</th>\n",
       "      <th>upgraded</th>\n",
       "      <th>downgraded</th>\n",
       "    </tr>\n",
       "  </thead>\n",
       "  <tbody>\n",
       "    <tr>\n",
       "      <th>count</th>\n",
       "      <td>360.000000</td>\n",
       "      <td>360.000000</td>\n",
       "      <td>360.000000</td>\n",
       "      <td>360.000000</td>\n",
       "      <td>360.000000</td>\n",
       "      <td>360.000000</td>\n",
       "      <td>360.000000</td>\n",
       "      <td>360.000000</td>\n",
       "      <td>360.000000</td>\n",
       "      <td>360.000000</td>\n",
       "      <td>360.000000</td>\n",
       "      <td>360.000000</td>\n",
       "    </tr>\n",
       "    <tr>\n",
       "      <th>mean</th>\n",
       "      <td>0.144444</td>\n",
       "      <td>11.880556</td>\n",
       "      <td>18.127778</td>\n",
       "      <td>0.144444</td>\n",
       "      <td>5.708333</td>\n",
       "      <td>0.700000</td>\n",
       "      <td>4.038889</td>\n",
       "      <td>8.961111</td>\n",
       "      <td>10.925000</td>\n",
       "      <td>1.386111</td>\n",
       "      <td>0.441667</td>\n",
       "      <td>0.175000</td>\n",
       "    </tr>\n",
       "    <tr>\n",
       "      <th>std</th>\n",
       "      <td>0.352029</td>\n",
       "      <td>16.219925</td>\n",
       "      <td>25.826188</td>\n",
       "      <td>0.352029</td>\n",
       "      <td>10.272387</td>\n",
       "      <td>1.163033</td>\n",
       "      <td>5.499925</td>\n",
       "      <td>11.231851</td>\n",
       "      <td>18.096844</td>\n",
       "      <td>2.289208</td>\n",
       "      <td>0.673359</td>\n",
       "      <td>0.483646</td>\n",
       "    </tr>\n",
       "    <tr>\n",
       "      <th>min</th>\n",
       "      <td>0.000000</td>\n",
       "      <td>0.000000</td>\n",
       "      <td>0.000000</td>\n",
       "      <td>0.000000</td>\n",
       "      <td>0.000000</td>\n",
       "      <td>0.000000</td>\n",
       "      <td>0.000000</td>\n",
       "      <td>0.000000</td>\n",
       "      <td>0.000000</td>\n",
       "      <td>0.000000</td>\n",
       "      <td>0.000000</td>\n",
       "      <td>0.000000</td>\n",
       "    </tr>\n",
       "    <tr>\n",
       "      <th>25%</th>\n",
       "      <td>0.000000</td>\n",
       "      <td>2.000000</td>\n",
       "      <td>3.000000</td>\n",
       "      <td>0.000000</td>\n",
       "      <td>0.000000</td>\n",
       "      <td>0.000000</td>\n",
       "      <td>1.000000</td>\n",
       "      <td>2.000000</td>\n",
       "      <td>1.000000</td>\n",
       "      <td>0.000000</td>\n",
       "      <td>0.000000</td>\n",
       "      <td>0.000000</td>\n",
       "    </tr>\n",
       "    <tr>\n",
       "      <th>50%</th>\n",
       "      <td>0.000000</td>\n",
       "      <td>6.000000</td>\n",
       "      <td>8.000000</td>\n",
       "      <td>0.000000</td>\n",
       "      <td>0.000000</td>\n",
       "      <td>0.000000</td>\n",
       "      <td>2.000000</td>\n",
       "      <td>5.000000</td>\n",
       "      <td>3.000000</td>\n",
       "      <td>0.000000</td>\n",
       "      <td>0.000000</td>\n",
       "      <td>0.000000</td>\n",
       "    </tr>\n",
       "    <tr>\n",
       "      <th>75%</th>\n",
       "      <td>0.000000</td>\n",
       "      <td>15.250000</td>\n",
       "      <td>24.250000</td>\n",
       "      <td>0.000000</td>\n",
       "      <td>8.250000</td>\n",
       "      <td>1.000000</td>\n",
       "      <td>5.000000</td>\n",
       "      <td>12.000000</td>\n",
       "      <td>14.000000</td>\n",
       "      <td>2.000000</td>\n",
       "      <td>1.000000</td>\n",
       "      <td>0.000000</td>\n",
       "    </tr>\n",
       "    <tr>\n",
       "      <th>max</th>\n",
       "      <td>1.000000</td>\n",
       "      <td>122.000000</td>\n",
       "      <td>205.000000</td>\n",
       "      <td>1.000000</td>\n",
       "      <td>73.000000</td>\n",
       "      <td>7.000000</td>\n",
       "      <td>32.000000</td>\n",
       "      <td>86.000000</td>\n",
       "      <td>118.000000</td>\n",
       "      <td>15.000000</td>\n",
       "      <td>4.000000</td>\n",
       "      <td>3.000000</td>\n",
       "    </tr>\n",
       "  </tbody>\n",
       "</table>\n",
       "</div>"
      ],
      "text/plain": [
       "            churn      friend  addplaylist      cancel   downgrade  \\\n",
       "count  360.000000  360.000000   360.000000  360.000000  360.000000   \n",
       "mean     0.144444   11.880556    18.127778    0.144444    5.708333   \n",
       "std      0.352029   16.219925    25.826188    0.352029   10.272387   \n",
       "min      0.000000    0.000000     0.000000    0.000000    0.000000   \n",
       "25%      0.000000    2.000000     3.000000    0.000000    0.000000   \n",
       "50%      0.000000    6.000000     8.000000    0.000000    0.000000   \n",
       "75%      0.000000   15.250000    24.250000    0.000000    8.250000   \n",
       "max      1.000000  122.000000   205.000000    1.000000   73.000000   \n",
       "\n",
       "            error        help      logout      advert     upgrade    upgraded  \\\n",
       "count  360.000000  360.000000  360.000000  360.000000  360.000000  360.000000   \n",
       "mean     0.700000    4.038889    8.961111   10.925000    1.386111    0.441667   \n",
       "std      1.163033    5.499925   11.231851   18.096844    2.289208    0.673359   \n",
       "min      0.000000    0.000000    0.000000    0.000000    0.000000    0.000000   \n",
       "25%      0.000000    1.000000    2.000000    1.000000    0.000000    0.000000   \n",
       "50%      0.000000    2.000000    5.000000    3.000000    0.000000    0.000000   \n",
       "75%      1.000000    5.000000   12.000000   14.000000    2.000000    1.000000   \n",
       "max      7.000000   32.000000   86.000000  118.000000   15.000000    4.000000   \n",
       "\n",
       "       downgraded  \n",
       "count  360.000000  \n",
       "mean     0.175000  \n",
       "std      0.483646  \n",
       "min      0.000000  \n",
       "25%      0.000000  \n",
       "50%      0.000000  \n",
       "75%      0.000000  \n",
       "max      3.000000  "
      ]
     },
     "execution_count": 14,
     "metadata": {},
     "output_type": "execute_result"
    }
   ],
   "source": [
    "pd_user_acts.describe()"
   ]
  },
  {
   "cell_type": "markdown",
   "metadata": {},
   "source": [
    "#### 探索存留用户与流失用户的行为对比"
   ]
  },
  {
   "cell_type": "markdown",
   "metadata": {},
   "source": [
    "##### 1.探索存留用户与流失用户的付费数量"
   ]
  },
  {
   "cell_type": "code",
   "execution_count": 15,
   "metadata": {},
   "outputs": [
    {
     "data": {
      "image/png": "[encoded data removed]",
      "text/plain": [
       "<matplotlib.figure.Figure at 0x7f59f69feb70>"
      ]
     },
     "metadata": {},
     "output_type": "display_data"
    }
   ],
   "source": [
    "sns.countplot(x=\"level\", hue=\"churn\", data=pd_user_acts);"
   ]
  },
  {
   "cell_type": "markdown",
   "metadata": {},
   "source": [
    "从统计结果来看，付费用户的流失人数高于免费用户的流失人数"
   ]
  },
  {
   "cell_type": "markdown",
   "metadata": {},
   "source": [
    "##### 2.探索存留用户与流失用户的交友人数"
   ]
  },
  {
   "cell_type": "code",
   "execution_count": 27,
   "metadata": {},
   "outputs": [
    {
     "data": {
      "image/png": "[encoded data removed]",
      "text/plain": [
       "<matplotlib.figure.Figure at 0x7f59f49a0d68>"
      ]
     },
     "metadata": {},
     "output_type": "display_data"
    }
   ],
   "source": [
    "pd_friend = pd_user_acts[(pd_user_acts.friend >= pd_user_acts.friend.quantile(0.15)) \\\n",
    "                         & (pd_user_acts.friend <= pd_user_acts.friend.quantile(0.75)) ]\n",
    "sns.countplot(x=\"friend\", hue=\"churn\", data=pd_friend);"
   ]
  },
  {
   "cell_type": "markdown",
   "metadata": {},
   "source": [
    "从统计结果来看\n",
    "- 75%的用户交友人数不超过15人\n",
    "- 存留用户的交友人数高于流失用户的交友人数"
   ]
  },
  {
   "cell_type": "markdown",
   "metadata": {},
   "source": [
    "##### 3.探索存留用户与流失用户的添加歌单次数"
   ]
  },
  {
   "cell_type": "code",
   "execution_count": 28,
   "metadata": {},
   "outputs": [
    {
     "data": {
      "image/png": "[encoded data removed]",
      "text/plain": [
       "<matplotlib.figure.Figure at 0x7f59f48ca358>"
      ]
     },
     "metadata": {},
     "output_type": "display_data"
    }
   ],
   "source": [
    "pd_addplaylist= pd_user_acts[(pd_user_acts.addplaylist >= pd_user_acts.addplaylist.quantile(0.15)) \\\n",
    "                         & (pd_user_acts.addplaylist <= pd_user_acts.addplaylist.quantile(0.75)) ]\n",
    "sns.countplot(x=\"addplaylist\", hue=\"churn\", data=pd_addplaylist);"
   ]
  },
  {
   "cell_type": "markdown",
   "metadata": {},
   "source": [
    "从统计结果来看\n",
    "- 75%的用户添加歌单小于25次\n",
    "- 存留用户的添加歌单次数高于流失用户的添加歌单次数"
   ]
  },
  {
   "cell_type": "markdown",
   "metadata": {},
   "source": [
    "##### 4.探索存留用户与流失用户点击注销页面的次数"
   ]
  },
  {
   "cell_type": "code",
   "execution_count": 100,
   "metadata": {},
   "outputs": [
    {
     "data": {
      "image/png": "[encoded data removed]",
      "text/plain": [
       "<matplotlib.figure.Figure at 0x7ff394efd198>"
      ]
     },
     "metadata": {},
     "output_type": "display_data"
    }
   ],
   "source": [
    "pd_cancel= pd_user_acts[(pd_user_acts.cancel >= pd_user_acts.cancel.quantile(0.05)) \\\n",
    "                         & (pd_user_acts.cancel <= pd_user_acts.cancel.quantile(0.95)) ]\n",
    "sns.countplot(x=\"cancel\", hue=\"churn\", data=pd_cancel);"
   ]
  },
  {
   "cell_type": "markdown",
   "metadata": {},
   "source": [
    "从统计结果来看，存留用户点击注销页面次数高于流失用户点击注销页面次数"
   ]
  },
  {
   "cell_type": "markdown",
   "metadata": {},
   "source": [
    "##### 5.探索存留用户与流失用户点击降级页面的次数"
   ]
  },
  {
   "cell_type": "code",
   "execution_count": 97,
   "metadata": {},
   "outputs": [
    {
     "data": {
      "image/png": "[encoded data removed]",
      "text/plain": [
       "<matplotlib.figure.Figure at 0x7ff3951ac278>"
      ]
     },
     "metadata": {},
     "output_type": "display_data"
    }
   ],
   "source": [
    "pd_downgrade= pd_user_acts[(pd_user_acts.downgrade >= pd_user_acts.downgrade.quantile(0.15)) \\\n",
    "                         & (pd_user_acts.downgrade <= pd_user_acts.downgrade.quantile(0.75)) ]\n",
    "sns.countplot(x=\"downgrade\", hue=\"churn\", data=pd_downgrade);"
   ]
  },
  {
   "cell_type": "markdown",
   "metadata": {},
   "source": [
    "从统计结果来看\n",
    "- 没有点击过降级页面的用户也发生了流失\n",
    "- 存留用户点击降级页面次数高于流失用户点击降级页面次数"
   ]
  },
  {
   "cell_type": "markdown",
   "metadata": {},
   "source": [
    "##### 6.探索存留用户与流失用户点击广告的次数"
   ]
  },
  {
   "cell_type": "code",
   "execution_count": 101,
   "metadata": {},
   "outputs": [
    {
     "data": {
      "image/png": "[encoded data removed]",
      "text/plain": [
       "<matplotlib.figure.Figure at 0x7ff394ae5da0>"
      ]
     },
     "metadata": {},
     "output_type": "display_data"
    }
   ],
   "source": [
    "pd_advert= pd_user_acts[(pd_user_acts.advert >= pd_user_acts.advert.quantile(0.15)) \\\n",
    "                         & (pd_user_acts.advert <= pd_user_acts.advert.quantile(0.75)) ]\n",
    "sns.countplot(x=\"advert\", hue=\"churn\", data=pd_advert);"
   ]
  },
  {
   "cell_type": "markdown",
   "metadata": {},
   "source": [
    "从统计结果来看\n",
    "- 75%客户点击广告的次数不超过15次\n",
    "- 存留用户点击广告次数高于流失用户点击广告次数"
   ]
  },
  {
   "cell_type": "markdown",
   "metadata": {},
   "source": [
    "#### 探索存留用户与流失用户的行为对比结论\n",
    "- 存留用户的行为次数要高于流失用户，这可能与流失用户的基数较小有关\n",
    "- 大部分用户的听歌和社交占比并不高"
   ]
  },
  {
   "cell_type": "markdown",
   "metadata": {},
   "source": [
    "#### 探索免费用户的行为"
   ]
  },
  {
   "cell_type": "code",
   "execution_count": 56,
   "metadata": {},
   "outputs": [],
   "source": [
    "user_acts_sub = pd_user_acts[pd_user_acts.lv == 0].iloc[:,3:]\n",
    "# 创建百分比\n",
    "user_acts_sub = user_acts_sub.div(user_acts_sub.sum(axis=1), axis=0)"
   ]
  },
  {
   "cell_type": "code",
   "execution_count": 57,
   "metadata": {},
   "outputs": [
    {
     "data": {
      "text/plain": [
       "Text(0,0.5,'count')"
      ]
     },
     "execution_count": 57,
     "metadata": {},
     "output_type": "execute_result"
    },
    {
     "data": {
      "image/png": "[encoded data removed]",
      "text/plain": [
       "<matplotlib.figure.Figure at 0x7fe2bfcde748>"
      ]
     },
     "metadata": {
      "needs_background": "light"
     },
     "output_type": "display_data"
    }
   ],
   "source": [
    "user_acts_sub.mean().sort_values(ascending = False).plot.bar()\n",
    "\n",
    "plt.title(\"free users acts statistic\")\n",
    "plt.xlabel(\"act\")\n",
    "plt.ylabel(\"count\")"
   ]
  },
  {
   "cell_type": "code",
   "execution_count": null,
   "metadata": {},
   "outputs": [],
   "source": [
    "sns.countplot(x=\"level\", hue=\"churn\", data=pd_level);"
   ]
  },
  {
   "cell_type": "markdown",
   "metadata": {},
   "source": [
    "#### 探索免费流失用户的行为"
   ]
  },
  {
   "cell_type": "code",
   "execution_count": 58,
   "metadata": {},
   "outputs": [],
   "source": [
    "user_acts_sub = pd_user_acts[(pd_user_acts.lv == 0) & (pd_user_acts.churn == 1)].iloc[:,3:]\n",
    "# 创建百分比\n",
    "user_acts_sub = user_acts_sub.div(user_acts_sub.sum(axis=1), axis=0)"
   ]
  },
  {
   "cell_type": "code",
   "execution_count": 60,
   "metadata": {},
   "outputs": [
    {
     "data": {
      "text/plain": [
       "Text(0,0.5,'count')"
      ]
     },
     "execution_count": 60,
     "metadata": {},
     "output_type": "execute_result"
    },
    {
     "data": {
      "image/png": "[encoded data removed]",
      "text/plain": [
       "<matplotlib.figure.Figure at 0x7fe2bfbb74a8>"
      ]
     },
     "metadata": {
      "needs_background": "light"
     },
     "output_type": "display_data"
    }
   ],
   "source": [
    "user_acts_sub.mean().sort_values(ascending = False).plot.bar()\n",
    "\n",
    "plt.title(\"free&cancel users acts statistic\")\n",
    "plt.xlabel(\"act\")\n",
    "plt.ylabel(\"count\")"
   ]
  },
  {
   "cell_type": "markdown",
   "metadata": {},
   "source": [
    "从免费用户的统计图表来看：\n",
    "- 广告点击事件的占比远高于其他事件\n",
    "- 流失客户交友的占比低于存留用户\n",
    "- 流失客户想要注销的占比高于存留客户"
   ]
  },
  {
   "cell_type": "markdown",
   "metadata": {},
   "source": [
    "#### 探索付费用户的行为"
   ]
  },
  {
   "cell_type": "code",
   "execution_count": 62,
   "metadata": {},
   "outputs": [],
   "source": [
    "user_acts_sub = pd_user_acts[pd_user_acts.lv == 1].iloc[:,3:]\n",
    "# 创建百分比\n",
    "user_acts_sub = user_acts_sub.div(user_acts_sub.sum(axis=1), axis=0)"
   ]
  },
  {
   "cell_type": "code",
   "execution_count": 63,
   "metadata": {},
   "outputs": [
    {
     "data": {
      "text/plain": [
       "Text(0,0.5,'count')"
      ]
     },
     "execution_count": 63,
     "metadata": {},
     "output_type": "execute_result"
    },
    {
     "data": {
      "image/png": "[encoded data removed]",
      "text/plain": [
       "<matplotlib.figure.Figure at 0x7fe2bfb41e80>"
      ]
     },
     "metadata": {
      "needs_background": "light"
     },
     "output_type": "display_data"
    }
   ],
   "source": [
    "user_acts_sub.mean().sort_values(ascending = False).plot.bar()\n",
    "\n",
    "plt.title(\"paid users acts statistic\")\n",
    "plt.xlabel(\"act\")\n",
    "plt.ylabel(\"count\")"
   ]
  },
  {
   "cell_type": "markdown",
   "metadata": {},
   "source": [
    "探索付费用户的统计图表，发现一个有意思的事，广告对用户的干扰占比很小，添加歌曲和交友占比变高起来"
   ]
  },
  {
   "cell_type": "markdown",
   "metadata": {},
   "source": [
    "#### 探索付费用户降级的行为"
   ]
  },
  {
   "cell_type": "code",
   "execution_count": 64,
   "metadata": {},
   "outputs": [
    {
     "data": {
      "text/plain": [
       "Text(0,0.5,'count')"
      ]
     },
     "execution_count": 64,
     "metadata": {},
     "output_type": "execute_result"
    },
    {
     "data": {
      "image/png": "[encoded data removed]",
      "text/plain": [
       "<matplotlib.figure.Figure at 0x7fe2bfb41cc0>"
      ]
     },
     "metadata": {
      "needs_background": "light"
     },
     "output_type": "display_data"
    }
   ],
   "source": [
    "user_acts_sub = pd_user_acts[(pd_user_acts.lv == 1) & (pd_user_acts.downgraded > 0)].iloc[:,3:]\n",
    "# 创建百分比\n",
    "user_acts_sub = user_acts_sub.div(user_acts_sub.sum(axis=1), axis=0)\n",
    "user_acts_sub.mean().sort_values(ascending = False).plot.bar()\n",
    "\n",
    "plt.title(\"paid&downgraded users acts statistic\")\n",
    "plt.xlabel(\"act\")\n",
    "plt.ylabel(\"count\")"
   ]
  },
  {
   "cell_type": "markdown",
   "metadata": {},
   "source": [
    "从付费用户发生降级行为的统计图表来看：\n",
    "- 点击降级页面的占比高于整体付费用户水平\n",
    "- 最终发生降低的占比高于整体付费用户水平"
   ]
  },
  {
   "cell_type": "markdown",
   "metadata": {},
   "source": [
    "#### 探索付费用户流失的行为"
   ]
  },
  {
   "cell_type": "code",
   "execution_count": 65,
   "metadata": {},
   "outputs": [
    {
     "data": {
      "text/plain": [
       "Text(0,0.5,'count')"
      ]
     },
     "execution_count": 65,
     "metadata": {},
     "output_type": "execute_result"
    },
    {
     "data": {
      "image/png": "[encoded data removed]",
      "text/plain": [
       "<matplotlib.figure.Figure at 0x7fe2bfab7e48>"
      ]
     },
     "metadata": {
      "needs_background": "light"
     },
     "output_type": "display_data"
    }
   ],
   "source": [
    "user_acts_sub = pd_user_acts[(pd_user_acts.lv == 1) & (pd_user_acts.churn == 1)].iloc[:,3:]\n",
    "# 创建百分比\n",
    "user_acts_sub = user_acts_sub.div(user_acts_sub.sum(axis=1), axis=0)\n",
    "user_acts_sub.mean().sort_values(ascending = False).plot.bar()\n",
    "\n",
    "plt.title(\"paid&churn users acts statistic\")\n",
    "plt.xlabel(\"act\")\n",
    "plt.ylabel(\"count\")"
   ]
  },
  {
   "cell_type": "markdown",
   "metadata": {},
   "source": [
    "从付费用户最终流失的客户来看，想要降级和注销动作的占比高于整体付费用户水平"
   ]
  },
  {
   "cell_type": "markdown",
   "metadata": {},
   "source": [
    "#### 探索用户升级的行为"
   ]
  },
  {
   "cell_type": "code",
   "execution_count": 15,
   "metadata": {},
   "outputs": [
    {
     "data": {
      "text/plain": [
       "Text(0,0.5,'count')"
      ]
     },
     "execution_count": 15,
     "metadata": {},
     "output_type": "execute_result"
    },
    {
     "data": {
      "image/png": "[encoded data removed]",
      "text/plain": [
       "<matplotlib.figure.Figure at 0x7f3c850e0198>"
      ]
     },
     "metadata": {
      "needs_background": "light"
     },
     "output_type": "display_data"
    }
   ],
   "source": [
    "user_acts_sub = pd_user_acts[(pd_user_acts.lv == 0) & (pd_user_acts.upgraded > 0)].iloc[:,3:]\n",
    "# 创建百分比\n",
    "user_acts_sub = user_acts_sub.div(user_acts_sub.sum(axis=1), axis=0)\n",
    "user_acts_sub.mean().sort_values(ascending = False).plot.bar()\n",
    "\n",
    "plt.title(\"paid&upgraded users acts statistic\")\n",
    "plt.xlabel(\"act\")\n",
    "plt.ylabel(\"count\")"
   ]
  },
  {
   "cell_type": "markdown",
   "metadata": {},
   "source": [
    "从最终升级为付费用户的免费用户来看，想要升级的动作占比高较高"
   ]
  },
  {
   "cell_type": "markdown",
   "metadata": {},
   "source": [
    "### 结论\n",
    "- 广告是影响免费用户使用的一个关键特征\n",
    "- 用户想要发生某种事件时，点击相关页面的占比比较高\n",
    "- 添加歌单的行为在整体行为中占比高，我决定不使用其作为机器学习模型的特征"
   ]
  },
  {
   "cell_type": "markdown",
   "metadata": {},
   "source": [
    "# 特征工程\n",
    "最终选定做为机器学习特征如下：\n",
    "\n",
    "1.`friend`:用户的交友行为\n",
    "\n",
    "2.`cancel`:用户想要注销的行为\n",
    "\n",
    "3.`downgrade`:用户想要降级的行为\n",
    "\n",
    "4.`error`:用户访问发生错误的行为\n",
    "\n",
    "5.`help`:用户访问帮助页面的行为\n",
    "\n",
    "6.`upgrade`:用户想要升级的行为\n",
    "\n",
    "7.`upgraded`:用户确定升级的事件\n",
    "\n",
    "8.`advert`:用户点击广告的行为\n",
    "\n",
    "9.`lv`:标识用户付费还是免费\n",
    "\n",
    "除了`lv`特征保留1和0（1标识用户付费 0标识用户免费），其余特征按用户分组后，按时间顺序进行相加，做为关键特征的值\n",
    "\n",
    "想要达到的效果如：2018年1月1日用户点击广告的日志，`adverts`特征计数为1，2018年1月2日用户点击广告的日志，`adverts`特征计数为2。其他特征也如此\n",
    "\n",
    "处理完成后，对特征进行归一化，最终创建一个叫做`scaledfeatures2`的向量，用于机器学习"
   ]
  },
  {
   "cell_type": "code",
   "execution_count": 16,
   "metadata": {},
   "outputs": [],
   "source": [
    "windowval = Window.partitionBy(\"userId\").orderBy(asc(\"ts\")).rangeBetween(Window.unboundedPreceding, 0)\n",
    "# 创建列交友行为累计\n",
    "df_clean = df_clean.withColumn(\"friends\", Fsum(\"friend\").over(windowval))\n"
   ]
  },
  {
   "cell_type": "code",
   "execution_count": 17,
   "metadata": {},
   "outputs": [],
   "source": [
    "# 创建列广告点击行为累计\n",
    "df_clean = df_clean.withColumn(\"adverts\", Fsum(\"advert\").over(windowval))"
   ]
  },
  {
   "cell_type": "code",
   "execution_count": 18,
   "metadata": {},
   "outputs": [],
   "source": [
    "# 创建列降级动作累计\n",
    "df_clean = df_clean.withColumn(\"downgrades\", Fsum(\"downgrade\").over(windowval))"
   ]
  },
  {
   "cell_type": "code",
   "execution_count": 19,
   "metadata": {},
   "outputs": [],
   "source": [
    "# 创建列注销动作累计\n",
    "df_clean = df_clean.withColumn(\"cancels\", Fsum(\"cancel\").over(windowval))"
   ]
  },
  {
   "cell_type": "code",
   "execution_count": 20,
   "metadata": {},
   "outputs": [],
   "source": [
    "# 创建列升级动作累计\n",
    "df_clean = df_clean.withColumn(\"upgrades\", Fsum(\"upgrade\").over(windowval))"
   ]
  },
  {
   "cell_type": "code",
   "execution_count": 21,
   "metadata": {},
   "outputs": [],
   "source": [
    "# 创建列降级累计\n",
    "df_clean = df_clean.withColumn(\"phase\", Fsum(\"downgraded\").over(windowval))"
   ]
  },
  {
   "cell_type": "code",
   "execution_count": 22,
   "metadata": {},
   "outputs": [],
   "source": [
    "# 创建列帮助动作累计\n",
    "df_clean = df_clean.withColumn(\"helps\", Fsum(\"help\").over(windowval))"
   ]
  },
  {
   "cell_type": "code",
   "execution_count": 23,
   "metadata": {},
   "outputs": [],
   "source": [
    "# 创建列错误页累计\n",
    "df_clean = df_clean.withColumn(\"errors\", Fsum(\"error\").over(windowval))"
   ]
  },
  {
   "cell_type": "code",
   "execution_count": 24,
   "metadata": {},
   "outputs": [],
   "source": [
    "# 将关键特征转换为向量\n",
    "assembler = VectorAssembler(inputCols=[ \"lv\", \"friends\", \"adverts\", \"downgrades\", \"cancels\", \"upgrades\", \"helps\", \"errors\" , \"phase\"], outputCol=\"features\")\n",
    "df_clean = assembler.transform(df_clean)"
   ]
  },
  {
   "cell_type": "code",
   "execution_count": 25,
   "metadata": {},
   "outputs": [],
   "source": [
    "# 将向量进行归一化\n",
    "scaler = Normalizer(inputCol=\"features\", outputCol=\"scaledfeatures\")\n",
    "df_clean = scaler.transform(df_clean)"
   ]
  },
  {
   "cell_type": "code",
   "execution_count": 26,
   "metadata": {},
   "outputs": [],
   "source": [
    "# 用标准差缩小值\n",
    "scaler2 = StandardScaler(inputCol=\"scaledfeatures\", outputCol=\"scaledfeatures2\", withStd=True)\n",
    "scalerModel = scaler2.fit(df_clean)\n",
    "df_clean = scalerModel.transform(df_clean)"
   ]
  },
  {
   "cell_type": "code",
   "execution_count": 117,
   "metadata": {},
   "outputs": [
    {
     "data": {
      "text/plain": [
       "[Row(userId='100001', tsyear='2018', tsmonth='10', tsday='02', scaledfeatures2=DenseVector([0.0, 0.4998, 2.7777, 0.0, 22.3883, 1.4515, 0.486, 1.2227, 0.0]), churn=1),\n",
       " Row(userId='100001', tsyear='2018', tsmonth='10', tsday='02', scaledfeatures2=DenseVector([0.0, 0.4998, 2.7777, 0.0, 22.3883, 1.4515, 0.486, 1.2227, 0.0]), churn=0),\n",
       " Row(userId='100001', tsyear='2018', tsmonth='10', tsday='02', scaledfeatures2=DenseVector([0.0, 0.501, 2.7845, 0.0, 0.0, 1.4551, 0.4872, 1.2257, 0.0]), churn=0),\n",
       " Row(userId='100001', tsyear='2018', tsmonth='10', tsday='02', scaledfeatures2=DenseVector([0.0, 0.5375, 2.7737, 0.0, 0.0, 1.5609, 0.5227, 1.3149, 0.0]), churn=0),\n",
       " Row(userId='100001', tsyear='2018', tsmonth='10', tsday='02', scaledfeatures2=DenseVector([0.0, 0.5375, 2.7737, 0.0, 0.0, 1.5609, 0.5227, 1.3149, 0.0]), churn=0),\n",
       " Row(userId='100001', tsyear='2018', tsmonth='10', tsday='02', scaledfeatures2=DenseVector([0.0, 0.5375, 2.7737, 0.0, 0.0, 1.5609, 0.5227, 1.3149, 0.0]), churn=0),\n",
       " Row(userId='100001', tsyear='2018', tsmonth='10', tsday='02', scaledfeatures2=DenseVector([0.0, 0.5375, 2.7737, 0.0, 0.0, 1.5609, 0.5227, 1.3149, 0.0]), churn=0),\n",
       " Row(userId='100001', tsyear='2018', tsmonth='10', tsday='02', scaledfeatures2=DenseVector([0.0, 0.5375, 2.7737, 0.0, 0.0, 1.5609, 0.5227, 1.3149, 0.0]), churn=0),\n",
       " Row(userId='100001', tsyear='2018', tsmonth='10', tsday='02', scaledfeatures2=DenseVector([0.0, 0.5375, 2.7737, 0.0, 0.0, 1.5609, 0.5227, 1.3149, 0.0]), churn=0),\n",
       " Row(userId='100001', tsyear='2018', tsmonth='10', tsday='02', scaledfeatures2=DenseVector([0.0, 0.5375, 2.7737, 0.0, 0.0, 1.5609, 0.5227, 1.3149, 0.0]), churn=0),\n",
       " Row(userId='100001', tsyear='2018', tsmonth='10', tsday='02', scaledfeatures2=SparseVector(9, {1: 0.539, 2: 2.7815, 5: 1.5653, 7: 1.3186}), churn=0),\n",
       " Row(userId='100001', tsyear='2018', tsmonth='10', tsday='02', scaledfeatures2=SparseVector(9, {1: 0.539, 2: 2.7815, 5: 1.5653, 7: 1.3186}), churn=0),\n",
       " Row(userId='100001', tsyear='2018', tsmonth='10', tsday='02', scaledfeatures2=SparseVector(9, {1: 0.5814, 2: 2.7694, 5: 1.6884, 7: 1.4222}), churn=0),\n",
       " Row(userId='100001', tsyear='2018', tsmonth='10', tsday='02', scaledfeatures2=SparseVector(9, {1: 0.5814, 2: 2.7694, 5: 1.6884, 7: 1.4222}), churn=0),\n",
       " Row(userId='100001', tsyear='2018', tsmonth='10', tsday='02', scaledfeatures2=SparseVector(9, {1: 0.5814, 2: 2.7694, 5: 1.6884, 7: 1.4222}), churn=0),\n",
       " Row(userId='100001', tsyear='2018', tsmonth='10', tsday='02', scaledfeatures2=SparseVector(9, {1: 0.5814, 2: 2.7694, 5: 1.6884, 7: 1.4222}), churn=0),\n",
       " Row(userId='100001', tsyear='2018', tsmonth='10', tsday='02', scaledfeatures2=SparseVector(9, {1: 0.5814, 2: 2.7694, 5: 1.6884, 7: 1.4222}), churn=0),\n",
       " Row(userId='100001', tsyear='2018', tsmonth='10', tsday='02', scaledfeatures2=SparseVector(9, {1: 0.5814, 2: 2.7694, 5: 1.6884, 7: 1.4222}), churn=0),\n",
       " Row(userId='100001', tsyear='2018', tsmonth='10', tsday='02', scaledfeatures2=SparseVector(9, {1: 0.5814, 2: 2.7694, 5: 1.6884, 7: 1.4222}), churn=0),\n",
       " Row(userId='100001', tsyear='2018', tsmonth='10', tsday='02', scaledfeatures2=SparseVector(9, {1: 0.5814, 2: 2.7694, 5: 1.6884, 7: 1.4222}), churn=0),\n",
       " Row(userId='100001', tsyear='2018', tsmonth='10', tsday='02', scaledfeatures2=SparseVector(9, {1: 0.5814, 2: 2.7694, 5: 1.6884, 7: 1.4222}), churn=0),\n",
       " Row(userId='100001', tsyear='2018', tsmonth='10', tsday='02', scaledfeatures2=SparseVector(9, {1: 0.5814, 2: 2.7694, 5: 1.6884, 7: 1.4222}), churn=0),\n",
       " Row(userId='100001', tsyear='2018', tsmonth='10', tsday='02', scaledfeatures2=SparseVector(9, {1: 0.5814, 2: 2.7694, 5: 1.6884, 7: 1.4222}), churn=0),\n",
       " Row(userId='100001', tsyear='2018', tsmonth='10', tsday='02', scaledfeatures2=SparseVector(9, {1: 0.5814, 2: 2.7694, 5: 1.6884, 7: 1.4222}), churn=0),\n",
       " Row(userId='100001', tsyear='2018', tsmonth='10', tsday='02', scaledfeatures2=SparseVector(9, {1: 0.5814, 2: 2.7694, 5: 1.6884, 7: 1.4222}), churn=0),\n",
       " Row(userId='100001', tsyear='2018', tsmonth='10', tsday='02', scaledfeatures2=SparseVector(9, {1: 0.5814, 2: 2.7694, 5: 1.6884, 7: 1.4222}), churn=0),\n",
       " Row(userId='100001', tsyear='2018', tsmonth='10', tsday='02', scaledfeatures2=SparseVector(9, {1: 0.5814, 2: 2.7694, 5: 1.6884, 7: 1.4222}), churn=0),\n",
       " Row(userId='100001', tsyear='2018', tsmonth='10', tsday='02', scaledfeatures2=SparseVector(9, {1: 0.5814, 2: 2.7694, 5: 1.6884, 7: 1.4222}), churn=0),\n",
       " Row(userId='100001', tsyear='2018', tsmonth='10', tsday='02', scaledfeatures2=SparseVector(9, {1: 0.5814, 2: 2.7694, 5: 1.6884, 7: 1.4222}), churn=0),\n",
       " Row(userId='100001', tsyear='2018', tsmonth='10', tsday='02', scaledfeatures2=SparseVector(9, {1: 0.5814, 2: 2.7694, 5: 1.6884, 7: 1.4222}), churn=0),\n",
       " Row(userId='100001', tsyear='2018', tsmonth='10', tsday='02', scaledfeatures2=SparseVector(9, {1: 0.5833, 2: 2.7785, 5: 1.6939}), churn=0),\n",
       " Row(userId='100001', tsyear='2018', tsmonth='10', tsday='02', scaledfeatures2=SparseVector(9, {1: 0.5833, 2: 2.7785, 5: 1.6939}), churn=0),\n",
       " Row(userId='100001', tsyear='2018', tsmonth='10', tsday='02', scaledfeatures2=SparseVector(9, {1: 0.5833, 2: 2.7785, 5: 1.6939}), churn=0),\n",
       " Row(userId='100001', tsyear='2018', tsmonth='10', tsday='02', scaledfeatures2=SparseVector(9, {1: 0.5833, 2: 2.7785, 5: 1.6939}), churn=0),\n",
       " Row(userId='100001', tsyear='2018', tsmonth='10', tsday='02', scaledfeatures2=SparseVector(9, {1: 0.5833, 2: 2.7785, 5: 1.6939}), churn=0),\n",
       " Row(userId='100001', tsyear='2018', tsmonth='10', tsday='02', scaledfeatures2=SparseVector(9, {1: 0.5833, 2: 2.7785, 5: 1.6939}), churn=0),\n",
       " Row(userId='100001', tsyear='2018', tsmonth='10', tsday='02', scaledfeatures2=SparseVector(9, {1: 0.5833, 2: 2.7785, 5: 1.6939}), churn=0),\n",
       " Row(userId='100001', tsyear='2018', tsmonth='10', tsday='02', scaledfeatures2=SparseVector(9, {1: 0.5833, 2: 2.7785, 5: 1.6939}), churn=0),\n",
       " Row(userId='100001', tsyear='2018', tsmonth='10', tsday='02', scaledfeatures2=SparseVector(9, {1: 0.5833, 2: 2.7785, 5: 1.6939}), churn=0),\n",
       " Row(userId='100001', tsyear='2018', tsmonth='10', tsday='02', scaledfeatures2=SparseVector(9, {1: 0.5833, 2: 2.7785, 5: 1.6939}), churn=0),\n",
       " Row(userId='100001', tsyear='2018', tsmonth='10', tsday='02', scaledfeatures2=SparseVector(9, {1: 0.5833, 2: 2.7785, 5: 1.6939}), churn=0),\n",
       " Row(userId='100001', tsyear='2018', tsmonth='10', tsday='02', scaledfeatures2=SparseVector(9, {1: 0.5833, 2: 2.7785, 5: 1.6939}), churn=0),\n",
       " Row(userId='100001', tsyear='2018', tsmonth='10', tsday='02', scaledfeatures2=SparseVector(9, {1: 0.5833, 2: 2.7785, 5: 1.6939}), churn=0),\n",
       " Row(userId='100001', tsyear='2018', tsmonth='10', tsday='02', scaledfeatures2=SparseVector(9, {1: 0.5833, 2: 2.7785, 5: 1.6939}), churn=0),\n",
       " Row(userId='100001', tsyear='2018', tsmonth='10', tsday='02', scaledfeatures2=SparseVector(9, {1: 0.5833, 2: 2.7785, 5: 1.6939}), churn=0),\n",
       " Row(userId='100001', tsyear='2018', tsmonth='10', tsday='02', scaledfeatures2=SparseVector(9, {1: 0.5833, 2: 2.7785, 5: 1.6939}), churn=0),\n",
       " Row(userId='100001', tsyear='2018', tsmonth='10', tsday='02', scaledfeatures2=SparseVector(9, {1: 0.5833, 2: 2.7785, 5: 1.6939}), churn=0),\n",
       " Row(userId='100001', tsyear='2018', tsmonth='10', tsday='02', scaledfeatures2=SparseVector(9, {1: 0.5833, 2: 2.7785, 5: 1.6939}), churn=0),\n",
       " Row(userId='100001', tsyear='2018', tsmonth='10', tsday='02', scaledfeatures2=SparseVector(9, {1: 0.5833, 2: 2.7785, 5: 1.6939}), churn=0),\n",
       " Row(userId='100001', tsyear='2018', tsmonth='10', tsday='02', scaledfeatures2=SparseVector(9, {1: 0.5833, 2: 2.7785, 5: 1.6939}), churn=0),\n",
       " Row(userId='100001', tsyear='2018', tsmonth='10', tsday='02', scaledfeatures2=SparseVector(9, {1: 0.5833, 2: 2.7785, 5: 1.6939}), churn=0),\n",
       " Row(userId='100001', tsyear='2018', tsmonth='10', tsday='02', scaledfeatures2=SparseVector(9, {1: 0.2946, 2: 2.8063, 5: 1.7109}), churn=0),\n",
       " Row(userId='100001', tsyear='2018', tsmonth='10', tsday='02', scaledfeatures2=SparseVector(9, {1: 0.2946, 2: 2.8063, 5: 1.7109}), churn=0),\n",
       " Row(userId='100001', tsyear='2018', tsmonth='10', tsday='02', scaledfeatures2=SparseVector(9, {1: 0.2946, 2: 2.8063, 5: 1.7109}), churn=0),\n",
       " Row(userId='100001', tsyear='2018', tsmonth='10', tsday='02', scaledfeatures2=SparseVector(9, {1: 0.2946, 2: 2.8063, 5: 1.7109}), churn=0),\n",
       " Row(userId='100001', tsyear='2018', tsmonth='10', tsday='02', scaledfeatures2=SparseVector(9, {1: 0.2946, 2: 2.8063, 5: 1.7109}), churn=0),\n",
       " Row(userId='100001', tsyear='2018', tsmonth='10', tsday='02', scaledfeatures2=SparseVector(9, {1: 0.2946, 2: 2.8063, 5: 1.7109}), churn=0),\n",
       " Row(userId='100001', tsyear='2018', tsmonth='10', tsday='02', scaledfeatures2=SparseVector(9, {1: 0.2946, 2: 2.8063, 5: 1.7109}), churn=0),\n",
       " Row(userId='100001', tsyear='2018', tsmonth='10', tsday='02', scaledfeatures2=SparseVector(9, {1: 0.2946, 2: 2.8063, 5: 1.7109}), churn=0),\n",
       " Row(userId='100001', tsyear='2018', tsmonth='10', tsday='02', scaledfeatures2=SparseVector(9, {1: 0.2946, 2: 2.8063, 5: 1.7109}), churn=0),\n",
       " Row(userId='100001', tsyear='2018', tsmonth='10', tsday='02', scaledfeatures2=SparseVector(9, {1: 0.2946, 2: 2.8063, 5: 1.7109}), churn=0),\n",
       " Row(userId='100001', tsyear='2018', tsmonth='10', tsday='02', scaledfeatures2=SparseVector(9, {1: 0.3203, 2: 2.7974, 5: 1.8605}), churn=0),\n",
       " Row(userId='100001', tsyear='2018', tsmonth='10', tsday='02', scaledfeatures2=SparseVector(9, {1: 0.3203, 2: 2.7974, 5: 1.8605}), churn=0),\n",
       " Row(userId='100001', tsyear='2018', tsmonth='10', tsday='02', scaledfeatures2=SparseVector(9, {1: 0.3509, 2: 2.7858, 5: 2.0381}), churn=0),\n",
       " Row(userId='100001', tsyear='2018', tsmonth='10', tsday='02', scaledfeatures2=SparseVector(9, {1: 0.3509, 2: 2.7858, 5: 2.0381}), churn=0),\n",
       " Row(userId='100001', tsyear='2018', tsmonth='10', tsday='02', scaledfeatures2=SparseVector(9, {1: 0.3509, 2: 2.7858, 5: 2.0381}), churn=0),\n",
       " Row(userId='100001', tsyear='2018', tsmonth='10', tsday='02', scaledfeatures2=SparseVector(9, {1: 0.3509, 2: 2.7858, 5: 2.0381}), churn=0),\n",
       " Row(userId='100001', tsyear='2018', tsmonth='10', tsday='02', scaledfeatures2=SparseVector(9, {1: 0.3509, 2: 2.7858, 5: 2.0381}), churn=0),\n",
       " Row(userId='100001', tsyear='2018', tsmonth='10', tsday='02', scaledfeatures2=SparseVector(9, {1: 0.3509, 2: 2.7858, 5: 2.0381}), churn=0),\n",
       " Row(userId='100001', tsyear='2018', tsmonth='10', tsday='02', scaledfeatures2=SparseVector(9, {1: 0.3509, 2: 2.7858, 5: 2.0381}), churn=0),\n",
       " Row(userId='100001', tsyear='2018', tsmonth='10', tsday='02', scaledfeatures2=SparseVector(9, {1: 0.3509, 2: 2.7858, 5: 2.0381}), churn=0),\n",
       " Row(userId='100001', tsyear='2018', tsmonth='10', tsday='02', scaledfeatures2=SparseVector(9, {1: 0.3509, 2: 2.7858, 5: 2.0381}), churn=0),\n",
       " Row(userId='100001', tsyear='2018', tsmonth='10', tsday='02', scaledfeatures2=SparseVector(9, {1: 0.3509, 2: 2.7858, 5: 2.0381}), churn=0),\n",
       " Row(userId='100001', tsyear='2018', tsmonth='10', tsday='02', scaledfeatures2=SparseVector(9, {1: 0.3509, 2: 2.7858, 5: 2.0381}), churn=0),\n",
       " Row(userId='100001', tsyear='2018', tsmonth='10', tsday='02', scaledfeatures2=SparseVector(9, {1: 0.3509, 2: 2.7858, 5: 2.0381}), churn=0),\n",
       " Row(userId='100001', tsyear='2018', tsmonth='10', tsday='02', scaledfeatures2=SparseVector(9, {1: 0.3877, 2: 2.7704, 5: 2.252}), churn=0),\n",
       " Row(userId='100001', tsyear='2018', tsmonth='10', tsday='02', scaledfeatures2=SparseVector(9, {1: 0.4329, 2: 2.7492, 5: 2.5141}), churn=0),\n",
       " Row(userId='100001', tsyear='2018', tsmonth='10', tsday='02', scaledfeatures2=SparseVector(9, {1: 0.4329, 2: 2.7492, 5: 2.5141}), churn=0),\n",
       " Row(userId='100001', tsyear='2018', tsmonth='10', tsday='02', scaledfeatures2=SparseVector(9, {1: 0.4426, 2: 2.811, 5: 1.2853}), churn=0),\n",
       " Row(userId='100001', tsyear='2018', tsmonth='10', tsday='02', scaledfeatures2=SparseVector(9, {1: 0.4426, 2: 2.811, 5: 1.2853}), churn=0),\n",
       " Row(userId='100001', tsyear='2018', tsmonth='10', tsday='02', scaledfeatures2=SparseVector(9, {1: 0.4426, 2: 2.811, 5: 1.2853}), churn=0),\n",
       " Row(userId='100001', tsyear='2018', tsmonth='10', tsday='02', scaledfeatures2=SparseVector(9, {1: 0.4426, 2: 2.811, 5: 1.2853}), churn=0),\n",
       " Row(userId='100001', tsyear='2018', tsmonth='10', tsday='02', scaledfeatures2=SparseVector(9, {1: 0.4426, 2: 2.811, 5: 1.2853}), churn=0),\n",
       " Row(userId='100001', tsyear='2018', tsmonth='10', tsday='02', scaledfeatures2=SparseVector(9, {1: 0.4426, 2: 2.811, 5: 1.2853}), churn=0),\n",
       " Row(userId='100001', tsyear='2018', tsmonth='10', tsday='02', scaledfeatures2=SparseVector(9, {1: 0.4426, 2: 2.811, 5: 1.2853}), churn=0),\n",
       " Row(userId='100001', tsyear='2018', tsmonth='10', tsday='02', scaledfeatures2=SparseVector(9, {1: 0.4426, 2: 2.811, 5: 1.2853}), churn=0),\n",
       " Row(userId='100001', tsyear='2018', tsmonth='10', tsday='02', scaledfeatures2=SparseVector(9, {1: 0.4426, 2: 2.811, 5: 1.2853}), churn=0),\n",
       " Row(userId='100001', tsyear='2018', tsmonth='10', tsday='02', scaledfeatures2=SparseVector(9, {1: 0.4426, 2: 2.811, 5: 1.2853}), churn=0),\n",
       " Row(userId='100001', tsyear='2018', tsmonth='10', tsday='02', scaledfeatures2=SparseVector(9, {1: 0.4426, 2: 2.811, 5: 1.2853}), churn=0),\n",
       " Row(userId='100001', tsyear='2018', tsmonth='10', tsday='02', scaledfeatures2=SparseVector(9, {1: 0.4426, 2: 2.811, 5: 1.2853}), churn=0),\n",
       " Row(userId='100001', tsyear='2018', tsmonth='10', tsday='02', scaledfeatures2=SparseVector(9, {1: 0.4426, 2: 2.811, 5: 1.2853}), churn=0),\n",
       " Row(userId='100001', tsyear='2018', tsmonth='10', tsday='02', scaledfeatures2=SparseVector(9, {1: 0.4426, 2: 2.811, 5: 1.2853}), churn=0),\n",
       " Row(userId='100001', tsyear='2018', tsmonth='10', tsday='02', scaledfeatures2=SparseVector(9, {1: 0.4426, 2: 2.811, 5: 1.2853}), churn=0),\n",
       " Row(userId='100001', tsyear='2018', tsmonth='10', tsday='02', scaledfeatures2=SparseVector(9, {1: 0.5035, 2: 2.7981, 5: 1.4622}), churn=0),\n",
       " Row(userId='100001', tsyear='2018', tsmonth='10', tsday='02', scaledfeatures2=SparseVector(9, {1: 0.5035, 2: 2.7981, 5: 1.4622}), churn=0),\n",
       " Row(userId='100001', tsyear='2018', tsmonth='10', tsday='02', scaledfeatures2=SparseVector(9, {1: 0.5035, 2: 2.7981, 5: 1.4622}), churn=0),\n",
       " Row(userId='100001', tsyear='2018', tsmonth='10', tsday='02', scaledfeatures2=SparseVector(9, {1: 0.5035, 2: 2.7981, 5: 1.4622}), churn=0),\n",
       " Row(userId='100001', tsyear='2018', tsmonth='10', tsday='02', scaledfeatures2=SparseVector(9, {1: 0.5085, 2: 2.8259}), churn=0),\n",
       " Row(userId='100001', tsyear='2018', tsmonth='10', tsday='02', scaledfeatures2=SparseVector(9, {1: 0.5085, 2: 2.8259}), churn=0),\n",
       " Row(userId='100001', tsyear='2018', tsmonth='10', tsday='02', scaledfeatures2=SparseVector(9, {1: 0.5085, 2: 2.8259}), churn=0),\n",
       " Row(userId='100001', tsyear='2018', tsmonth='10', tsday='02', scaledfeatures2=SparseVector(9, {1: 0.5085, 2: 2.8259}), churn=0),\n",
       " Row(userId='100001', tsyear='2018', tsmonth='10', tsday='02', scaledfeatures2=SparseVector(9, {1: 0.5085, 2: 2.8259}), churn=0),\n",
       " Row(userId='100001', tsyear='2018', tsmonth='10', tsday='02', scaledfeatures2=SparseVector(9, {1: 0.5085, 2: 2.8259}), churn=0),\n",
       " Row(userId='100001', tsyear='2018', tsmonth='10', tsday='02', scaledfeatures2=SparseVector(9, {1: 0.5085, 2: 2.8259}), churn=0),\n",
       " Row(userId='100001', tsyear='2018', tsmonth='10', tsday='02', scaledfeatures2=SparseVector(9, {1: 0.5085, 2: 2.8259}), churn=0),\n",
       " Row(userId='100001', tsyear='2018', tsmonth='10', tsday='02', scaledfeatures2=SparseVector(9, {1: 0.5085, 2: 2.8259}), churn=0),\n",
       " Row(userId='100001', tsyear='2018', tsmonth='10', tsday='02', scaledfeatures2=SparseVector(9, {1: 0.5085, 2: 2.8259}), churn=0),\n",
       " Row(userId='100001', tsyear='2018', tsmonth='10', tsday='02', scaledfeatures2=SparseVector(9, {1: 0.5085, 2: 2.8259}), churn=0),\n",
       " Row(userId='100001', tsyear='2018', tsmonth='10', tsday='02', scaledfeatures2=SparseVector(9, {1: 0.5085, 2: 2.8259}), churn=0),\n",
       " Row(userId='100001', tsyear='2018', tsmonth='10', tsday='02', scaledfeatures2=SparseVector(9, {1: 0.5085, 2: 2.8259}), churn=0),\n",
       " Row(userId='100001', tsyear='2018', tsmonth='10', tsday='02', scaledfeatures2=SparseVector(9, {1: 0.5911, 2: 2.8158}), churn=0),\n",
       " Row(userId='100001', tsyear='2018', tsmonth='10', tsday='02', scaledfeatures2=SparseVector(9, {1: 0.5911, 2: 2.8158}), churn=0),\n",
       " Row(userId='100001', tsyear='2018', tsmonth='10', tsday='02', scaledfeatures2=SparseVector(9, {1: 0.5911, 2: 2.8158}), churn=0),\n",
       " Row(userId='100001', tsyear='2018', tsmonth='10', tsday='02', scaledfeatures2=SparseVector(9, {1: 0.5911, 2: 2.8158}), churn=0),\n",
       " Row(userId='100001', tsyear='2018', tsmonth='10', tsday='02', scaledfeatures2=SparseVector(9, {1: 0.5911, 2: 2.8158}), churn=0),\n",
       " Row(userId='100001', tsyear='2018', tsmonth='10', tsday='02', scaledfeatures2=SparseVector(9, {1: 0.5911, 2: 2.8158}), churn=0),\n",
       " Row(userId='100001', tsyear='2018', tsmonth='10', tsday='02', scaledfeatures2=SparseVector(9, {1: 0.5911, 2: 2.8158}), churn=0),\n",
       " Row(userId='100001', tsyear='2018', tsmonth='10', tsday='02', scaledfeatures2=SparseVector(9, {1: 0.5911, 2: 2.8158}), churn=0),\n",
       " Row(userId='100001', tsyear='2018', tsmonth='10', tsday='02', scaledfeatures2=SparseVector(9, {1: 0.5911, 2: 2.8158}), churn=0),\n",
       " Row(userId='100001', tsyear='2018', tsmonth='10', tsday='02', scaledfeatures2=SparseVector(9, {1: 0.5911, 2: 2.8158}), churn=0),\n",
       " Row(userId='100001', tsyear='2018', tsmonth='10', tsday='02', scaledfeatures2=SparseVector(9, {1: 0.5911, 2: 2.8158}), churn=0),\n",
       " Row(userId='100001', tsyear='2018', tsmonth='10', tsday='02', scaledfeatures2=SparseVector(9, {1: 0.5911, 2: 2.8158}), churn=0),\n",
       " Row(userId='100001', tsyear='2018', tsmonth='10', tsday='02', scaledfeatures2=SparseVector(9, {1: 0.5911, 2: 2.8158}), churn=0),\n",
       " Row(userId='100001', tsyear='2018', tsmonth='10', tsday='02', scaledfeatures2=SparseVector(9, {1: 0.5911, 2: 2.8158}), churn=0),\n",
       " Row(userId='100001', tsyear='2018', tsmonth='10', tsday='02', scaledfeatures2=SparseVector(9, {1: 0.5911, 2: 2.8158}), churn=0),\n",
       " Row(userId='100001', tsyear='2018', tsmonth='10', tsday='02', scaledfeatures2=SparseVector(9, {1: 0.5911, 2: 2.8158}), churn=0),\n",
       " Row(userId='100001', tsyear='2018', tsmonth='10', tsday='02', scaledfeatures2=SparseVector(9, {1: 0.5911, 2: 2.8158}), churn=0),\n",
       " Row(userId='100001', tsyear='2018', tsmonth='10', tsday='02', scaledfeatures2=SparseVector(9, {1: 0.7052, 2: 2.7992}), churn=0),\n",
       " Row(userId='100001', tsyear='2018', tsmonth='10', tsday='02', scaledfeatures2=SparseVector(9, {1: 0.7052, 2: 2.7992}), churn=0),\n",
       " Row(userId='100001', tsyear='2018', tsmonth='10', tsday='02', scaledfeatures2=SparseVector(9, {1: 0.7052, 2: 2.7992}), churn=0),\n",
       " Row(userId='100001', tsyear='2018', tsmonth='10', tsday='02', scaledfeatures2=SparseVector(9, {1: 0.7052, 2: 2.7992}), churn=0),\n",
       " Row(userId='100001', tsyear='2018', tsmonth='10', tsday='02', scaledfeatures2=SparseVector(9, {1: 0.7052, 2: 2.7992}), churn=0),\n",
       " Row(userId='100001', tsyear='2018', tsmonth='10', tsday='02', scaledfeatures2=SparseVector(9, {1: 0.7052, 2: 2.7992}), churn=0),\n",
       " Row(userId='100001', tsyear='2018', tsmonth='10', tsday='02', scaledfeatures2=SparseVector(9, {1: 0.7052, 2: 2.7992}), churn=0),\n",
       " Row(userId='100001', tsyear='2018', tsmonth='10', tsday='02', scaledfeatures2=SparseVector(9, {1: 0.7052, 2: 2.7992}), churn=0),\n",
       " Row(userId='100001', tsyear='2018', tsmonth='10', tsday='02', scaledfeatures2=SparseVector(9, {1: 0.7052, 2: 2.7992}), churn=0),\n",
       " Row(userId='100001', tsyear='2018', tsmonth='10', tsday='01', scaledfeatures2=SparseVector(9, {1: 0.7052, 2: 2.7992}), churn=0),\n",
       " Row(userId='100001', tsyear='2018', tsmonth='10', tsday='01', scaledfeatures2=SparseVector(9, {1: 0.7052, 2: 2.7992}), churn=0),\n",
       " Row(userId='100001', tsyear='2018', tsmonth='10', tsday='01', scaledfeatures2=SparseVector(9, {1: 0.7052, 2: 2.7992}), churn=0),\n",
       " Row(userId='100001', tsyear='2018', tsmonth='10', tsday='01', scaledfeatures2=SparseVector(9, {1: 0.7052, 2: 2.7992}), churn=0),\n",
       " Row(userId='100001', tsyear='2018', tsmonth='10', tsday='01', scaledfeatures2=SparseVector(9, {1: 0.7052, 2: 2.7992}), churn=0),\n",
       " Row(userId='100001', tsyear='2018', tsmonth='10', tsday='01', scaledfeatures2=SparseVector(9, {1: 0.7052, 2: 2.7992}), churn=0),\n",
       " Row(userId='100001', tsyear='2018', tsmonth='10', tsday='01', scaledfeatures2=SparseVector(9, {1: 0.7052, 2: 2.7992}), churn=0),\n",
       " Row(userId='100001', tsyear='2018', tsmonth='10', tsday='01', scaledfeatures2=SparseVector(9, {1: 0.7052, 2: 2.7992}), churn=0),\n",
       " Row(userId='100001', tsyear='2018', tsmonth='10', tsday='01', scaledfeatures2=SparseVector(9, {1: 0.7052, 2: 2.7992}), churn=0),\n",
       " Row(userId='100001', tsyear='2018', tsmonth='10', tsday='01', scaledfeatures2=SparseVector(9, {1: 0.7052, 2: 2.7992}), churn=0),\n",
       " Row(userId='100001', tsyear='2018', tsmonth='10', tsday='01', scaledfeatures2=SparseVector(9, {1: 0.7052, 2: 2.7992}), churn=0),\n",
       " Row(userId='100001', tsyear='2018', tsmonth='10', tsday='01', scaledfeatures2=SparseVector(9, {2: 2.8546}), churn=0),\n",
       " Row(userId='100001', tsyear='2018', tsmonth='10', tsday='01', scaledfeatures2=SparseVector(9, {2: 2.8546}), churn=0),\n",
       " Row(userId='100001', tsyear='2018', tsmonth='10', tsday='01', scaledfeatures2=SparseVector(9, {2: 2.8546}), churn=0),\n",
       " Row(userId='100001', tsyear='2018', tsmonth='10', tsday='01', scaledfeatures2=SparseVector(9, {2: 2.8546}), churn=0),\n",
       " Row(userId='100001', tsyear='2018', tsmonth='10', tsday='01', scaledfeatures2=SparseVector(9, {2: 2.8546}), churn=0),\n",
       " Row(userId='100001', tsyear='2018', tsmonth='10', tsday='01', scaledfeatures2=SparseVector(9, {2: 2.8546}), churn=0),\n",
       " Row(userId='100001', tsyear='2018', tsmonth='10', tsday='01', scaledfeatures2=SparseVector(9, {2: 2.8546}), churn=0),\n",
       " Row(userId='100001', tsyear='2018', tsmonth='10', tsday='01', scaledfeatures2=SparseVector(9, {2: 2.8546}), churn=0),\n",
       " Row(userId='100001', tsyear='2018', tsmonth='10', tsday='01', scaledfeatures2=SparseVector(9, {2: 2.8546}), churn=0),\n",
       " Row(userId='100001', tsyear='2018', tsmonth='10', tsday='01', scaledfeatures2=SparseVector(9, {2: 2.8546}), churn=0),\n",
       " Row(userId='100001', tsyear='2018', tsmonth='10', tsday='01', scaledfeatures2=SparseVector(9, {2: 2.8546}), churn=0),\n",
       " Row(userId='100001', tsyear='2018', tsmonth='10', tsday='01', scaledfeatures2=SparseVector(9, {2: 2.8546}), churn=0),\n",
       " Row(userId='100001', tsyear='2018', tsmonth='10', tsday='01', scaledfeatures2=SparseVector(9, {2: 2.8546}), churn=0),\n",
       " Row(userId='100001', tsyear='2018', tsmonth='10', tsday='01', scaledfeatures2=SparseVector(9, {2: 2.8546}), churn=0),\n",
       " Row(userId='100001', tsyear='2018', tsmonth='10', tsday='01', scaledfeatures2=SparseVector(9, {2: 2.8546}), churn=0),\n",
       " Row(userId='100001', tsyear='2018', tsmonth='10', tsday='01', scaledfeatures2=SparseVector(9, {2: 2.8546}), churn=0),\n",
       " Row(userId='100001', tsyear='2018', tsmonth='10', tsday='01', scaledfeatures2=SparseVector(9, {2: 2.8546}), churn=0),\n",
       " Row(userId='100001', tsyear='2018', tsmonth='10', tsday='01', scaledfeatures2=SparseVector(9, {2: 2.8546}), churn=0),\n",
       " Row(userId='100001', tsyear='2018', tsmonth='10', tsday='01', scaledfeatures2=SparseVector(9, {2: 2.8546}), churn=0),\n",
       " Row(userId='100001', tsyear='2018', tsmonth='10', tsday='01', scaledfeatures2=SparseVector(9, {2: 2.8546}), churn=0),\n",
       " Row(userId='100001', tsyear='2018', tsmonth='10', tsday='01', scaledfeatures2=SparseVector(9, {2: 2.8546}), churn=0),\n",
       " Row(userId='100001', tsyear='2018', tsmonth='10', tsday='01', scaledfeatures2=SparseVector(9, {2: 2.8546}), churn=0),\n",
       " Row(userId='100001', tsyear='2018', tsmonth='10', tsday='01', scaledfeatures2=SparseVector(9, {2: 2.8546}), churn=0),\n",
       " Row(userId='100001', tsyear='2018', tsmonth='10', tsday='01', scaledfeatures2=SparseVector(9, {2: 2.8546}), churn=0),\n",
       " Row(userId='100001', tsyear='2018', tsmonth='10', tsday='01', scaledfeatures2=SparseVector(9, {2: 2.8546}), churn=0),\n",
       " Row(userId='100001', tsyear='2018', tsmonth='10', tsday='01', scaledfeatures2=SparseVector(9, {2: 2.8546}), churn=0),\n",
       " Row(userId='100001', tsyear='2018', tsmonth='10', tsday='01', scaledfeatures2=SparseVector(9, {2: 2.8546}), churn=0),\n",
       " Row(userId='100001', tsyear='2018', tsmonth='10', tsday='01', scaledfeatures2=SparseVector(9, {2: 2.8546}), churn=0),\n",
       " Row(userId='100001', tsyear='2018', tsmonth='10', tsday='01', scaledfeatures2=SparseVector(9, {2: 2.8546}), churn=0),\n",
       " Row(userId='100001', tsyear='2018', tsmonth='10', tsday='01', scaledfeatures2=SparseVector(9, {2: 2.8546}), churn=0),\n",
       " Row(userId='100001', tsyear='2018', tsmonth='10', tsday='01', scaledfeatures2=SparseVector(9, {2: 2.8546}), churn=0),\n",
       " Row(userId='100001', tsyear='2018', tsmonth='10', tsday='01', scaledfeatures2=SparseVector(9, {2: 2.8546}), churn=0),\n",
       " Row(userId='100001', tsyear='2018', tsmonth='10', tsday='01', scaledfeatures2=SparseVector(9, {2: 2.8546}), churn=0),\n",
       " Row(userId='100001', tsyear='2018', tsmonth='10', tsday='01', scaledfeatures2=SparseVector(9, {2: 2.8546}), churn=0),\n",
       " Row(userId='100001', tsyear='2018', tsmonth='10', tsday='01', scaledfeatures2=SparseVector(9, {2: 2.8546}), churn=0),\n",
       " Row(userId='100001', tsyear='2018', tsmonth='10', tsday='01', scaledfeatures2=SparseVector(9, {2: 2.8546}), churn=0),\n",
       " Row(userId='100001', tsyear='2018', tsmonth='10', tsday='01', scaledfeatures2=SparseVector(9, {2: 2.8546}), churn=0),\n",
       " Row(userId='100001', tsyear='2018', tsmonth='10', tsday='01', scaledfeatures2=SparseVector(9, {2: 2.8546}), churn=0),\n",
       " Row(userId='100001', tsyear='2018', tsmonth='10', tsday='01', scaledfeatures2=SparseVector(9, {}), churn=0),\n",
       " Row(userId='100001', tsyear='2018', tsmonth='10', tsday='01', scaledfeatures2=SparseVector(9, {}), churn=0)]"
      ]
     },
     "execution_count": 117,
     "metadata": {},
     "output_type": "execute_result"
    }
   ],
   "source": [
    "df_clean.select([\"userId\", \"tsyear\", \"tsmonth\", \"tsday\", \"scaledfeatures2\", \"churn\"]).filter(df_clean.userId == \"100001\").sort(desc(\"ts\")).collect()"
   ]
  },
  {
   "cell_type": "markdown",
   "metadata": {},
   "source": [
    "从上面的数据片段可以看到，`scaledfeatures2`特征已创建完毕"
   ]
  },
  {
   "cell_type": "markdown",
   "metadata": {},
   "source": [
    "# 建模\n",
    "\n",
    "**最终需要解决的问题是一个二分类问题**\n",
    "\n",
    "模型选择决定采用逻辑回归和决策树先进行尝试，如果预测效果不好，再选择其他模型\n",
    "\n",
    "- 逻辑回归模型:调整的参数先尝试`regParam`，使用0和0.1进行网格搜索\n",
    "\n",
    "- 决策树模型：调整的参数先尝试`maxDepth`，使用5和10进行网格搜索\n",
    "\n",
    "流失用户相对于整体用户的基数非常小，使用F1分数作为优化指标。实现精度和召回率平衡的模型\n",
    "\n",
    "操作步骤如下：\n",
    "\n",
    "1.将完整数据集分成训练集、测试集和验证集\n",
    "\n",
    "2.使用逻辑回归模型进行测试，得到f1分数和学习时间\n",
    "\n",
    "3.使用决策树模型进行测试，得到f1分数和学习时间\n",
    "\n",
    "4.比较两种模型的准确率，如果两种模型的f1分数低于0.9，尝试选择其他模型；如果效果较好，比较两个模型的学习效率"
   ]
  },
  {
   "cell_type": "code",
   "execution_count": 118,
   "metadata": {},
   "outputs": [],
   "source": [
    "from pyspark.ml.regression import LinearRegression\n",
    "from pyspark.sql.functions import col"
   ]
  },
  {
   "cell_type": "code",
   "execution_count": 119,
   "metadata": {},
   "outputs": [
    {
     "data": {
      "text/plain": [
       "Row(label=0, features=SparseVector(9, {}))"
      ]
     },
     "execution_count": 119,
     "metadata": {},
     "output_type": "execute_result"
    }
   ],
   "source": [
    "data = df_clean.select(col(\"churn\").alias(\"label\"), col(\"scaledfeatures2\").alias(\"features\"))\n",
    "data.head()"
   ]
  },
  {
   "cell_type": "code",
   "execution_count": 120,
   "metadata": {},
   "outputs": [],
   "source": [
    "rest, validation = data.randomSplit([0.9, 0.1], seed=42)"
   ]
  },
  {
   "cell_type": "code",
   "execution_count": 121,
   "metadata": {},
   "outputs": [],
   "source": [
    "from pyspark.ml.classification import LogisticRegression\n",
    "from pyspark.ml.tuning import CrossValidator, ParamGridBuilder\n",
    "from pyspark.ml.evaluation import MulticlassClassificationEvaluator\n",
    "from pyspark.ml.classification import DecisionTreeClassifier\n"
   ]
  },
  {
   "cell_type": "code",
   "execution_count": 153,
   "metadata": {},
   "outputs": [],
   "source": [
    "def getBestParam(cvModel):\n",
    "    params = cvModel.getEstimatorParamMaps()\n",
    "    avgMetrics = cvModel.avgMetrics\n",
    "\n",
    "    all_params = list(zip(params, avgMetrics))\n",
    "    best_param = sorted(all_params, key=lambda x: x[1], reverse=True)[0]\n",
    "    return best_param"
   ]
  },
  {
   "cell_type": "code",
   "execution_count": 124,
   "metadata": {},
   "outputs": [],
   "source": [
    "lr =  LogisticRegression(maxIter=10, regParam=0.0, elasticNetParam=0)\n",
    "paramGrid = ParamGridBuilder().addGrid(lr.regParam,[0.0, 0.1]).build()\n",
    "\n",
    "f1_score = MulticlassClassificationEvaluator(metricName = 'f1')\n",
    "\n",
    "\n",
    "crossval = CrossValidator(estimator=lr,\n",
    "                          estimatorParamMaps=paramGrid,\n",
    "                          evaluator=f1_score,\n",
    "                          numFolds=3)"
   ]
  },
  {
   "cell_type": "markdown",
   "metadata": {},
   "source": [
    "CrossValidator使用三次折叠，将生成三个（训练，测试）数据集对，每个对都使用2/3的数据进行训练，并使用1/3的数据进行测试，当数据集比较小的是否交叉验证可以“充分利用”有限的数据找到合适的模型参数，防止过度拟合"
   ]
  },
  {
   "cell_type": "code",
   "execution_count": 125,
   "metadata": {},
   "outputs": [
    {
     "name": "stdout",
     "output_type": "stream",
     "text": [
      "CPU times: user 3.03 s, sys: 797 ms, total: 3.83 s\n",
      "Wall time: 4min 54s\n"
     ]
    }
   ],
   "source": [
    "%%time\n",
    "cvModel_q1 = crossval.fit(rest)"
   ]
  },
  {
   "cell_type": "code",
   "execution_count": 154,
   "metadata": {},
   "outputs": [
    {
     "name": "stdout",
     "output_type": "stream",
     "text": [
      "{Param(parent='LogisticRegression_5aee873a4077', name='regParam', doc='regularization parameter (>= 0).'): 0.0}\n"
     ]
    }
   ],
   "source": [
    "best_param = getBestParam(cvModel_q1)\n",
    "print(best_param[0])"
   ]
  },
  {
   "cell_type": "markdown",
   "metadata": {},
   "source": [
    "逻辑回归模型的最佳超参数为regParam=0.0"
   ]
  },
  {
   "cell_type": "code",
   "execution_count": 155,
   "metadata": {},
   "outputs": [],
   "source": [
    "results = cvModel_q1.transform(validation)"
   ]
  },
  {
   "cell_type": "code",
   "execution_count": 156,
   "metadata": {},
   "outputs": [
    {
     "name": "stdout",
     "output_type": "stream",
     "text": [
      "逻辑回归分数:\n",
      "准确度: 0.9997849231100119\n",
      "f1分数: 0.9996773962307786\n",
      "验证集计算准确度与f1分数用时 53.09775471687317秒\n"
     ]
    }
   ],
   "source": [
    "from time import time\n",
    "# 查看结果\n",
    "# 时间也是衡量模型好坏的一个标准\n",
    "evaluator = MulticlassClassificationEvaluator(predictionCol = 'prediction')\n",
    "print(\"逻辑回归分数:\")\n",
    "start = time()\n",
    "print(\"准确度: {}\".format(evaluator.evaluate(results, {evaluator.metricName:'accuracy'})))\n",
    "print(\"f1分数: {}\".format(evaluator.evaluate(results, {evaluator.metricName:'f1'})))\n",
    "end = time()\n",
    "print(\"验证集计算准确度与f1分数用时 {}秒\".format(end - start))"
   ]
  },
  {
   "cell_type": "code",
   "execution_count": 157,
   "metadata": {},
   "outputs": [],
   "source": [
    "\n",
    "dt = DecisionTreeClassifier(labelCol=\"label\", featuresCol=\"features\")\n",
    "\n",
    "paramGrid = ParamGridBuilder().addGrid(dt.maxDepth,[5, 10]).build()\n",
    "f1_score = MulticlassClassificationEvaluator(metricName = 'f1')\n",
    "\n",
    "crossval = CrossValidator(estimator=dt,\n",
    "                          estimatorParamMaps=paramGrid,\n",
    "                          evaluator=f1_score,\n",
    "                          numFolds=3)"
   ]
  },
  {
   "cell_type": "markdown",
   "metadata": {},
   "source": [
    "CrossValidator使用三次折叠，将生成三个（训练，测试）数据集对，每个对都使用2/3的数据进行训练，并使用1/3的数据进行测试，当数据集比较小的是否交叉验证可以“充分利用”有限的数据找到合适的模型参数，防止过度拟合"
   ]
  },
  {
   "cell_type": "code",
   "execution_count": 158,
   "metadata": {},
   "outputs": [
    {
     "name": "stdout",
     "output_type": "stream",
     "text": [
      "CPU times: user 2.54 s, sys: 601 ms, total: 3.14 s\n",
      "Wall time: 4min 35s\n"
     ]
    }
   ],
   "source": [
    "%%time\n",
    "cvModel_q1 = crossval.fit(rest)"
   ]
  },
  {
   "cell_type": "code",
   "execution_count": 159,
   "metadata": {},
   "outputs": [
    {
     "name": "stdout",
     "output_type": "stream",
     "text": [
      "{Param(parent='DecisionTreeClassifier_9f5166b6c5d5', name='maxDepth', doc='Maximum depth of the tree. (>= 0) E.g., depth 0 means 1 leaf node; depth 1 means 1 internal node + 2 leaf nodes.'): 5}\n"
     ]
    }
   ],
   "source": [
    "best_param = getBestParam(cvModel_q1)\n",
    "print(best_param[0])"
   ]
  },
  {
   "cell_type": "markdown",
   "metadata": {},
   "source": [
    "逻辑回归模型的最佳超参数为maxDepth=5"
   ]
  },
  {
   "cell_type": "code",
   "execution_count": 160,
   "metadata": {},
   "outputs": [],
   "source": [
    "results = cvModel_q1.transform(validation)"
   ]
  },
  {
   "cell_type": "code",
   "execution_count": 161,
   "metadata": {},
   "outputs": [
    {
     "name": "stdout",
     "output_type": "stream",
     "text": [
      "决策树分数:\n",
      "准确度: 0.9996773846650178\n",
      "f1分数: 0.999623624117308\n",
      "验证集计算准确度与f1分数用时 51.14030480384827秒\n"
     ]
    }
   ],
   "source": [
    "from time import time\n",
    "# 查看结果\n",
    "# 时间也是衡量模型好坏的一个标准\n",
    "evaluator = MulticlassClassificationEvaluator(predictionCol = 'prediction')\n",
    "print(\"决策树分数:\")\n",
    "start = time()\n",
    "print(\"准确度: {}\".format(evaluator.evaluate(results, {evaluator.metricName:'accuracy'})))\n",
    "print(\"f1分数: {}\".format(evaluator.evaluate(results, {evaluator.metricName:'f1'})))\n",
    "end = time()\n",
    "print(\"验证集计算准确度与f1分数用时 {}秒\".format(end - start))"
   ]
  },
  {
   "cell_type": "markdown",
   "metadata": {},
   "source": [
    "## 建模结论\n",
    "1.逻辑回归模型的f1分数为0.9997，训练时间为4分54秒，验证集预测时间用时50.8秒\n",
    "\n",
    "2.决策树模型的f1分数为0.9996，训练时间为4分35秒，验证集预测时间用时50.1秒\n",
    "\n",
    "3.两个模型都非常棒，几乎没有差别，虽然逻辑回归模型的训练时间略高于决策树模型，但f1分数更高，因此我决定使用逻辑回归做为本项目使用的最终模型"
   ]
  },
  {
   "cell_type": "markdown",
   "metadata": {},
   "source": [
    "## 挑战与反思\n",
    "- 将用户的访问事件作为特征，难点在于需要将`page`特征提取每个事件作为特征，因此写了不少函数来提取\n",
    "- 在特征工程处理时，如果使用特征的独热编码，则特征的值比较稀疏，采用日志的独热编码值逐条相加再设置为特征值，是我认为处理最为成功的地方，结果也验证了这一想法，获得了不错的f1分数\n",
    "- 在特征选取中，也许忽略了一些相关性，如用户的听歌和添加歌单行为（我认为数量级太大影响其他特征），以及用户从注册到流失的存留时间是否也是一个关键因素，也是值得探索性分析的部分"
   ]
  }
 ],
 "metadata": {
  "kernelspec": {
   "display_name": "Python 3",
   "language": "python",
   "name": "python3"
  },
  "language_info": {
   "codemirror_mode": {
    "name": "ipython",
    "version": 3
   },
   "file_extension": ".py",
   "mimetype": "text/x-python",
   "name": "python",
   "nbconvert_exporter": "python",
   "pygments_lexer": "ipython3",
   "version": "3.6.3"
  }
 },
 "nbformat": 4,
 "nbformat_minor": 2
}
